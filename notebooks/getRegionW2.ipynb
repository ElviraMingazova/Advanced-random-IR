{
 "cells": [
  {
   "cell_type": "markdown",
   "metadata": {},
   "source": [
    "# Advanced random IR\n",
    "Week2: 13.03-19.03  \n",
    "Stage: model Zero - a simple model  \n",
    "This is a tool to generate random integration regions on genome of choice\n",
    "#### Authors: \n",
    "Elvira Mingazova, Saira Afzal, Raffaele Fronza 2017"
   ]
  },
  {
   "cell_type": "markdown",
   "metadata": {},
   "source": [
    "## Week 2 plan:\n",
    "1. Generalization of the genome dimension file\n",
    "2. Checking the input file\n",
    "3. Testing the script with three different genomes: human, mouse and honey bee\n",
    "4. Finding out the differences between:\n",
    "    + hg 38 and hg19  \n",
    "    + hg 38 versions \n",
    "5. Plotting and describing the empirical distribution function on chr1 with a sufficient number of samples"
   ]
  },
  {
   "cell_type": "markdown",
   "metadata": {},
   "source": [
    "### 1. Generalize genome dimension file  \n",
    "In the previous notebook file getRegionW1.ipynb the lenghts of the chromosomes were **hard coded**. Here we will change it by adding a new input argument -i. We will provide python with a text file where the chromosome names are in the first column and their lenghts in bp - in the second. Two columns are separated by tab or space.  \n",
    "Below is an example of the text file that should be provided."
   ]
  },
  {
   "cell_type": "code",
   "execution_count": 92,
   "metadata": {
    "collapsed": false,
    "scrolled": true
   },
   "outputs": [
    {
     "name": "stdout",
     "output_type": "stream",
     "text": [
      "chr1\t224999719\r\n",
      "chr2\t237712649\r\n",
      "chr3\t194704827\r\n",
      "chr4\t187297063\r\n",
      "chr5\t177702766\r\n"
     ]
    }
   ],
   "source": [
    "#To use bash commands inside of the notebook put \"!\" before\n",
    "!cat ../scripts/hg38.txt| head -n5"
   ]
  },
  {
   "cell_type": "markdown",
   "metadata": {},
   "source": [
    "Now we can modify the script in a way that it processes the text file and generates random integration regions on randomly chosen chromosomes."
   ]
  },
  {
   "cell_type": "code",
   "execution_count": 93,
   "metadata": {
    "collapsed": false
   },
   "outputs": [
    {
     "name": "stdout",
     "output_type": "stream",
     "text": [
      "{'chr13': 95559980, 'chr12': 130303534, 'chr11': 131130853, 'chr10': 131624737, 'chr17': 77800220, 'chr16': 78884754, 'chr15': 81341915, 'chr14': 88290585, 'chr19': 55785651, 'chr18': 74656155, 'chr24': 57741652, 'chr22': 34893953, 'chr23': 151058754, 'chr20': 59505254, 'chr21': 34171998, 'chr7': 154952424, 'chr6': 167273993, 'chr5': 177702766, 'chr4': 187297063, 'chr3': 194704827, 'chr2': 237712649, 'chr1': 224999719, 'chr9': 120312298, 'chr8': 142612826}\n"
     ]
    }
   ],
   "source": [
    "#Create an empty dictionary to fill in the contents of each line in the .txt file as key:value pairs\n",
    "dimension_dict = {}\n",
    "with open('/Users/elming/Advanced-random-IR/scripts/hg38.txt') as dimension_file:\n",
    "    for line in dimension_file:\n",
    "        \n",
    "        key, value = line.split()\n",
    "        #fill the dictionary and make sure the length is of a type int\n",
    "        dimension_dict[key.strip()]=int(value.strip())\n",
    "    print dimension_dict\n",
    "    dimension_file.close()"
   ]
  },
  {
   "cell_type": "markdown",
   "metadata": {},
   "source": [
    "Now we are ready to generate the integration regions"
   ]
  },
  {
   "cell_type": "code",
   "execution_count": 94,
   "metadata": {
    "collapsed": false
   },
   "outputs": [
    {
     "name": "stdout",
     "output_type": "stream",
     "text": [
      "chr11\n"
     ]
    }
   ],
   "source": [
    "import random\n",
    "#choose random chromosome\n",
    "chrom = random.choice(dimension_dict.keys())\n",
    "print chrom"
   ]
  },
  {
   "cell_type": "code",
   "execution_count": 95,
   "metadata": {
    "collapsed": false
   },
   "outputs": [
    {
     "name": "stdout",
     "output_type": "stream",
     "text": [
      "27837706\n"
     ]
    }
   ],
   "source": [
    "#select a site on that chromosome\n",
    "start = random.randint(1,dimension_dict[chrom])\n",
    "print start"
   ]
  },
  {
   "cell_type": "markdown",
   "metadata": {},
   "source": [
    "Now let's combine the code parts from getRegionW1.py and this notebook and write it into a getRegionW2.py"
   ]
  },
  {
   "cell_type": "code",
   "execution_count": 96,
   "metadata": {
    "collapsed": false
   },
   "outputs": [
    {
     "name": "stdout",
     "output_type": "stream",
     "text": [
      "Overwriting ../scripts/getRegionW2.py\n"
     ]
    }
   ],
   "source": [
    "%%writefile ../scripts/getRegionW2.py\n",
    "#parser setup\n",
    "import sys\n",
    "import argparse\n",
    "parser = argparse.ArgumentParser()\n",
    "parser.prog = 'progName.py'\n",
    "parser.description = 'You can provide the program with three parameters through the terminal'\n",
    "parser.add_argument(\"-n\", type=int, help='Number of integration regions generated')\n",
    "parser.add_argument(\"-r\", type=int, help='Range-value: defines an interval where the IR is located')\n",
    "parser.add_argument(\"-d\", type=int, help='Delta-value: expands the range with the value provided by user')\n",
    "#add new input argument\n",
    "parser.add_argument(\"-i\", help='Input-file .txt with names of chromosomes and their lengths in bp organized into two columns and separated by \\t')\n",
    "namespace = parser.parse_args((sys.argv[1:]))\n",
    "dimension_dict = {}\n",
    "with open(namespace.i) as dimension_file:\n",
    "    for line in dimension_file:\n",
    "        key, value = line.split(\"\\t\")\n",
    "        dimension_dict[key.strip()]=int(value.strip())\n",
    "    dimension_file.close()\n",
    "#loop on n random IR\n",
    "import random\n",
    "count = 1\n",
    "print \"chr#\", '\\t', 'Start', '\\t\\t', 'End', '\\t\\trnd#'\n",
    "for i in range(namespace.n):\n",
    "    #select a chromosome\n",
    "    chrom = random.choice(dimension_dict.keys())\n",
    "\n",
    "    #select a site on that chromosome\n",
    "    start = random.randint(1,dimension_dict[chrom])\n",
    "\n",
    "    #select a random region\n",
    "    end = start + random.randint(0,namespace.r) + namespace.d\n",
    "    if len(str(chrom))==1:\n",
    "        print chrom,'',\"\\t\",start,\"\\t\",end,\"\\trnd{}\".format(count)\n",
    "    else:\n",
    "        print chrom,\"\\t\",start,\"\\t\",end,\"\\trnd{}\".format(count)\n",
    "    count +=1\n"
   ]
  },
  {
   "cell_type": "markdown",
   "metadata": {},
   "source": [
    "We can run the script with a new input file provided in the command line. You can change any of the parameters"
   ]
  },
  {
   "cell_type": "code",
   "execution_count": 97,
   "metadata": {
    "collapsed": false
   },
   "outputs": [
    {
     "name": "stdout",
     "output_type": "stream",
     "text": [
      "chr# \tStart \t\tEnd \t\trnd#\r\n",
      "chr14 \t1944671 \t1944672 \trnd1\r\n",
      "chr8 \t79732127 \t79732128 \trnd2\r\n",
      "chr4 \t22139988 \t22139989 \trnd3\r\n",
      "chr9 \t14315167 \t14315168 \trnd4\r\n",
      "chr2 \t196919476 \t196919477 \trnd5\r\n"
     ]
    }
   ],
   "source": [
    "!python2 ../scripts/getRegionW2.py -n5 -r0 -d1 -i \"../scripts/hg38.txt\""
   ]
  },
  {
   "cell_type": "markdown",
   "metadata": {},
   "source": [
    "### 2. Check the script  \n",
    "In this part we want to add some testing options to the script to be able to check the input file. It has to fulfill the following coditions:\n",
    "- the file is well formatted (2 columns)\n",
    "- the first column contains a string \"chrXY\" where X and Y are digits\n",
    "- the second column contains an integer\n",
    "- the integer is not negative\n",
    "To test the file we could define \"checking\" functions"
   ]
  },
  {
   "cell_type": "code",
   "execution_count": 101,
   "metadata": {
    "collapsed": false
   },
   "outputs": [
    {
     "name": "stdout",
     "output_type": "stream",
     "text": [
      "Checking the format: the file is well formatted\n"
     ]
    }
   ],
   "source": [
    "#a function that proves whether the input file contains  two columns\n",
    "def checkFormatting():\n",
    "    check=True\n",
    "    with open('../scripts/hg38.txt') as dimension_file:\n",
    "        #go through all of the lines and check whether exactly two columns are present\n",
    "        for line in dimension_file:\n",
    "            result=line.split()\n",
    "            if len(result)==2:\n",
    "                continue\n",
    "            else:\n",
    "                print 'Checking the format: the file has to contain two columns'\n",
    "                check=False\n",
    "                break\n",
    "    dimension_file.close()\n",
    "    if check == True:\n",
    "        print \"Checking the format: the file is well formatted\"\n",
    "        \n",
    "checkFormatting()\n"
   ]
  },
  {
   "cell_type": "code",
   "execution_count": 102,
   "metadata": {
    "collapsed": false
   },
   "outputs": [
    {
     "name": "stdout",
     "output_type": "stream",
     "text": [
      "Checking the first column: group1 is not a chromosome name\n"
     ]
    }
   ],
   "source": [
    "#a function that proves whether the first column contains a string \"chrXY\" where X and Y are digits\n",
    "def checkColumn1():\n",
    "    check = True\n",
    "    #use regEx\n",
    "    import re\n",
    "    #save a regEx pattern matching \"chrXY\" where XY are digits\n",
    "    #is there a better regEx to use in this case? Wasn't sure if it's optimal\n",
    "    pattern = re.compile('(chr\\d\\Z|chr\\d\\d\\Z)',re.IGNORECASE)\n",
    "    with open('../scripts/hg38wrong2.txt') as dimension_file:\n",
    "        column1=[]\n",
    "        lines=dimension_file.readlines()\n",
    "        for line in lines:\n",
    "            column1.append(line.split()[0].strip())\n",
    "        for word in column1:\n",
    "            if re.match(pattern,word):\n",
    "                continue\n",
    "            else:\n",
    "                print \"Checking the first column: {} is not a chromosome name\".format(word)\n",
    "                check = False\n",
    "                break\n",
    "        if check == True:\n",
    "            print \"Checking the first column: the names of chromosomes are correct\"\n",
    "    dimension_file.close()\n",
    "    \n",
    "checkColumn1()"
   ]
  },
  {
   "cell_type": "markdown",
   "metadata": {},
   "source": [
    "In the file hg38wrong.txt one of the chromosome names in the first column was wrong, so it didn't match the regex and a help-message was printed. In the following cell you can try the regex used to match different words"
   ]
  },
  {
   "cell_type": "code",
   "execution_count": 103,
   "metadata": {
    "collapsed": false
   },
   "outputs": [
    {
     "name": "stdout",
     "output_type": "stream",
     "text": [
      "Chr1\n"
     ]
    }
   ],
   "source": [
    "a = \"Chr1\"\n",
    "b = \"chr20\"\n",
    "c = \"group1\"\n",
    "import re\n",
    "pattern=re.compile('(chr\\d\\Z|chr\\d\\d\\Z)',re.IGNORECASE)\n",
    "print re.match(pattern,a).group()"
   ]
  },
  {
   "cell_type": "markdown",
   "metadata": {},
   "source": [
    "And one more demonstration:"
   ]
  },
  {
   "cell_type": "code",
   "execution_count": 104,
   "metadata": {
    "collapsed": false
   },
   "outputs": [
    {
     "name": "stdout",
     "output_type": "stream",
     "text": [
      "False\n"
     ]
    }
   ],
   "source": [
    "if re.match(pattern,c):\n",
    "    print \"True\"\n",
    "else:\n",
    "    print \"False\""
   ]
  },
  {
   "cell_type": "code",
   "execution_count": 105,
   "metadata": {
    "collapsed": false
   },
   "outputs": [
    {
     "name": "stdout",
     "output_type": "stream",
     "text": [
      "Checking the second column: could not convert 81341915i to an integer\n"
     ]
    }
   ],
   "source": [
    "#a function that proves whether the second column contains a positive integer\n",
    "def checkColumn2():\n",
    "    check = True\n",
    "    with open('../scripts/hg38wrong3.txt') as dimension_file:\n",
    "        column2=[]\n",
    "        lines=dimension_file.readlines()\n",
    "        for line in lines:\n",
    "            try:\n",
    "                #extract the second column to a list and try to convert each element into an integer\n",
    "                column2.append(int(line.split()[1].strip()))\n",
    "            #catch a ValueError: invalid literal for int()\n",
    "            except ValueError:\n",
    "                check = False\n",
    "                print \"Checking the second column: could not convert {} to an integer\".format(line.split()[1].strip())\n",
    "    dimension_file.close()\n",
    "    if check == True:\n",
    "        for length in column2:\n",
    "            if length<0:\n",
    "                print \"Checking the second column: you provided a negative chromosome length: {}\".format(length)\n",
    "                check = False\n",
    "    if check == True:\n",
    "        return \"Checking the second column: the lengths of chromosomes are correct\"\n",
    "\n",
    "checkColumn2()"
   ]
  },
  {
   "cell_type": "markdown",
   "metadata": {},
   "source": [
    "Now we can add the testing functions to the original script and test if it works"
   ]
  },
  {
   "cell_type": "code",
   "execution_count": 106,
   "metadata": {
    "collapsed": false
   },
   "outputs": [
    {
     "name": "stdout",
     "output_type": "stream",
     "text": [
      "Overwriting ../scripts/getRegionW2.py\n"
     ]
    }
   ],
   "source": [
    "%%writefile ../scripts/getRegionW2.py\n",
    "\n",
    "#parser setup\n",
    "import sys\n",
    "import argparse\n",
    "parser = argparse.ArgumentParser()\n",
    "parser.prog = 'progName.py'\n",
    "parser.description = 'You can provide the program with three parameters through the terminal'\n",
    "parser.add_argument(\"-n\", type=int, help='Number of integration regions generated')\n",
    "parser.add_argument(\"-r\", type=int, help='Range-value: defines an interval where the IR is located')\n",
    "parser.add_argument(\"-d\", type=int, help='Delta-value: expands the range with the value provided by user')\n",
    "#add new input argument\n",
    "parser.add_argument(\"-i\", help='Input-file .txt with names of chromosomes and their lengths in bp organized into two columns and separated by \\t')\n",
    "namespace = parser.parse_args((sys.argv[1:]))\n",
    "\n",
    "#a function that proves whether the input file contains  two columns\n",
    "def checkFormatting():\n",
    "    check=True\n",
    "    with open(namespace.i) as dimension_file:\n",
    "        #go through all of the lines and check whether exactly two columns are present\n",
    "        for line in dimension_file:\n",
    "            result=line.split()\n",
    "            if len(result)==2:\n",
    "                continue\n",
    "            else:\n",
    "                print 'Checking format: the text file has to contain two columns'\n",
    "                check=False\n",
    "                break\n",
    "    dimension_file.close()\n",
    "    if check == True:\n",
    "        print \"Checking format: the file is well formatted\"\n",
    "    return check\n",
    "\n",
    "#a function that proves whether the first column contains a string \"chrXY\" where X and Y are digits\n",
    "def checkColumn1():\n",
    "    check = True\n",
    "    #use regEx\n",
    "    import re\n",
    "    #save a regEx pattern matching \"chrXY\" where XY are digits\n",
    "    pattern = re.compile('(chr\\d\\Z|chr\\d\\d\\Z)',re.IGNORECASE)\n",
    "    with open(namespace.i) as dimension_file:\n",
    "        column1=[]\n",
    "        lines=dimension_file.readlines()\n",
    "        for line in lines:\n",
    "            column1.append(line.split()[0].strip())\n",
    "        for word in column1:\n",
    "            if re.match(pattern,word):\n",
    "                continue\n",
    "            else:\n",
    "                print \"Checking the first column: {} is not a chromosome name\".format(word)\n",
    "                check = False\n",
    "                break\n",
    "        if check == True:\n",
    "            print \"Checking the first column: the names of chromosomes are correct\"\n",
    "    dimension_file.close()\n",
    "    return check\n",
    "    \n",
    "#a function that proves whether the second column contains a positive integer\n",
    "def checkColumn2():\n",
    "    check = True\n",
    "    with open(namespace.i) as dimension_file:\n",
    "        column2=[]\n",
    "        lines=dimension_file.readlines()\n",
    "        for line in lines:\n",
    "            try:\n",
    "                #extract the second column to a list and try to convert each element into an integer\n",
    "                column2.append(int(line.split()[1].strip()))\n",
    "            #catch a ValueError: invalid literal for int()\n",
    "            except ValueError:\n",
    "                check = False\n",
    "                print \"Checking the second column: could not convert {} to an integer\".format(line.split()[1].strip())\n",
    "    dimension_file.close()\n",
    "    if check == True:\n",
    "        for length in column2:\n",
    "            if length<0:\n",
    "                print \"Checking the second column: you provided a negative chromosome length: {}\".format(length)\n",
    "                check = False\n",
    "    if check == True:\n",
    "        print \"Checking the second column: the lengths of chromosomes are correct\"\n",
    "    return check\n",
    "\n",
    "#check the input file    \n",
    "check=checkFormatting()\n",
    "if check==True:\n",
    "    check=checkColumn1()\n",
    "    if check==True:\n",
    "        check=checkColumn2()\n",
    "        if check == True:\n",
    "            \n",
    "    \n",
    "            dimension_dict = {}\n",
    "            with open(namespace.i) as dimension_file:\n",
    "                for line in dimension_file:\n",
    "                    key, value = line.split(\"\\t\")\n",
    "                    dimension_dict[key.strip()]=int(value.strip())\n",
    "                dimension_file.close()\n",
    "            #loop on n random IR\n",
    "            import random\n",
    "            count = 1\n",
    "            print \"chr#\", '\\t', 'Start', '\\t\\t', 'End', '\\t\\trnd#'\n",
    "            for i in range(namespace.n):\n",
    "                #select a chromosome\n",
    "                chrom = random.choice(dimension_dict.keys())\n",
    "\n",
    "                #select a site on that chromosome\n",
    "                start = random.randint(1,dimension_dict[chrom])\n",
    "\n",
    "                #select a random region\n",
    "                end = start + random.randint(0,namespace.r) + namespace.d\n",
    "                if len(str(chrom))==1:\n",
    "                    print chrom,'',\"\\t\",start,\"\\t\",end,\"\\trnd{}\".format(count)\n",
    "                else:\n",
    "                    print chrom,\"\\t\",start,\"\\t\",end,\"\\trnd{}\".format(count)\n",
    "                count +=1"
   ]
  },
  {
   "cell_type": "code",
   "execution_count": 107,
   "metadata": {
    "collapsed": false,
    "scrolled": false
   },
   "outputs": [
    {
     "name": "stdout",
     "output_type": "stream",
     "text": [
      "Checking format: the file is well formatted\n",
      "Checking the first column: the names of chromosomes are correct\n",
      "Checking the second column: the lengths of chromosomes are correct\n",
      "chr# \tStart \t\tEnd \t\trnd#\n",
      "chr22 \t21845635 \t21845636 \trnd1\n",
      "chr12 \t93704051 \t93704052 \trnd2\n",
      "chr21 \t8587751 \t8587752 \trnd3\n",
      "chr18 \t65563405 \t65563406 \trnd4\n",
      "chr7 \t106310384 \t106310385 \trnd5\n"
     ]
    }
   ],
   "source": [
    "!python2 ../scripts/getRegionW2.py -n5 -r0 -d1 -i \"../scripts/hg38.txt\""
   ]
  },
  {
   "cell_type": "markdown",
   "metadata": {},
   "source": [
    "The input file above passed through all the checking functions and the program gave an expected output. If we run the program with a wrong input file we will get one of the help-messages:"
   ]
  },
  {
   "cell_type": "code",
   "execution_count": 108,
   "metadata": {
    "collapsed": false,
    "scrolled": true
   },
   "outputs": [
    {
     "name": "stdout",
     "output_type": "stream",
     "text": [
      "Checking format: the text file has to contain two columns\r\n"
     ]
    }
   ],
   "source": [
    "!python2 ../scripts/getRegionW2.py -n5 -r0 -d1 -i \"../scripts/hg38wrong1.txt\""
   ]
  },
  {
   "cell_type": "code",
   "execution_count": 109,
   "metadata": {
    "collapsed": false,
    "scrolled": true
   },
   "outputs": [
    {
     "name": "stdout",
     "output_type": "stream",
     "text": [
      "Checking format: the file is well formatted\r\n",
      "Checking the first column: group1 is not a chromosome name\r\n"
     ]
    }
   ],
   "source": [
    "!python2 ../scripts/getRegionW2.py -n5 -r0 -d1 -i \"../scripts/hg38wrong2.txt\""
   ]
  },
  {
   "cell_type": "markdown",
   "metadata": {},
   "source": [
    "I am providing the program with different wrong files, so I can test different kinds of errors. I replaced \"group1\" with \"chr16\" in the hg38wrong3.txt, now something else is wrong:"
   ]
  },
  {
   "cell_type": "code",
   "execution_count": 110,
   "metadata": {
    "collapsed": false,
    "scrolled": true
   },
   "outputs": [
    {
     "name": "stdout",
     "output_type": "stream",
     "text": [
      "Checking format: the file is well formatted\r\n",
      "Checking the first column: the names of chromosomes are correct\r\n",
      "Checking the second column: could not convert 81341915i to an integer\r\n"
     ]
    }
   ],
   "source": [
    "!python2 ../scripts/getRegionW2.py -n5 -r0 -d1 -i \"../scripts/hg38wrong3.txt\""
   ]
  },
  {
   "cell_type": "markdown",
   "metadata": {
    "collapsed": true
   },
   "source": [
    "### 3. Test the script with three different genomes: human, mouse and honey bee  \n",
    "The text files containing chromosome lengths are stored in the scripts folder. The data was derived from the UCSC database:\n",
    "* Human:\n",
    " - http://genome.ucsc.edu/cgi-bin/hgTracks?db=hg38&chromInfoPage=\n",
    " - http://genome.ucsc.edu/cgi-bin/hgTracks?db=hg19&chromInfoPage=\n",
    "* Mouse:  \n",
    " - http://genome.ucsc.edu/cgi-bin/hgTracks?db=mm10&chromInfoPage=\n",
    "* Honeybee A. mellifera:\n",
    " - http://genome.ucsc.edu/cgi-bin/hgTracks?db=apiMel2&chromInfoPage=\n",
    "\n",
    "\n"
   ]
  },
  {
   "cell_type": "code",
   "execution_count": 111,
   "metadata": {
    "collapsed": false,
    "scrolled": false
   },
   "outputs": [
    {
     "name": "stdout",
     "output_type": "stream",
     "text": [
      "Checking format: the file is well formatted\r\n",
      "Checking the first column: the names of chromosomes are correct\r\n",
      "Checking the second column: the lengths of chromosomes are correct\r\n",
      "chr# \tStart \t\tEnd \t\trnd#\r\n",
      "chr22 \t16985086 \t16985087 \trnd1\r\n",
      "chr6 \t139903941 \t139903942 \trnd2\r\n",
      "chr16 \t61006902 \t61006903 \trnd3\r\n",
      "chr7 \t114179228 \t114179229 \trnd4\r\n",
      "chr22 \t41018440 \t41018441 \trnd5\r\n"
     ]
    }
   ],
   "source": [
    "!python2 ../scripts/getRegionW2.py -n5 -r0 -d1 -i \"../scripts/hg19.txt\""
   ]
  },
  {
   "cell_type": "code",
   "execution_count": 86,
   "metadata": {
    "collapsed": false,
    "scrolled": false
   },
   "outputs": [
    {
     "name": "stdout",
     "output_type": "stream",
     "text": [
      "Checking format: the file is well formatted\r\n",
      "Checking the first column: chromosome names are correct\r\n",
      "Checking the second column: the lengths of chromosomes are correct\r\n",
      "chr# \tStart \t\tEnd \t\trnd#\r\n",
      "chr1 \t146311823 \t146311824 \trnd1\r\n",
      "chr12 \t49185545 \t49185546 \trnd2\r\n",
      "chr6 \t82452061 \t82452062 \trnd3\r\n",
      "chr20 \t165263502 \t165263503 \trnd4\r\n",
      "chr6 \t91291194 \t91291195 \trnd5\r\n"
     ]
    }
   ],
   "source": [
    "!python2 ../scripts/getRegionW2.py -n5 -r0 -d1 -i \"../scripts/mm10.txt\""
   ]
  },
  {
   "cell_type": "code",
   "execution_count": 84,
   "metadata": {
    "collapsed": false,
    "scrolled": true
   },
   "outputs": [
    {
     "name": "stdout",
     "output_type": "stream",
     "text": [
      "Checking format: the file is well formatted\r\n",
      "Checking the first column: chromosome names are correct\r\n",
      "Checking the second column: the lengths of chromosomes are correct\r\n",
      "chr# \tStart \t\tEnd \t\trnd#\r\n",
      "chr11 \t3579349 \t3579350 \trnd1\r\n",
      "chr10 \t3785841 \t3785842 \trnd2\r\n",
      "chr15 \t1017642 \t1017643 \trnd3\r\n",
      "chr8 \t3315049 \t3315050 \trnd4\r\n",
      "chr12 \t7042320 \t7042321 \trnd5\r\n"
     ]
    }
   ],
   "source": [
    "!python2 ../scripts/getRegionW2.py -n5 -r0 -d1 -i \"../scripts/apiMel2.txt\""
   ]
  },
  {
   "cell_type": "markdown",
   "metadata": {},
   "source": [
    "The human genome file was already tested above"
   ]
  },
  {
   "cell_type": "markdown",
   "metadata": {},
   "source": [
    "### 4. The differences between different versions of human genome:\n",
    " - *hg38 and hg19*"
   ]
  },
  {
   "cell_type": "code",
   "execution_count": null,
   "metadata": {
    "collapsed": true
   },
   "outputs": [],
   "source": []
  }
 ],
 "metadata": {
  "anaconda-cloud": {},
  "kernelspec": {
   "display_name": "Python [conda env:python2]",
   "language": "python",
   "name": "conda-env-python2-py"
  },
  "language_info": {
   "codemirror_mode": {
    "name": "ipython",
    "version": 2
   },
   "file_extension": ".py",
   "mimetype": "text/x-python",
   "name": "python",
   "nbconvert_exporter": "python",
   "pygments_lexer": "ipython2",
   "version": "2.7.13"
  }
 },
 "nbformat": 4,
 "nbformat_minor": 1
}
