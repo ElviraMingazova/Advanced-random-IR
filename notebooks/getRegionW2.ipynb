{
 "cells": [
  {
   "cell_type": "markdown",
   "metadata": {},
   "source": [
    "# Advanced random IR\n",
    "Week2: 13.03-19.03  \n",
    "Stage: model Zero - a simple model  \n",
    "This is a tool to generate random integration regions on genome of choice\n",
    "#### Authors: \n",
    "Elvira Mingazova, Saira Afzal, Raffaele Fronza 2017"
   ]
  },
  {
   "cell_type": "markdown",
   "metadata": {},
   "source": [
    "## Week 2 plan:\n",
    "1. Generalization of the genome dimension file\n",
    "2. Checking the input file\n",
    "3. Testing the script with three different genomes: human, mouse and honey bee\n",
    "4. Finding out the differences between:\n",
    "    + hg 38 and hg19  \n",
    "    + hg 38 versions \n",
    "5. Plotting and describing the empirical distribution function on chr1 with a sufficient number of samples"
   ]
  },
  {
   "cell_type": "markdown",
   "metadata": {},
   "source": [
    "### 1. Generalize genome dimension file  \n",
    "In the previous notebook file getRegionW1.ipynb the lenghts of the chromosomes were **hard coded**. Here we will change it by adding a new input argument -i. We will provide python with a text file where the chromosome names are in the first column and their lenghts in bp - in the second. Two columns are separated by tab or space.  \n",
    "Below is an example of the text file that should be provided."
   ]
  },
  {
   "cell_type": "code",
   "execution_count": 3,
   "metadata": {
    "collapsed": false,
    "scrolled": true
   },
   "outputs": [
    {
     "name": "stdout",
     "output_type": "stream",
     "text": [
      "chr1\t224999719\r\n",
      "chr2\t237712649\r\n",
      "chr3\t194704827\r\n",
      "chr4\t187297063\r\n",
      "chr5\t177702766\r\n"
     ]
    }
   ],
   "source": [
    "#To use bash commands inside of the notebook put \"!\" before\n",
    "!cat ../scripts/hg38.txt| head -n5"
   ]
  },
  {
   "cell_type": "markdown",
   "metadata": {},
   "source": [
    "Now we can modify the script in a way that it processes the text file and generates random integration regions on randomly chosen chromosomes."
   ]
  },
  {
   "cell_type": "code",
   "execution_count": 6,
   "metadata": {
    "collapsed": false
   },
   "outputs": [
    {
     "name": "stdout",
     "output_type": "stream",
     "text": [
      "{'chr13': 95559980, 'chr12': 130303534, 'chr11': 131130853, 'chr10': 131624737, 'chr17': 77800220, 'chr16': 78884754, 'chr15': 81341915, 'chr14': 88290585, 'chr19': 55785651, 'chr18': 74656155, 'chr24': 57741652, 'chr22': 34893953, 'chr23': 151058754, 'chr20': 59505254, 'chr21': 34171998, 'chr7': 154952424, 'chr6': 167273993, 'chr5': 177702766, 'chr4': 187297063, 'chr3': 194704827, 'chr2': 237712649, 'chr1': 224999719, 'chr9': 120312298, 'chr8': 142612826}\n"
     ]
    }
   ],
   "source": [
    "#Create an empty dictionary to fill in the contents of each line in the .txt file as key:value pairs\n",
    "dimension_dict = {}\n",
    "with open('/Users/elming/Advanced-random-IR/scripts/hg38.txt') as dimension_file:\n",
    "    for line in dimension_file:\n",
    "        \n",
    "        key, value = line.split()\n",
    "        #fill the dictionary and make sure the length is of a type int\n",
    "        dimension_dict[key.strip()]=int(value.strip())\n",
    "    print dimension_dict\n",
    "    dimension_file.close()"
   ]
  },
  {
   "cell_type": "markdown",
   "metadata": {},
   "source": [
    "Now we are ready to generate the integration regions"
   ]
  },
  {
   "cell_type": "code",
   "execution_count": 11,
   "metadata": {
    "collapsed": false
   },
   "outputs": [
    {
     "name": "stdout",
     "output_type": "stream",
     "text": [
      "chr22\n"
     ]
    }
   ],
   "source": [
    "import random\n",
    "#choose random chromosome\n",
    "chrom = random.choice(dimension_dict.keys())\n",
    "print chrom"
   ]
  },
  {
   "cell_type": "code",
   "execution_count": 12,
   "metadata": {
    "collapsed": false
   },
   "outputs": [
    {
     "name": "stdout",
     "output_type": "stream",
     "text": [
      "15092629\n"
     ]
    }
   ],
   "source": [
    "#select a site on that chromosome\n",
    "start = random.randint(1,dimension_dict[chrom])\n",
    "print start"
   ]
  },
  {
   "cell_type": "markdown",
   "metadata": {},
   "source": [
    "We are now ready to combine the code parts from getRegionW1.py and this notebook and write it into a getRegionW2.py"
   ]
  },
  {
   "cell_type": "code",
   "execution_count": 13,
   "metadata": {
    "collapsed": false
   },
   "outputs": [
    {
     "name": "stdout",
     "output_type": "stream",
     "text": [
      "Overwriting ../scripts/getRegionW2.py\n"
     ]
    }
   ],
   "source": [
    "%%writefile ../scripts/getRegionW2.py\n",
    "#parser setup\n",
    "import sys\n",
    "import argparse\n",
    "parser = argparse.ArgumentParser()\n",
    "parser.prog = 'progName.py'\n",
    "parser.description = 'You can provide the program with three parameters through the terminal'\n",
    "parser.add_argument(\"-n\", type=int, help='Number of integration regions generated')\n",
    "parser.add_argument(\"-r\", type=int, help='Range-value: defines an interval where the IR is located')\n",
    "parser.add_argument(\"-d\", type=int, help='Delta-value: expands the range with the value provided by user')\n",
    "#add new input argument\n",
    "parser.add_argument(\"-i\", help='Input-file .txt with names of chromosomes and their lengths in bp organized into two columns and separated by \\t')\n",
    "namespace = parser.parse_args((sys.argv[1:]))\n",
    "dimension_dict = {}\n",
    "with open(namespace.i) as dimension_file:\n",
    "    for line in dimension_file:\n",
    "        key, value = line.split(\"\\t\")\n",
    "        dimension_dict[key.strip()]=int(value.strip())\n",
    "    dimension_file.close()\n",
    "#loop on n random IR\n",
    "import random\n",
    "count = 1\n",
    "print \"chr#\", '\\t', 'Start', '\\t\\t', 'End', '\\t\\trnd#'\n",
    "for i in range(namespace.n):\n",
    "    #select a chromosome\n",
    "    chrom = random.choice(dimension_dict.keys())\n",
    "\n",
    "    #select a site on that chromosome\n",
    "    start = random.randint(1,dimension_dict[chrom])\n",
    "\n",
    "    #select a random region\n",
    "    end = start + random.randint(0,namespace.r) + namespace.d\n",
    "    if len(str(chrom))==1:\n",
    "        print chrom,'',\"\\t\",start,\"\\t\",end,\"\\trnd{}\".format(count)\n",
    "    else:\n",
    "        print chrom,\"\\t\",start,\"\\t\",end,\"\\trnd{}\".format(count)\n",
    "    count +=1\n"
   ]
  },
  {
   "cell_type": "markdown",
   "metadata": {},
   "source": [
    "We can run the script with a new input file provided in the command line. You can change any of the parameters"
   ]
  },
  {
   "cell_type": "code",
   "execution_count": 14,
   "metadata": {
    "collapsed": false
   },
   "outputs": [
    {
     "name": "stdout",
     "output_type": "stream",
     "text": [
      "chr# \tStart \t\tEnd \t\trnd#\r\n",
      "chr18 \t62928698 \t62928699 \trnd1\r\n",
      "chr4 \t37775302 \t37775303 \trnd2\r\n",
      "chr10 \t82930932 \t82930933 \trnd3\r\n",
      "chr24 \t2854206 \t2854207 \trnd4\r\n",
      "chr15 \t10830799 \t10830800 \trnd5\r\n"
     ]
    }
   ],
   "source": [
    "!python2 ../scripts/getRegionW2.py -n5 -r0 -d1 -i \"../scripts/hg38.txt\""
   ]
  },
  {
   "cell_type": "markdown",
   "metadata": {},
   "source": [
    "### 2. Check the script  \n",
    "In this part we want to add some testing options to the script to be able to check the input file. It has to fulfill the following coditions:\n",
    "- the file is well formatted (2 columns)\n",
    "- the first column contains a string \"chrXY\" where X and Y are digits\n",
    "- the second column contains an integer\n",
    "- the integer is not negative\n",
    "To test the file we could define \"checking\" functions"
   ]
  },
  {
   "cell_type": "code",
   "execution_count": 90,
   "metadata": {
    "collapsed": false
   },
   "outputs": [
    {
     "data": {
      "text/plain": [
       "'Checking result is positive: the file is well formatted'"
      ]
     },
     "execution_count": 90,
     "metadata": {},
     "output_type": "execute_result"
    }
   ],
   "source": [
    "#a function that proves whether the input file contains  two columns\n",
    "def checkFormatting():\n",
    "    check=True\n",
    "    with open('../scripts/hg38.txt') as dimension_file:\n",
    "        #go through all of the lines and check whether only two columns are present\n",
    "        for line in dimension_file:\n",
    "            result=line.split()\n",
    "            if len(result)==2:\n",
    "                continue\n",
    "            else:\n",
    "                print 'The text file has to contain two columns'\n",
    "                check=False\n",
    "                break\n",
    "    dimension_file.close()\n",
    "    if check == True:\n",
    "        return \"Checking result is positive: the file is well formatted\"\n",
    "    \n",
    "        \n",
    "checkFormatting()"
   ]
  },
  {
   "cell_type": "code",
   "execution_count": 89,
   "metadata": {
    "collapsed": false
   },
   "outputs": [
    {
     "name": "stdout",
     "output_type": "stream",
     "text": [
      "group1 in the first column is not a chromosome name\n"
     ]
    }
   ],
   "source": [
    "#a function that proves whether the first column contains a string \"chrXY\" where X and Y are digits\n",
    "def checkColumn1():\n",
    "    check = True\n",
    "    #use regEx\n",
    "    import re\n",
    "    #save a regEx pattern matching \"chrXY\" where XY are digits\n",
    "    #is there a better regEx to use in this case? Wasn't sure if it's optimal\n",
    "    pattern = re.compile('[chr\\d*]{4,5}',re.IGNORECASE)\n",
    "    with open('../scripts/hg38wrong.txt') as dimension_file:\n",
    "        column1=[]\n",
    "        lines=dimension_file.readlines()\n",
    "        for line in lines:\n",
    "            column1.append(line.split('\\t')[0].strip())\n",
    "        for word in column1:\n",
    "            if re.match(pattern,word):\n",
    "                continue\n",
    "            else:\n",
    "                print \"{} in the first column is not a chromosome name\".format(word)\n",
    "                check = False\n",
    "                break\n",
    "        if check == True:\n",
    "            print \"Checking result is positive: the first column contains names of chromosomes\"\n",
    "    dimension_file.close()\n",
    "    \n",
    "checkColumn1()"
   ]
  },
  {
   "cell_type": "markdown",
   "metadata": {},
   "source": [
    "The following function is not ready yet"
   ]
  },
  {
   "cell_type": "code",
   "execution_count": 99,
   "metadata": {
    "collapsed": false
   },
   "outputs": [
    {
     "ename": "ValueError",
     "evalue": "invalid literal for int() with base 10: '18729706i'",
     "output_type": "error",
     "traceback": [
      "\u001b[0;31m---------------------------------------------------------------------------\u001b[0m",
      "\u001b[0;31mValueError\u001b[0m                                Traceback (most recent call last)",
      "\u001b[0;32m<ipython-input-99-bed2fc376bff>\u001b[0m in \u001b[0;36m<module>\u001b[0;34m()\u001b[0m\n\u001b[1;32m     13\u001b[0m     \u001b[0mdimension_file\u001b[0m\u001b[0;34m.\u001b[0m\u001b[0mclose\u001b[0m\u001b[0;34m(\u001b[0m\u001b[0;34m)\u001b[0m\u001b[0;34m\u001b[0m\u001b[0m\n\u001b[1;32m     14\u001b[0m \u001b[0;34m\u001b[0m\u001b[0m\n\u001b[0;32m---> 15\u001b[0;31m \u001b[0mcheckColumn2\u001b[0m\u001b[0;34m(\u001b[0m\u001b[0;34m)\u001b[0m\u001b[0;34m\u001b[0m\u001b[0m\n\u001b[0m\u001b[1;32m     16\u001b[0m \u001b[0;34m\u001b[0m\u001b[0m\n",
      "\u001b[0;32m<ipython-input-99-bed2fc376bff>\u001b[0m in \u001b[0;36mcheckColumn2\u001b[0;34m()\u001b[0m\n\u001b[1;32m      6\u001b[0m         \u001b[0mlines\u001b[0m\u001b[0;34m=\u001b[0m\u001b[0mdimension_file\u001b[0m\u001b[0;34m.\u001b[0m\u001b[0mreadlines\u001b[0m\u001b[0;34m(\u001b[0m\u001b[0;34m)\u001b[0m\u001b[0;34m\u001b[0m\u001b[0m\n\u001b[1;32m      7\u001b[0m         \u001b[0;32mfor\u001b[0m \u001b[0mline\u001b[0m \u001b[0;32min\u001b[0m \u001b[0mlines\u001b[0m\u001b[0;34m:\u001b[0m\u001b[0;34m\u001b[0m\u001b[0m\n\u001b[0;32m----> 8\u001b[0;31m             \u001b[0mcolumn2\u001b[0m\u001b[0;34m.\u001b[0m\u001b[0mappend\u001b[0m\u001b[0;34m(\u001b[0m\u001b[0mint\u001b[0m\u001b[0;34m(\u001b[0m\u001b[0mline\u001b[0m\u001b[0;34m.\u001b[0m\u001b[0msplit\u001b[0m\u001b[0;34m(\u001b[0m\u001b[0;34m)\u001b[0m\u001b[0;34m[\u001b[0m\u001b[0;36m1\u001b[0m\u001b[0;34m]\u001b[0m\u001b[0;34m.\u001b[0m\u001b[0mstrip\u001b[0m\u001b[0;34m(\u001b[0m\u001b[0;34m)\u001b[0m\u001b[0;34m)\u001b[0m\u001b[0;34m)\u001b[0m\u001b[0;34m\u001b[0m\u001b[0m\n\u001b[0m\u001b[1;32m      9\u001b[0m         \u001b[0;32mprint\u001b[0m \u001b[0mcolumn2\u001b[0m\u001b[0;34m\u001b[0m\u001b[0m\n\u001b[1;32m     10\u001b[0m         \u001b[0;31m#for chr_lenght in column2:\u001b[0m\u001b[0;34m\u001b[0m\u001b[0;34m\u001b[0m\u001b[0m\n",
      "\u001b[0;31mValueError\u001b[0m: invalid literal for int() with base 10: '18729706i'"
     ]
    }
   ],
   "source": [
    "#a function that proves whether the second column contains an integer and that it is not negative\n",
    "def checkColumn2():\n",
    "    check = True\n",
    "    with open('../scripts/hg38wrong.txt') as dimension_file:\n",
    "        column2=[]\n",
    "        lines=dimension_file.readlines()\n",
    "        for line in lines:\n",
    "            column2.append(int(line.split()[1].strip()))\n",
    "        #here I have to catch a ValueError: invalid literal for int()\n",
    "        print column2\n",
    "        \n",
    "            \n",
    "    dimension_file.close()\n",
    "\n",
    "checkColumn2()\n",
    "    "
   ]
  },
  {
   "cell_type": "code",
   "execution_count": 91,
   "metadata": {
    "collapsed": false
   },
   "outputs": [
    {
     "data": {
      "text/plain": [
       "int"
      ]
     },
     "execution_count": 91,
     "metadata": {},
     "output_type": "execute_result"
    }
   ],
   "source": [
    "a=-3\n",
    "type(a)"
   ]
  },
  {
   "cell_type": "code",
   "execution_count": null,
   "metadata": {
    "collapsed": true
   },
   "outputs": [],
   "source": []
  },
  {
   "cell_type": "code",
   "execution_count": 84,
   "metadata": {
    "collapsed": false
   },
   "outputs": [
    {
     "data": {
      "text/plain": [
       "2"
      ]
     },
     "execution_count": 84,
     "metadata": {},
     "output_type": "execute_result"
    }
   ],
   "source": [
    "a = \"Chr1\"\n",
    "b = \"chr20\"\n",
    "c = \"group1\"\n",
    "import re\n",
    "pattern=re.compile('[chr\\d*]{4,5}',re.IGNORECASE)\n",
    "re.IGNORECASE\n",
    "\n",
    "#print re.match(pattern, a)"
   ]
  },
  {
   "cell_type": "code",
   "execution_count": 86,
   "metadata": {
    "collapsed": false
   },
   "outputs": [
    {
     "name": "stdout",
     "output_type": "stream",
     "text": [
      "chr20\n"
     ]
    }
   ],
   "source": [
    "print re.match(pattern,b).group()"
   ]
  },
  {
   "cell_type": "code",
   "execution_count": 57,
   "metadata": {
    "collapsed": false
   },
   "outputs": [
    {
     "name": "stdout",
     "output_type": "stream",
     "text": [
      "True\n"
     ]
    }
   ],
   "source": [
    "if re.match(pattern,b):\n",
    "    print \"True\""
   ]
  },
  {
   "cell_type": "markdown",
   "metadata": {},
   "source": [
    "chromosom lenghts:\n",
    "* Mouse:\n",
    "http://genome.ucsc.edu/cgi-bin/hgTracks?db=mm10&chromInfoPage=\n",
    "* Honeybee A. mellifera:\n",
    "http://genome.ucsc.edu/cgi-bin/hgTracks?db=apiMel2&chromInfoPage=\n"
   ]
  },
  {
   "cell_type": "code",
   "execution_count": null,
   "metadata": {
    "collapsed": true
   },
   "outputs": [],
   "source": []
  }
 ],
 "metadata": {
  "anaconda-cloud": {},
  "kernelspec": {
   "display_name": "Python [conda env:python2]",
   "language": "python",
   "name": "conda-env-python2-py"
  },
  "language_info": {
   "codemirror_mode": {
    "name": "ipython",
    "version": 2
   },
   "file_extension": ".py",
   "mimetype": "text/x-python",
   "name": "python",
   "nbconvert_exporter": "python",
   "pygments_lexer": "ipython2",
   "version": "2.7.13"
  }
 },
 "nbformat": 4,
 "nbformat_minor": 1
}
