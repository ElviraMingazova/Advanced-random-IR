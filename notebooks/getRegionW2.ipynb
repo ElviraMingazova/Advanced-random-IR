{
 "cells": [
  {
   "cell_type": "markdown",
   "metadata": {},
   "source": [
    "# Advanced random IR\n",
    "Week2: 13.03-19.03  \n",
    "Stage: model Zero - a simple model  \n",
    "This is a tool to generate random integration regions on genome of choice\n",
    "#### Authors: \n",
    "Elvira Mingazova, Saira Afzal, Raffaele Fronza 2017"
   ]
  },
  {
   "cell_type": "markdown",
   "metadata": {},
   "source": [
    "## Week 2 plan:\n",
    "1. Generalization of the genome dimension file\n",
    "2. Checking the input file\n",
    "3. Testing the script with three different genomes: human, mouse and honey bee\n",
    "4. Finding out the differences between:\n",
    "    + hg 38 and hg19  \n",
    "    + hg 38 versions \n",
    "5. Plotting and describing the empirical distribution function on chr1 with a sufficient number of samples"
   ]
  },
  {
   "cell_type": "markdown",
   "metadata": {},
   "source": [
    "### 1. Generalize genome dimension file  \n",
    "In the previous notebook file getRegionW1.ipynb the lenghts of the chromosomes were **hard coded**. Here we will change it by adding a new input argument -i. We will provide python with a text file where the chromosome names are in the first column and their lenghts in bp - in the second. Two columns are separated by tab or space.  \n",
    "Below is an example of the text file that should be provided."
   ]
  },
  {
   "cell_type": "code",
   "execution_count": 92,
   "metadata": {
    "collapsed": false,
    "scrolled": true
   },
   "outputs": [
    {
     "name": "stdout",
     "output_type": "stream",
     "text": [
      "chr1\t224999719\r\n",
      "chr2\t237712649\r\n",
      "chr3\t194704827\r\n",
      "chr4\t187297063\r\n",
      "chr5\t177702766\r\n"
     ]
    }
   ],
   "source": [
    "#To use bash commands inside of the notebook put \"!\" before\n",
    "!cat ../scripts/hg38.txt| head -n5"
   ]
  },
  {
   "cell_type": "markdown",
   "metadata": {},
   "source": [
    "Now we can modify the script in a way that it processes the text file and generates random integration regions on randomly chosen chromosomes."
   ]
  },
  {
   "cell_type": "code",
   "execution_count": 93,
   "metadata": {
    "collapsed": false
   },
   "outputs": [
    {
     "name": "stdout",
     "output_type": "stream",
     "text": [
      "{'chr13': 95559980, 'chr12': 130303534, 'chr11': 131130853, 'chr10': 131624737, 'chr17': 77800220, 'chr16': 78884754, 'chr15': 81341915, 'chr14': 88290585, 'chr19': 55785651, 'chr18': 74656155, 'chr24': 57741652, 'chr22': 34893953, 'chr23': 151058754, 'chr20': 59505254, 'chr21': 34171998, 'chr7': 154952424, 'chr6': 167273993, 'chr5': 177702766, 'chr4': 187297063, 'chr3': 194704827, 'chr2': 237712649, 'chr1': 224999719, 'chr9': 120312298, 'chr8': 142612826}\n"
     ]
    }
   ],
   "source": [
    "#Create an empty dictionary to fill in the contents of each line in the .txt file as key:value pairs\n",
    "dimension_dict = {}\n",
    "with open('/Users/elming/Advanced-random-IR/scripts/hg38.txt') as dimension_file:\n",
    "    for line in dimension_file:\n",
    "        key, value = line.split()\n",
    "        #fill the dictionary and make sure the length is of a type int\n",
    "        dimension_dict[key.strip()]=int(value.strip())\n",
    "    print dimension_dict\n",
    "    dimension_file.close()"
   ]
  },
  {
   "cell_type": "markdown",
   "metadata": {},
   "source": [
    "Now we are ready to generate the integration regions"
   ]
  },
  {
   "cell_type": "code",
   "execution_count": 94,
   "metadata": {
    "collapsed": false
   },
   "outputs": [
    {
     "name": "stdout",
     "output_type": "stream",
     "text": [
      "chr11\n"
     ]
    }
   ],
   "source": [
    "import random\n",
    "#choose random chromosome\n",
    "chrom = random.choice(dimension_dict.keys())\n",
    "print chrom"
   ]
  },
  {
   "cell_type": "code",
   "execution_count": 95,
   "metadata": {
    "collapsed": false
   },
   "outputs": [
    {
     "name": "stdout",
     "output_type": "stream",
     "text": [
      "27837706\n"
     ]
    }
   ],
   "source": [
    "#select a site on that chromosome\n",
    "start = random.randint(1,dimension_dict[chrom])\n",
    "print start"
   ]
  },
  {
   "cell_type": "markdown",
   "metadata": {},
   "source": [
    "Now let's combine the code parts from getRegionW1.py and this notebook and write it into a getRegionW2.py"
   ]
  },
  {
   "cell_type": "code",
   "execution_count": 1,
   "metadata": {
    "collapsed": false
   },
   "outputs": [
    {
     "name": "stdout",
     "output_type": "stream",
     "text": [
      "Overwriting ../scripts/getRegionW2.py\n"
     ]
    }
   ],
   "source": [
    "%%writefile ../scripts/getRegionW2.py\n",
    "#parser setup\n",
    "import sys\n",
    "import argparse\n",
    "parser = argparse.ArgumentParser()\n",
    "parser.prog = 'progName.py'\n",
    "parser.description = 'You can provide the program with three parameters through the terminal'\n",
    "parser.add_argument(\"-n\", type=int, help='Number of integration regions generated')\n",
    "parser.add_argument(\"-r\", type=int, help='Range-value: defines an interval where the IR is located')\n",
    "parser.add_argument(\"-d\", type=int, help='Delta-value: expands the range with the value provided by user')\n",
    "#add new input argument\n",
    "parser.add_argument(\"-i\", help='Input-file .txt with names of chromosomes and their lengths in bp organized into two columns and separated by \\t')\n",
    "namespace = parser.parse_args((sys.argv[1:]))\n",
    "dimension_dict = {}\n",
    "with open(namespace.i) as dimension_file:\n",
    "    for line in dimension_file:\n",
    "        key, value = line.split(\"\\t\")\n",
    "        dimension_dict[key.strip()]=int(value.strip())\n",
    "    dimension_file.close()\n",
    "#loop on n random IR\n",
    "import random\n",
    "count = 1\n",
    "print \"chr#\", '\\t', 'Start', '\\t\\t', 'End', '\\t\\trnd#'\n",
    "for i in range(namespace.n):\n",
    "    #select a chromosome\n",
    "    chrom = random.choice(dimension_dict.keys())\n",
    "\n",
    "    #select a site on that chromosome\n",
    "    start = random.randint(1,dimension_dict[chrom])\n",
    "\n",
    "    #select a random region\n",
    "    end = start + random.randint(0,namespace.r) + namespace.d\n",
    "    if len(str(chrom))==1:\n",
    "        print chrom,'',\"\\t\",start,\"\\t\",end,\"\\trnd{}\".format(count)\n",
    "    else:\n",
    "        print chrom,\"\\t\",start,\"\\t\",end,\"\\trnd{}\".format(count)\n",
    "    count +=1\n"
   ]
  },
  {
   "cell_type": "markdown",
   "metadata": {},
   "source": [
    "We can run the script with a new input file provided in the command line. You can change any of the parameters"
   ]
  },
  {
   "cell_type": "code",
   "execution_count": 2,
   "metadata": {
    "collapsed": false
   },
   "outputs": [
    {
     "name": "stdout",
     "output_type": "stream",
     "text": [
      "chr# \tStart \t\tEnd \t\trnd#\r\n",
      "chr1 \t211993681 \t211993682 \trnd1\r\n",
      "chr17 \t81780516 \t81780517 \trnd2\r\n",
      "chr8 \t120245114 \t120245115 \trnd3\r\n",
      "chr18 \t10933204 \t10933205 \trnd4\r\n",
      "chr21 \t44794831 \t44794832 \trnd5\r\n"
     ]
    }
   ],
   "source": [
    "!python2 ../scripts/getRegionW2.py -n5 -r0 -d1 -i \"../scripts/hg38.txt\""
   ]
  },
  {
   "cell_type": "markdown",
   "metadata": {},
   "source": [
    "### 2. Check the script  \n",
    "In this part we want to add some testing options to the script to be able to check the input file. It has to fulfill the following coditions:\n",
    "- the file is well formatted (2 columns)\n",
    "- the first column contains a string \"chrXY\" where X and Y are digits\n",
    "- the second column contains an integer\n",
    "- the integer is not negative  \n",
    "\n",
    "To test the file we could define \"checking\" functions"
   ]
  },
  {
   "cell_type": "code",
   "execution_count": 3,
   "metadata": {
    "collapsed": false
   },
   "outputs": [
    {
     "name": "stdout",
     "output_type": "stream",
     "text": [
      "Checking the format: the file is well formatted\n"
     ]
    }
   ],
   "source": [
    "#a function that proves whether the input file contains  two columns\n",
    "def checkFormatting():\n",
    "    check=True\n",
    "    with open('../scripts/hg38.txt') as dimension_file:\n",
    "        #go through all of the lines and check whether exactly two columns are present\n",
    "        for line in dimension_file:\n",
    "            result=line.split()\n",
    "            if len(result)==2:\n",
    "                continue\n",
    "            else:\n",
    "                print 'Checking the format: the file has to contain two columns'\n",
    "                check=False\n",
    "                break\n",
    "    dimension_file.close()\n",
    "    if check == True:\n",
    "        print \"Checking the format: the file is well formatted\"\n",
    "        \n",
    "checkFormatting()\n"
   ]
  },
  {
   "cell_type": "code",
   "execution_count": 4,
   "metadata": {
    "collapsed": false
   },
   "outputs": [
    {
     "name": "stdout",
     "output_type": "stream",
     "text": [
      "Checking the first column: one of the chromosome names is duplicated\n"
     ]
    }
   ],
   "source": [
    "#a function that proves whether the first column contains a string and that each string is unique.\n",
    "def checkColumn1():\n",
    "    check = True\n",
    "    with open('../scripts/hg38wrong2.txt') as dimension_file:\n",
    "        column1=[]\n",
    "        lines=dimension_file.readlines()\n",
    "        for line in lines:\n",
    "            if line.split()[0].strip() not in column1:\n",
    "                column1.append(line.split()[0].strip())\n",
    "            else:\n",
    "                print \"Checking the first column: one of the chromosome names is duplicated\"\n",
    "                check = False\n",
    "                break\n",
    "        if check == True:\n",
    "            print \"Checking the first column: the names of chromosomes are correct\"\n",
    "    dimension_file.close()\n",
    "    \n",
    "checkColumn1()"
   ]
  },
  {
   "cell_type": "markdown",
   "metadata": {},
   "source": [
    "In the file hg38wrong2.txt one of the chromosome names in the first column was duplicated, so the helping message appeared."
   ]
  },
  {
   "cell_type": "code",
   "execution_count": 5,
   "metadata": {
    "collapsed": false
   },
   "outputs": [
    {
     "name": "stdout",
     "output_type": "stream",
     "text": [
      "Checking the second column: could not convert 81341915i to an integer\n"
     ]
    }
   ],
   "source": [
    "#a function that proves whether the second column contains a positive integer\n",
    "def checkColumn2():\n",
    "    check = True\n",
    "    with open('../scripts/hg38wrong3.txt') as dimension_file:\n",
    "        column2=[]\n",
    "        lines=dimension_file.readlines()\n",
    "        for line in lines:\n",
    "            try:\n",
    "                #extract the second column to a list and try to convert each element into an integer\n",
    "                column2.append(int(line.split()[1].strip()))\n",
    "            #catch a ValueError: invalid literal for int()\n",
    "            except ValueError:\n",
    "                check = False\n",
    "                print \"Checking the second column: could not convert {} to an integer\".format(line.split()[1].strip())\n",
    "    dimension_file.close()\n",
    "    if check == True:\n",
    "        for length in column2:\n",
    "            if length<0:\n",
    "                print \"Checking the second column: you provided a negative chromosome length: {}\".format(length)\n",
    "                check = False\n",
    "    if check == True:\n",
    "        return \"Checking the second column: the lengths of chromosomes are correct\"\n",
    "\n",
    "checkColumn2()"
   ]
  },
  {
   "cell_type": "markdown",
   "metadata": {},
   "source": [
    "Now we can add the testing functions to the original script and test if it works"
   ]
  },
  {
   "cell_type": "code",
   "execution_count": 17,
   "metadata": {
    "collapsed": false
   },
   "outputs": [
    {
     "name": "stdout",
     "output_type": "stream",
     "text": [
      "Overwriting ../scripts/getRegionW2.py\n"
     ]
    }
   ],
   "source": [
    "%%writefile ../scripts/getRegionW2.py\n",
    "#parser setup\n",
    "def parseArgs():\n",
    "    import sys\n",
    "    import argparse\n",
    "    parser = argparse.ArgumentParser()\n",
    "    parser.prog = 'progName.py'\n",
    "    parser.description = 'You can provide the program with three parameters through the terminal'\n",
    "    parser.add_argument(\"-n\", type=int, help='Number of integration regions generated')\n",
    "    parser.add_argument(\"-r\", type=int, help='Range-value: defines an interval where the IR is located')\n",
    "    parser.add_argument(\"-d\", type=int, help='Delta-value: expands the range with the value provided by user')\n",
    "    #add new input argument\n",
    "    parser.add_argument(\"-i\", help='Input-file .txt with names of chromosomes and their lengths in bp organized into two columns and separated by \\t')\n",
    "    namespace = parser.parse_args((sys.argv[1:]))\n",
    "    return namespace\n",
    "#a function that proves whether the input file contains  two columns\n",
    "def checkFormatting():\n",
    "    check=True\n",
    "    #go through all of the lines and check whether exactly two columns are present\n",
    "    for line in dimension_file:\n",
    "        result=line.split()\n",
    "        if len(result)==2:\n",
    "            continue\n",
    "        else:\n",
    "            print 'Checking format: the text file has to contain two columns'\n",
    "            check=False\n",
    "            break\n",
    "    if check == True:\n",
    "        print \"Checking format: the file is well formatted\"\n",
    "    return check\n",
    "\n",
    "#a function that proves whether the first column contains a string \"chrXY\" where X and Y are digits\n",
    "def checkColumn1():\n",
    "    check = True\n",
    "    column1=[]\n",
    "    for line in dimension_file:\n",
    "        if line.split()[0].strip() not in column1:\n",
    "            column1.append(line.split()[0].strip())\n",
    "        else:\n",
    "            print \"Checking the first column: one of the chromosome names is duplicated\"\n",
    "            check = False\n",
    "            break\n",
    "    if check == True:\n",
    "        print \"Checking the first column: the names of chromosomes are correct\"\n",
    "    return check\n",
    "    \n",
    "#a function that proves whether the second column contains a positive integer\n",
    "def checkColumn2():\n",
    "    check = True\n",
    "    column2=[]\n",
    "    for line in dimension_file:\n",
    "        try:\n",
    "            #extract the second column to a list and try to convert each element into an integer\n",
    "            column2.append(int(line.split()[1].strip()))\n",
    "        #catch a ValueError: invalid literal for int()\n",
    "        except ValueError:\n",
    "            check = False\n",
    "            print \"Checking the second column: could not convert {} to an integer\".format(line.split()[1].strip())\n",
    "    if check == True:\n",
    "        for length in column2:\n",
    "            if length<0:\n",
    "                print \"Checking the second column: you provided a negative chromosome length: {}\".format(length)\n",
    "                check = False\n",
    "    if check == True:\n",
    "        print \"Checking the second column: the lengths of chromosomes are correct\"\n",
    "    return check\n",
    "#a function which will process the given text file and return {\"chr name\": chr length} pairs inside of a dictionary\n",
    "def getDimensionDict(filename):\n",
    "    d={}\n",
    "    with open(filename) as dimension_file:\n",
    "        for line in dimension_file:\n",
    "            key, value = line.split()\n",
    "            d[key.strip()]=int(value.strip())\n",
    "        dimension_file.close()\n",
    "    return d\n",
    "#the following line will protect the code frome executing if I will import the file as a module\n",
    "if __name__ == \"__main__\":\n",
    "    #check the input file\n",
    "    namespace = parseArgs()\n",
    "    f = open(namespace.i,\"r\")\n",
    "    dimension_file=f.readlines()\n",
    "    check=checkFormatting()\n",
    "    if check==True:\n",
    "        check=checkColumn1()\n",
    "        if check==True:\n",
    "            check=checkColumn2()\n",
    "            if check == True:\n",
    "                dimension_dict = getDimensionDict(namespace.i)\n",
    "                #loop on n random IR\n",
    "                import random\n",
    "                count = 1\n",
    "                print \"chr#\", '\\t', 'Start', '\\t\\t', 'End', '\\t\\trnd#'\n",
    "                for i in range(namespace.n):\n",
    "                    #select a chromosome\n",
    "                    chrom = random.choice(dimension_dict.keys())\n",
    "    \n",
    "                    #select a site on that chromosome\n",
    "                    start = random.randint(1,dimension_dict[chrom])\n",
    "\n",
    "                    #select a random region\n",
    "                    end = start + random.randint(0,namespace.r) + namespace.d\n",
    "                    if len(str(chrom))==1:\n",
    "                        print chrom,'',\"\\t\",start,\"\\t\",end,\"\\trnd{}\".format(count)\n",
    "                    else:\n",
    "                        print chrom,\"\\t\",start,\"\\t\",end,\"\\trnd{}\".format(count)\n",
    "                    count +=1\n",
    "    f.close()"
   ]
  },
  {
   "cell_type": "code",
   "execution_count": 18,
   "metadata": {
    "collapsed": false,
    "scrolled": true
   },
   "outputs": [
    {
     "name": "stdout",
     "output_type": "stream",
     "text": [
      "Checking format: the file is well formatted\r\n",
      "Checking the first column: the names of chromosomes are correct\r\n",
      "Checking the second column: the lengths of chromosomes are correct\r\n",
      "chr# \tStart \t\tEnd \t\trnd#\r\n",
      "chr19 \t8699793 \t8699794 \trnd1\r\n",
      "chr18 \t27883540 \t27883541 \trnd2\r\n",
      "chr14 \t79934262 \t79934263 \trnd3\r\n",
      "chr14 \t42162829 \t42162830 \trnd4\r\n",
      "chr7 \t82799459 \t82799460 \trnd5\r\n"
     ]
    }
   ],
   "source": [
    "!python2 ../scripts/getRegionW2.py -n5 -r0 -d1 -i \"../scripts/hg38.txt\""
   ]
  },
  {
   "cell_type": "markdown",
   "metadata": {},
   "source": [
    "The input file above passed through all the checking functions and the program gave an expected output. If we run the program with a wrong input file we will get one of the help-messages:"
   ]
  },
  {
   "cell_type": "code",
   "execution_count": 108,
   "metadata": {
    "collapsed": false,
    "scrolled": true
   },
   "outputs": [
    {
     "name": "stdout",
     "output_type": "stream",
     "text": [
      "Checking format: the text file has to contain two columns\r\n"
     ]
    }
   ],
   "source": [
    "!python2 ../scripts/getRegionW2.py -n5 -r0 -d1 -i \"../scripts/hg38wrong1.txt\""
   ]
  },
  {
   "cell_type": "code",
   "execution_count": 4,
   "metadata": {
    "collapsed": false,
    "scrolled": true
   },
   "outputs": [
    {
     "name": "stdout",
     "output_type": "stream",
     "text": [
      "Checking format: the file is well formatted\r\n",
      "Checking the first column: one of the chromosome names is duplicated\r\n"
     ]
    }
   ],
   "source": [
    "!python2 ../scripts/getRegionW2.py -n5 -r0 -d1 -i \"../scripts/hg38wrong2.txt\""
   ]
  },
  {
   "cell_type": "code",
   "execution_count": 110,
   "metadata": {
    "collapsed": false,
    "scrolled": true
   },
   "outputs": [
    {
     "name": "stdout",
     "output_type": "stream",
     "text": [
      "Checking format: the file is well formatted\r\n",
      "Checking the first column: the names of chromosomes are correct\r\n",
      "Checking the second column: could not convert 81341915i to an integer\r\n"
     ]
    }
   ],
   "source": [
    "!python2 ../scripts/getRegionW2.py -n5 -r0 -d1 -i \"../scripts/hg38wrong3.txt\""
   ]
  },
  {
   "cell_type": "markdown",
   "metadata": {
    "collapsed": true
   },
   "source": [
    "### 3. Test the script with three different genomes: human, mouse and honey bee  \n",
    "The text files containing chromosome lengths are stored in the scripts folder. The data was derived from the UCSC database:\n",
    "* Human:\n",
    " - http://genome.ucsc.edu/cgi-bin/hgTracks?db=hg38&chromInfoPage=\n",
    " - http://genome.ucsc.edu/cgi-bin/hgTracks?db=hg19&chromInfoPage=\n",
    "* Mouse:  \n",
    " - http://genome.ucsc.edu/cgi-bin/hgTracks?db=mm10&chromInfoPage=\n",
    "* Honeybee A. mellifera:\n",
    " - http://genome.ucsc.edu/cgi-bin/hgTracks?db=apiMel2&chromInfoPage=\n",
    "\n",
    "\n"
   ]
  },
  {
   "cell_type": "code",
   "execution_count": 5,
   "metadata": {
    "collapsed": false,
    "scrolled": false
   },
   "outputs": [
    {
     "name": "stdout",
     "output_type": "stream",
     "text": [
      "Checking format: the file is well formatted\r\n",
      "Checking the first column: the names of chromosomes are correct\r\n",
      "Checking the second column: the lengths of chromosomes are correct\r\n",
      "chr# \tStart \t\tEnd \t\trnd#\r\n",
      "chr12 \t49617186 \t49617187 \trnd1\r\n",
      "chr9 \t43068473 \t43068474 \trnd2\r\n",
      "chr23 \t105156875 \t105156876 \trnd3\r\n",
      "chr6 \t91522066 \t91522067 \trnd4\r\n",
      "chr16 \t61635688 \t61635689 \trnd5\r\n"
     ]
    }
   ],
   "source": [
    "!python2 ../scripts/getRegionW2.py -n5 -r0 -d1 -i \"../scripts/hg19.txt\""
   ]
  },
  {
   "cell_type": "code",
   "execution_count": 6,
   "metadata": {
    "collapsed": false,
    "scrolled": false
   },
   "outputs": [
    {
     "name": "stdout",
     "output_type": "stream",
     "text": [
      "Checking format: the file is well formatted\r\n",
      "Checking the first column: the names of chromosomes are correct\r\n",
      "Checking the second column: the lengths of chromosomes are correct\r\n",
      "chr# \tStart \t\tEnd \t\trnd#\r\n",
      "chr15 \t42335677 \t42335678 \trnd1\r\n",
      "chr20 \t94053762 \t94053763 \trnd2\r\n",
      "chr3 \t64107011 \t64107012 \trnd3\r\n",
      "chr8 \t73219702 \t73219703 \trnd4\r\n",
      "chr9 \t44711976 \t44711977 \trnd5\r\n"
     ]
    }
   ],
   "source": [
    "!python2 ../scripts/getRegionW2.py -n5 -r0 -d1 -i \"../scripts/mm10.txt\""
   ]
  },
  {
   "cell_type": "code",
   "execution_count": 7,
   "metadata": {
    "collapsed": false,
    "scrolled": true
   },
   "outputs": [
    {
     "name": "stdout",
     "output_type": "stream",
     "text": [
      "Checking format: the file is well formatted\r\n",
      "Checking the first column: the names of chromosomes are correct\r\n",
      "Checking the second column: the lengths of chromosomes are correct\r\n",
      "chr# \tStart \t\tEnd \t\trnd#\r\n",
      "Group10 \t30983 \t30984 \trnd1\r\n",
      "Group10 \t5601727 \t5601728 \trnd2\r\n",
      "Group2 \t7957902 \t7957903 \trnd3\r\n",
      "Group3 \t1562084 \t1562085 \trnd4\r\n",
      "Group1 \t4126480 \t4126481 \trnd5\r\n"
     ]
    }
   ],
   "source": [
    "!python2 ../scripts/getRegionW2.py -n5 -r0 -d1 -i \"../scripts/apiMel2.txt\""
   ]
  },
  {
   "cell_type": "markdown",
   "metadata": {},
   "source": [
    "### 4. Find out the differences between different releases of human genome\n",
    " ###### Two major annotations of the human genome *hg38* and *hg19***"
   ]
  },
  {
   "cell_type": "markdown",
   "metadata": {
    "collapsed": true
   },
   "source": [
    "Some definitions and clarifications:\n",
    "\n",
    "**Reference genome** is assembled from the sequencing of DNA from a number of donors. It does not represent the set of genes of any single person. The human reference genomes are maintained and improved by the *Genome Reference Consortium (GRC)*, a group 20 scientists from a number of genome research institutes.\n",
    "\n",
    "**Genome annotation** is the process of identifying the locations of genes and all of the coding regions in a genome and determining what those genes do. An annotation is a note added by way of explanation or commentary. Once a genome is sequenced, it needs to be annotated to make sense of it.\n",
    "\n",
    "The GRC does not provide annotation for the assembly. The assembly is annotated by the major browsers (UCSC, Ensembl and NCBI).\n",
    "\n",
    "Each genome annotation project uses different annotation strategies and information sources. Thus, high variation exists among multiple available annotations in terms of the comprehensiveness of annotated genomic elements. Some annotation strategies rely on computer-based prediction, resulting in more complex gene models that contain more predictive or exploratory genomic elements. Other annotation strategies rely on evidence-based methods, i.e., methods that require more manual curation, leading to simpler gene models with fewer genes and isoforms (i.e., splice variants of a gene). (http://bmcbioinformatics.biomedcentral.com/articles/10.1186/1471-2105-14-S11-S8)\n",
    "\n",
    "GRCh38 or hg38 is the latest version of the human genome released in December 2013. The previous version GRC37 or hg19 was released in February 2009. \n",
    "\n",
    "In GRCh38 the following changes were introduced:\n",
    "http://genomeref.blogspot.de/2013/12/announcing-grch38.html\n",
    "\n",
    "- updated chromosome coordinates;  \n",
    "  \n",
    "  \n",
    "- mitochondrial genome:  \n",
    "mitochondrial reference sequence was included  \n",
    "  \n",
    "  \n",
    "- sequence representation for centromeres:   \n",
    "In previous reference assembly versions, the centromeres were represented by large, megabase-sized, gaps (N's in the assembly sequence). In GRCh38, these gaps are replaced by sequences derived from the reads generated during the sequencing of the HuRef genome. These sequences were used to create centromere models, that  provide the approximate repeat number and order for each centromere in the genome. These model centromere sequences can be useful for **read mapping** and variation studies.\n",
    "  \n",
    "  \n",
    "- General assembly updates:  \n",
    "Several thousand individual bases were updated in GRCh38, many of which corrected errors in coding sequence. More that 100 assembly gaps have also been updated: either closed or reduced.\n",
    "  \n",
    "  \n",
    "- Variation:  \n",
    "Like GRCh37, the updated reference assembly provides alternate sequence representation for variant regions in the form of alternate loci (alt loci) scaffolds. In GRCh38 there are 261 alt loci scaffolds, only 72 were previously available to GRCh37.\n",
    "\n"
   ]
  },
  {
   "cell_type": "markdown",
   "metadata": {},
   "source": [
    "##### Two minor annotations of the human genome**\n",
    "https://www.ncbi.nlm.nih.gov/grc/help/patches#why"
   ]
  },
  {
   "cell_type": "markdown",
   "metadata": {},
   "source": [
    "Updates on GRCh38 are called minor releases, they are uploaded once a year. Minor releases **do not change chromosome coordinates**, they contain FIX and Novel patches.\n",
    "\n",
    "Patches are a means to provide updated information for a particular genomic region without changing chromosome coordinates. Researchers performing whole genome analysis typically require stability of chromosome coordinates due to the time and effort it takes to do an experiment, and the effort involved in remapping data to new coordinates. Researchers interested in a particular locus prefer to have the most recent information. Patches allow us to serve both communities better.\n",
    "\n",
    "**Fix patches** represent changes to existing assembly sequences. These are generally error corrections (addressed by approaches such as base changes, component replacements/updates, switch point updates or tiling path changes) or assembly improvements, such as the extension of sequence into gaps.  \n",
    "**Novel patches** represent the addition of new alternate loci to the assembly. These are alternate sequence representations of sequence found on the chromosomes."
   ]
  },
  {
   "cell_type": "markdown",
   "metadata": {},
   "source": [
    "### 5. Plot and describe the empirical distribution function on chr1  \n",
    "In this section we will define a new function to plot the distribution of 1000 random regions on chr1. For the purpose of demonstration we will redefine here the getDimensionDict(filename) function to obtain a dictionary with the chromosome names and their lengths from a text file of our choice (e.g. hg38.txt). Then we will sample n random positions on a chosen chromosome from that dictionary.  \n",
    "We expect that the distribution we get is uniform since we choose the regions randomly. That means that in theory each position has the same probability to be chosen."
   ]
  },
  {
   "cell_type": "code",
   "execution_count": 2,
   "metadata": {
    "collapsed": false,
    "scrolled": true
   },
   "outputs": [
    {
     "name": "stdout",
     "output_type": "stream",
     "text": [
      "{'chr13': 114364328, 'chr12': 133275309, 'chr11': 135086622, 'chr10': 133797422, 'chr17': 83257441, 'chr16': 90338345, 'chr15': 101991189, 'chr14': 107043718, 'chr19': 58617616, 'chr18': 80373285, 'chr24': 57227415, 'chr22': 50818468, 'chr23': 156040895, 'chr20': 64444167, 'chr21': 46709983, 'chr7': 159345973, 'chr6': 170805979, 'chr5': 181538259, 'chr4': 190214555, 'chr3': 198295559, 'chr2': 242193529, 'chr1': 248956422, 'chr9': 138394717, 'chr8': 145138636}\n"
     ]
    }
   ],
   "source": [
    "def getDimensionDict(filename):\n",
    "    d={}\n",
    "    with open(filename) as dimension_file:\n",
    "        for line in dimension_file:\n",
    "            key, value = line.split()\n",
    "            d[key.strip()]=int(value.strip())\n",
    "        dimension_file.close()\n",
    "    return d\n",
    "#choose here any file containing chromosome names and lengths\n",
    "dimension_dict = getDimensionDict('../scripts/hg38.txt')\n",
    "print dimension_dict"
   ]
  },
  {
   "cell_type": "markdown",
   "metadata": {},
   "source": [
    "As next we will plot the distribution"
   ]
  },
  {
   "cell_type": "code",
   "execution_count": 15,
   "metadata": {
    "collapsed": false,
    "scrolled": false
   },
   "outputs": [
    {
     "data": {
      "image/png": "[encoded data removed]",
      "text/plain": [
       "<matplotlib.figure.Figure at 0x112d330d0>"
      ]
     },
     "metadata": {},
     "output_type": "display_data"
    }
   ],
   "source": [
    "import random\n",
    "import numpy as np\n",
    "import scipy.stats as stats\n",
    "import matplotlib.pyplot as plt\n",
    "#the function has two arguments: n is a number of regions, chrom is a string containing a chromosome name\n",
    "def plotDistribution(n,chrom):\n",
    "    chrLen = dimension_dict[chrom]\n",
    "    position = []\n",
    "    for i in range(n):\n",
    "        position.append(random.randint(1,chrLen))\n",
    "    position.sort()\n",
    "    #mean value of n positions obtained randomly\n",
    "    pmean = np.mean(position)\n",
    "    #standard deviation\n",
    "    pstd = np.std(position)\n",
    "    #pdf = 'probability density function'\n",
    "    pdf = stats.norm.pdf(position, pmean, pstd)\n",
    "    plt.hist(position,normed=True, label = 'histogram')\n",
    "    plt.plot(position, pdf, label = 'PDF')\n",
    "    plt.xlabel(\"$Position\\ on\\ a\\ chromosome$\")\n",
    "    plt.ylabel(\"$Probability$\")\n",
    "    plt.legend(loc='lower right')\n",
    "    plt.show()\n",
    "#use the function to sample 1000 positions on chr1\n",
    "plotDistribution(1000,'chr1')\n",
    "    "
   ]
  },
  {
   "cell_type": "markdown",
   "metadata": {},
   "source": [
    "As expected the distribution looks quite uniform: the histogram bins are approximately of the same height, so it is true that each position on a chromosome has the same probability to be chosen by a random.randint() function. The proof for it shows also the bell shaped probability density function (PDF) (***according to wikipedia: in case of discrete distribution it should be called probability mass function (PMF), but let us stick to PDF for now***).  \n",
    "  \n",
    "The PDF doesn't show the probability of each single position to be chosen, but it shows how probable it is that a random value falls within a particular range of values (interval). This probability is given by the integral of this variable’s PDF over that range. The integral over the whole range of possible values is set to 1 meaning 100% probability, in this case it is called *normed*. The probability that we will get any value below mean-value is 50% or 1/2 wich is the same as the probability to get any value above the mean, since the curve is symmetrical.  \n",
    "  \n",
    "If we increase the number of draws tenfold (n=10000), the distribution gets even more uniform. The higher the n-value we choose the more uniform gets the distribution."
   ]
  },
  {
   "cell_type": "code",
   "execution_count": 20,
   "metadata": {
    "collapsed": false,
    "scrolled": true
   },
   "outputs": [
    {
     "data": {
      "image/png": "[encoded data removed]",
      "text/plain": [
       "<matplotlib.figure.Figure at 0x112f6b090>"
      ]
     },
     "metadata": {},
     "output_type": "display_data"
    }
   ],
   "source": [
    "plotDistribution(10000,'chr1')"
   ]
  },
  {
   "cell_type": "markdown",
   "metadata": {},
   "source": [
    "Now let's write a script with the new functions and import it as a module using the \"import\" statement. Then we'll be able to use those functions outside of the script."
   ]
  },
  {
   "cell_type": "code",
   "execution_count": 16,
   "metadata": {
    "collapsed": false
   },
   "outputs": [
    {
     "name": "stdout",
     "output_type": "stream",
     "text": [
      "Overwriting ../scripts/modelZeroModules.py\n"
     ]
    }
   ],
   "source": [
    "%%writefile ../scripts/modelZeroModules.py\n",
    "\"\"\"NCT Heidelberg\n",
    "Elvira Mingazova 2017\n",
    "Here are useful functions for completing week2 tasks\"\"\"\n",
    "\n",
    "#a function which will process the given text file and return {\"chr name\": chr length} pairs inside of a dictionary\n",
    "def getDimensionDict(filename):\n",
    "    d={}\n",
    "    with open(filename) as dimension_file:\n",
    "        for line in dimension_file:\n",
    "            key, value = line.split()\n",
    "            d[key.strip()]=int(value.strip())\n",
    "        dimension_file.close()\n",
    "    return d\n",
    "import random\n",
    "import numpy as np\n",
    "import scipy.stats as stats\n",
    "import matplotlib.pyplot as plt\n",
    "#a new parameter \"filename\" was added to this function in order \n",
    "#to be able to call getDimensionDict(filename) from within\n",
    "def plotDistribution(n,chrom,filename):\n",
    "    dimension_dict = getDimensionDict(filename)\n",
    "    chrLen = dimension_dict[chrom]\n",
    "    position = []\n",
    "    for i in range(n):\n",
    "        position.append(random.randint(1,chrLen))\n",
    "    position.sort()\n",
    "    pmean = np.mean(position)\n",
    "    pstd = np.std(position)\n",
    "    pdf = stats.norm.pdf(position, pmean, pstd)\n",
    "    plt.hist(position,normed=True, label = 'histogram')\n",
    "    plt.plot(position, pdf, label = 'PDF')\n",
    "    plt.xlabel(\"$Position\\ on\\ a\\ chromosome$\")\n",
    "    plt.ylabel(\"$Probability$\")\n",
    "    plt.legend(loc='lower right')\n",
    "    plt.show()"
   ]
  },
  {
   "cell_type": "markdown",
   "metadata": {},
   "source": [
    "In order to be able to import a program as a module from a non-working directory we need to add the path to the PYTHONPATH. One way to do it at a runtime would be the following:"
   ]
  },
  {
   "cell_type": "code",
   "execution_count": 17,
   "metadata": {
    "collapsed": true
   },
   "outputs": [],
   "source": [
    "import sys\n",
    "sys.path.insert(0, '/Users/elming/Advanced-random-IR/scripts')"
   ]
  },
  {
   "cell_type": "code",
   "execution_count": 18,
   "metadata": {
    "collapsed": false
   },
   "outputs": [],
   "source": [
    "import modelZeroModules as mzm"
   ]
  },
  {
   "cell_type": "code",
   "execution_count": 10,
   "metadata": {
    "collapsed": false
   },
   "outputs": [
    {
     "name": "stdout",
     "output_type": "stream",
     "text": [
      "Help on module modelZeroModules:\n",
      "\n",
      "NAME\n",
      "    modelZeroModules\n",
      "\n",
      "FILE\n",
      "    /Users/elming/Advanced-random-IR/scripts/modelZeroModules.py\n",
      "\n",
      "DESCRIPTION\n",
      "    NCT Heidelberg\n",
      "    Elvira Mingazova 2017\n",
      "    Here are useful functions for completing week2 tasks\n",
      "\n",
      "FUNCTIONS\n",
      "    getDimensionDict(filename)\n",
      "        #a function which will process the given text file and return {\"chr name\": chr length} pairs inside of a dictionary\n",
      "    \n",
      "    plotDistribution(n, chrom, filename)\n",
      "        #a new parameter \"filename\" was added to this function in order \n",
      "        #to be able to call getDimensionDict(filename) from within\n",
      "\n",
      "\n"
     ]
    }
   ],
   "source": [
    "help(mzm)"
   ]
  },
  {
   "cell_type": "code",
   "execution_count": 19,
   "metadata": {
    "collapsed": false
   },
   "outputs": [
    {
     "data": {
      "image/png": "[encoded data removed]",
      "text/plain": [
       "<matplotlib.figure.Figure at 0x1128aa910>"
      ]
     },
     "metadata": {},
     "output_type": "display_data"
    }
   ],
   "source": [
    "mzm.plotDistribution(1000,'chr1','../scripts/hg38.txt')"
   ]
  },
  {
   "cell_type": "code",
   "execution_count": null,
   "metadata": {
    "collapsed": true
   },
   "outputs": [],
   "source": []
  }
 ],
 "metadata": {
  "anaconda-cloud": {},
  "kernelspec": {
   "display_name": "Python [conda env:python2]",
   "language": "python",
   "name": "conda-env-python2-py"
  },
  "language_info": {
   "codemirror_mode": {
    "name": "ipython",
    "version": 2
   },
   "file_extension": ".py",
   "mimetype": "text/x-python",
   "name": "python",
   "nbconvert_exporter": "python",
   "pygments_lexer": "ipython2",
   "version": "2.7.13"
  }
 },
 "nbformat": 4,
 "nbformat_minor": 1
}
