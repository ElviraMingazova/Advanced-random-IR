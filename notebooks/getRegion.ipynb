{
 "cells": [
  {
   "cell_type": "markdown",
   "metadata": {},
   "source": [
    "# Advanced random IR\n",
    "Stage: model Zero - a simple model  \n",
    "This is a tool to generate random integration regions on a hg38"
   ]
  },
  {
   "cell_type": "markdown",
   "metadata": {},
   "source": [
    "#### Authors: \n",
    "Elvira Mingazova, Saira Afzal, Raffaele Fronza 2017\n",
    "#### Parameters:\n",
    "n - number of random intervals  \n",
    "r - range: defines an interval where the IR is located\n",
    "d - delta: expands the range with the chosen value"
   ]
  },
  {
   "cell_type": "markdown",
   "metadata": {},
   "source": [
    "First we want to make the input of the parameters possible. For that reason we use sys and argparse modules\n",
    "(inspired by https://dmorgan.info/posts/argparse-intro/)"
   ]
  },
  {
   "cell_type": "code",
   "execution_count": 2,
   "metadata": {
    "collapsed": false,
    "scrolled": true
   },
   "outputs": [
    {
     "data": {
      "text/plain": [
       "_StoreAction(option_strings=['-d'], dest='d', nargs=None, const=None, default=None, type=<type 'int'>, choices=None, help='Delta-value: expands the range with the value provided by user', metavar=None)"
      ]
     },
     "execution_count": 2,
     "metadata": {},
     "output_type": "execute_result"
    }
   ],
   "source": [
    "#parser setup\n",
    "import sys\n",
    "import argparse\n",
    "parser = argparse.ArgumentParser()\n",
    "parser.prog = 'progName.py'\n",
    "parser.description = 'You can provide the program with three parameters through the terminal'\n",
    "parser.add_argument(\"-n\", type=int, help='Number of integration regions generated')\n",
    "parser.add_argument(\"-r\", type=int, help='Range-value: defines an interval where the IR is located')\n",
    "parser.add_argument(\"-d\", type=int, help='Delta-value: expands the range with the value provided by user')"
   ]
  },
  {
   "cell_type": "code",
   "execution_count": 19,
   "metadata": {
    "collapsed": false,
    "scrolled": true
   },
   "outputs": [
    {
     "name": "stdout",
     "output_type": "stream",
     "text": [
      "usage: progName.py [-h] [-n N] [-r R] [-d D]\n",
      "\n",
      "You can provide the program with three parameters through the terminal\n",
      "\n",
      "optional arguments:\n",
      "  -h, --help  show this help message and exit\n",
      "  -n N        Number of integration sites generated\n",
      "  -r R        Range-value: defines an interval where the IS is located\n",
      "  -d D        Delta-value: expands the range with the value provided by user\n"
     ]
    },
    {
     "ename": "SystemExit",
     "evalue": "0",
     "output_type": "error",
     "traceback": [
      "An exception has occurred, use %tb to see the full traceback.\n",
      "\u001b[0;31mSystemExit\u001b[0m\u001b[0;31m:\u001b[0m 0\n"
     ]
    }
   ],
   "source": [
    "parser.parse_args(['--help'])"
   ]
  },
  {
   "cell_type": "markdown",
   "metadata": {},
   "source": [
    "Now we are ready to parse some arguments. The parse_args method expects a list of strings to use as input. Typically, this list will come from sys.argv(input from the terminal) but in Jupyter Notebook you just have to provide the code with the parameters of your choice right inside of the cell. For instance:"
   ]
  },
  {
   "cell_type": "code",
   "execution_count": 3,
   "metadata": {
    "collapsed": false
   },
   "outputs": [
    {
     "name": "stdout",
     "output_type": "stream",
     "text": [
      "Namespace(d=1, n=5, r=0)\n"
     ]
    }
   ],
   "source": [
    "namespace=parser.parse_args('-n 5 -r 0 -d 1'.split())\n",
    "print namespace"
   ]
  },
  {
   "cell_type": "markdown",
   "metadata": {},
   "source": [
    "The parameters will be stored in a Namespace object. Each parameter is accessible through namespace.n, namespace.r or namespace.d. In this example the following values are assigned to the parameters: namespace.n=4, namespace.r=0 and namespace.d=1"
   ]
  },
  {
   "cell_type": "markdown",
   "metadata": {},
   "source": [
    "Now we are ready to set up the random model Zero:"
   ]
  },
  {
   "cell_type": "code",
   "execution_count": 18,
   "metadata": {
    "collapsed": false,
    "scrolled": true
   },
   "outputs": [
    {
     "name": "stdout",
     "output_type": "stream",
     "text": [
      "chr# \tStart \t\tEnd \t\trnd#\n",
      "chr22 \t19168865 \t19168866 \trnd1\n",
      "chr15 \t6970347 \t6970348 \trnd2\n",
      "chr3  \t18872562 \t18872563 \trnd3\n",
      "chr17 \t50936308 \t50936309 \trnd4\n",
      "chr3  \t23104662 \t23104663 \trnd5\n"
     ]
    }
   ],
   "source": [
    "import random\n",
    "#create a dictionary for the chromosoms lengths\n",
    "chrLen = {}\n",
    "chrLen[1]=224999719\n",
    "chrLen[2]=237712649\n",
    "chrLen[3]=194704827\n",
    "chrLen[4]=187297063\n",
    "chrLen[5]=177702766\n",
    "chrLen[6]=167273993\n",
    "chrLen[7]=154952424\n",
    "chrLen[8]=142612826\n",
    "chrLen[9]=120312298\n",
    "chrLen[10]=131624737\n",
    "chrLen[11]=131130853\n",
    "chrLen[12]=130303534\n",
    "chrLen[13]=95559980\n",
    "chrLen[14]=88290585\n",
    "chrLen[15]=81341915\n",
    "chrLen[16]=78884754\n",
    "chrLen[17]=77800220\n",
    "chrLen[18]=74656155\n",
    "chrLen[19]=55785651\n",
    "chrLen[20]=59505254\n",
    "chrLen[21]=34171998\n",
    "chrLen[22]=34893953\n",
    "chrLen[23]=151058754\n",
    "chrLen[24]=57741652\n",
    "#define a count variable to visualise the order number of the output line\n",
    "count = 1\n",
    "#loop on n random IR\n",
    "print \"chr#\", '\\t', 'Start', '\\t\\t', 'End', '\\t\\trnd#'\n",
    "for i in range(namespace.n):\n",
    "    #select a chromosome\n",
    "    chrom = random.randint(1,24) #the name \"chrom\" was chosen because \"chr\" is a built-in function\n",
    "\n",
    "    #select a site on that chromosome\n",
    "    start = random.randint(1,chrLen[chrom])\n",
    "\n",
    "    #select a random region\n",
    "    end = start + random.randint(0,namespace.r) + namespace.d\n",
    "    if len(str(chrom))==1:\n",
    "        print \"chr{}\".format(chrom),'',\"\\t\",start,\"\\t\",end,\"\\trnd{}\".format(count)\n",
    "    else:\n",
    "        print \"chr{}\".format(chrom),\"\\t\",start,\"\\t\",end,\"\\trnd{}\".format(count)\n",
    "    count +=1"
   ]
  },
  {
   "cell_type": "markdown",
   "metadata": {
    "collapsed": true
   },
   "source": [
    "In this example the program calculated 5 random integration regions."
   ]
  },
  {
   "cell_type": "markdown",
   "metadata": {},
   "source": [
    "Now that argparse is taking care of the input validation, we can make a script, store it in the .py file and run it through the terminal."
   ]
  },
  {
   "cell_type": "markdown",
   "metadata": {},
   "source": [
    "### Making a script"
   ]
  },
  {
   "cell_type": "code",
   "execution_count": 2,
   "metadata": {
    "collapsed": false
   },
   "outputs": [
    {
     "name": "stdout",
     "output_type": "stream",
     "text": [
      "Overwriting /Users/elming/Advanced-random-IR/scripts/getRegion.py\n"
     ]
    }
   ],
   "source": [
    "%%writefile /Users/elming/Advanced-random-IR/scripts/getRegion.py\n",
    "import sys\n",
    "import argparse\n",
    "parser = argparse.ArgumentParser()\n",
    "parser.prog = 'progName.py'\n",
    "parser.description = 'You can provide the program with three parameters through the terminal'\n",
    "parser.add_argument(\"-n\", type=int, help='Number of integration regions generated')\n",
    "parser.add_argument(\"-r\", type=int, help='Range-value: defines an interval where the IR is located')\n",
    "parser.add_argument(\"-d\", type=int, help='Delta-value: expands the range with the value provided by user')\n",
    "\n",
    "#input parsing\n",
    "namespace = parser.parse_args((sys.argv[1:]))\n",
    "#create a dictionary for the chromosoms lengths\n",
    "import random\n",
    "chrLen = {}\n",
    "chrLen[1]=224999719\n",
    "chrLen[2]=237712649\n",
    "chrLen[3]=194704827\n",
    "chrLen[4]=187297063\n",
    "chrLen[5]=177702766\n",
    "chrLen[6]=167273993\n",
    "chrLen[7]=154952424\n",
    "chrLen[8]=142612826\n",
    "chrLen[9]=120312298\n",
    "chrLen[10]=131624737\n",
    "chrLen[11]=131130853\n",
    "chrLen[12]=130303534\n",
    "chrLen[13]=95559980\n",
    "chrLen[14]=88290585\n",
    "chrLen[15]=81341915\n",
    "chrLen[16]=78884754\n",
    "chrLen[17]=77800220\n",
    "chrLen[18]=74656155\n",
    "chrLen[19]=55785651\n",
    "chrLen[20]=59505254\n",
    "chrLen[21]=34171998\n",
    "chrLen[22]=34893953\n",
    "chrLen[23]=151058754\n",
    "chrLen[24]=57741652\n",
    "count = 1\n",
    "#loop on n random IR\n",
    "print \"chr#\", '\\t', 'Start', '\\t\\t', 'End', '\\t\\trnd#'\n",
    "for i in range(namespace.n):\n",
    "    #select a chromosome\n",
    "    chrom = random.randint(1,24) #the name \"chrom\" was chosen because \"chr\" is a built-in function\n",
    "\n",
    "    #select a site on that chromosome\n",
    "    start = random.randint(1,chrLen[chrom])\n",
    "\n",
    "    #select a random region\n",
    "    end = start + random.randint(0,namespace.r) + namespace.d\n",
    "    if len(str(chrom))==1:\n",
    "        print \"chr{}\".format(chrom),'',\"\\t\",start,\"\\t\",end,\"\\trnd{}\".format(count)\n",
    "    else:\n",
    "        print \"chr{}\".format(chrom),\"\\t\",start,\"\\t\",end,\"\\trnd{}\".format(count)\n",
    "    count +=1"
   ]
  },
  {
   "cell_type": "markdown",
   "metadata": {},
   "source": [
    "The contents of the script will be saved in a filename.py using the magic function %%writefile. Now we can run this script in the terminal."
   ]
  },
  {
   "cell_type": "markdown",
   "metadata": {},
   "source": [
    "Here is an example output:\n",
    "```python\n",
    "bash-3.2$ python2 getRegion.py -n 5 -r 0 -d 1                                                                                      \n",
    "chr#    Start           End             rnd#                                                                                       \n",
    "chr14   78859903        78859904        rnd1                                                                                       \n",
    "chr15   32687246        32687247        rnd2                                                                                       \n",
    "chr24   24524346        24524347        rnd3                                                                                       \n",
    "chr2    70310328        70310329        rnd4                                                                                       \n",
    "chr5    70505057        70505058        rnd5\n",
    "```"
   ]
  }
 ],
 "metadata": {
  "anaconda-cloud": {},
  "kernelspec": {
   "display_name": "Python [conda env:python2]",
   "language": "python",
   "name": "conda-env-python2-py"
  },
  "language_info": {
   "codemirror_mode": {
    "name": "ipython",
    "version": 2
   },
   "file_extension": ".py",
   "mimetype": "text/x-python",
   "name": "python",
   "nbconvert_exporter": "python",
   "pygments_lexer": "ipython2",
   "version": "2.7.13"
  }
 },
 "nbformat": 4,
 "nbformat_minor": 2
}
