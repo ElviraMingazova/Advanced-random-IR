{
 "cells": [
  {
   "cell_type": "markdown",
   "metadata": {},
   "source": [
    "# Model One: Mappability\n",
    "Elvira Mingazova, Raffaele Fronza  \n",
    "May, 2017  \n",
    "  \n",
    "First the mappability for the whole genome (hg38) for 3 kmers=[40,100,200] was computed as described in the mappabilityTrack.ipnb file. Wiggle files with variable step were obtained. For the format description see https://genome.ucsc.edu/goldenpath/help/wiggle.html. "
   ]
  },
  {
   "cell_type": "markdown",
   "metadata": {},
   "source": [
    "## Task 1: Uniquely mappable regions\n",
    "\n",
    "For each chromosome compute the length of the uniquely mappable regions (Mc), compute the total mappability (TM). Number of integration regions (n) to be generated on the specific chromosome is n = N*(Mc/TM), where N - total number of IR on the genome. Mc (mappability of the chromosome) is the sum of all positions with mappability = 1 on a specific chromosome, TM (total mappability) is the sum of all positions with mappability = 1 on the total hg38, IR - integration regions."
   ]
  },
  {
   "cell_type": "markdown",
   "metadata": {},
   "source": [
    "#### Compute using the .wig files\n",
    "Chr1 example"
   ]
  },
  {
   "cell_type": "code",
   "execution_count": 1,
   "metadata": {
    "collapsed": true
   },
   "outputs": [],
   "source": [
    "#length of the chr1\n",
    "chr1 = 248956422"
   ]
  },
  {
   "cell_type": "code",
   "execution_count": 2,
   "metadata": {
    "collapsed": false
   },
   "outputs": [],
   "source": [
    "import sys"
   ]
  },
  {
   "cell_type": "code",
   "execution_count": 3,
   "metadata": {
    "collapsed": false
   },
   "outputs": [],
   "source": [
    "sys.path.append(\"/Library/Frameworks/Python.framework/Versions/2.7/lib/python2.7/site-packages\")"
   ]
  },
  {
   "cell_type": "code",
   "execution_count": 4,
   "metadata": {
    "collapsed": true
   },
   "outputs": [],
   "source": [
    "import wiggelen"
   ]
  },
  {
   "cell_type": "code",
   "execution_count": null,
   "metadata": {
    "collapsed": false,
    "scrolled": true
   },
   "outputs": [
    {
     "name": "stdout",
     "output_type": "stream",
     "text": [
      "103547682\n"
     ]
    }
   ],
   "source": [
    "#count how many positions have the mappability value equal to 1\n",
    "counter = 0\n",
    "for region, position, value in wiggelen.walk(open('../../Desktop/NCT Bioinfo/testData/chr1_40.wig')):\n",
    "    if value == 1:\n",
    "        counter+=1\n",
    "print counter"
   ]
  },
  {
   "cell_type": "markdown",
   "metadata": {},
   "source": [
    "This value tells that the mappability of the chr1 is less than 50% which is false. The file <chr1_40.wig> was downloaded incomplete. See the tail-command output below. Last position is 118853022, whether the chr1 length is 248956422. So the uniquely mappable region computed for this incomplete chromosome is 87% until that point."
   ]
  },
  {
   "cell_type": "code",
   "execution_count": 7,
   "metadata": {
    "collapsed": false
   },
   "outputs": [
    {
     "data": {
      "text/plain": [
       "0.871224645848719"
      ]
     },
     "execution_count": 7,
     "metadata": {},
     "output_type": "execute_result"
    }
   ],
   "source": [
    "from __future__ import division\n",
    "103547682/118853022"
   ]
  },
  {
   "cell_type": "code",
   "execution_count": 6,
   "metadata": {
    "collapsed": false
   },
   "outputs": [
    {
     "name": "stdout",
     "output_type": "stream",
     "text": [
      "variableStep\tchrom=chr1\tspan=19\r\n",
      "118852984\t0.00646306\r\n",
      "variableStep\tchrom=chr1\tspan=15\r\n",
      "118853003\t0.00524922\r\n",
      "variableStep\tchrom=chr1\r\n",
      "118853018\t0.00646306\r\n",
      "variableStep\tchrom=chr1\tspan=3\r\n",
      "118853019\t0.00524922\r\n",
      "variableStep\tchrom=chr1\r\n",
      "118853022\t0.0"
     ]
    }
   ],
   "source": [
    "!tail ../testdata/chr1_40.wig"
   ]
  },
  {
   "cell_type": "markdown",
   "metadata": {},
   "source": [
    "This is the first approach to compute uniquely mappable regions, it takes a lot of time. Another approach was developed using the BEDOPS-tools (https://bedops.readthedocs.io/en/latest/) and awk-commands."
   ]
  },
  {
   "cell_type": "markdown",
   "metadata": {},
   "source": [
    "#### Compute using the .bed files\n",
    "First, the wig files for hg38 and all three kmers were converted to bed format using wig2bed function from the BEDOPS package (http://bedops.readthedocs.io/en/latest/content/reference/file-management/conversion/wig2bed.html). Example code:\n",
    "```bash\n",
    "wig2bed < hg38_40.wig > hg38_40.bed\n",
    "```  \n",
    "This is how the bed-file looks:"
   ]
  },
  {
   "cell_type": "code",
   "execution_count": 7,
   "metadata": {
    "collapsed": false,
    "scrolled": false
   },
   "outputs": [
    {
     "name": "stdout",
     "output_type": "stream",
     "text": [
      "chr1\t0\t10000\tid-1\t0.000000\r\n",
      "chr1\t10000\t10001\tid-2\t0.006463\r\n",
      "chr1\t10001\t10005\tid-3\t0.005249\r\n",
      "chr1\t10005\t10007\tid-4\t0.006463\r\n",
      "chr1\t10007\t10011\tid-5\t0.005249\r\n",
      "chr1\t10011\t10013\tid-6\t0.006463\r\n",
      "chr1\t10013\t10017\tid-7\t0.005249\r\n",
      "chr1\t10017\t10019\tid-8\t0.006463\r\n",
      "chr1\t10019\t10023\tid-9\t0.005249\r\n",
      "chr1\t10023\t10025\tid-10\t0.006463\r\n"
     ]
    }
   ],
   "source": [
    "!head ../testdata/chr1_40.wig.bed"
   ]
  },
  {
   "cell_type": "markdown",
   "metadata": {},
   "source": [
    "Now the idea is to extract a textfile with two columns where the first column is a chromosome name and the second one is the length of uniquely mappable parts. For that it was iterated over a list of chromosome names and bedextract-command from BEDOPS tools was used."
   ]
  },
  {
   "cell_type": "markdown",
   "metadata": {},
   "source": [
    "The following bash code was used:\n",
    "``` bash\n",
    "declare -a arr=(\"chr1\" \"chr2\" \"chr3\" \"chr4\" \"chr5\" \"chr6\" \"chr7\" \"chr8\" \"chr9\" \"chr10\" \"chr11\" \"chr12\" \"chr13\" \"chr14\" \"chr15\" \"chr16\" \"chr17\" \"chr18\" \"chr19\" \"chr20\" \"chr21\" \"chr22\" \"chrX\" \"chrY\")\n",
    "#kmer = [40,100,200]\n",
    "for i in ${arr[@]}; do bedextract \"$i\" hg38_$kmer.wig.bed | awk -v thr=1 -v chr=$i 'BEGIN {len = 0} {$5>=thr {len = len + ($3-$2)}} END {print chr,len}'; done >> unique_regions_$kmer.txt\n",
    "```"
   ]
  },
  {
   "cell_type": "markdown",
   "metadata": {},
   "source": [
    "Chr1 had to be computed separately for kmer40 because ```bedextract chr1``` failed. Why? Bug in the bedextract?\n",
    "```bash \n",
    "awk -v thr=1 -v chr=\"chr1\" 'BEGIN {len=0} $1==chr && $5>=thr {len=len+($3-$2)} END {print chr, len}' hg38_$kmer.wig.bed\n",
    "```\n",
    "Another option was to replace chr1 with chr0 using vi in the file hg38_40.bed and then do ```bedextract chr0```:  \n",
    "\n",
    "```#changes only whole words exactly matching chr1 to chr0 without asking for confirmation```  \n",
    ":```%s/\\<chr1\\>/chr0/g```\n",
    "  \n",
    "Exit vim and save the file: \n",
    "```Esc->:wq->Enter```"
   ]
  },
  {
   "cell_type": "markdown",
   "metadata": {},
   "source": [
    "All the results were collected into an excel table here https://drive.google.com/open?id=0ByB97k3S0qAFd21jUmtGbVJCNDg"
   ]
  },
  {
   "cell_type": "markdown",
   "metadata": {},
   "source": [
    "On average about 72% of the human genome is mappable for kmer=40 and around 80% is mappable for kmer=100/200"
   ]
  },
  {
   "cell_type": "markdown",
   "metadata": {},
   "source": [
    "## Task 2: Generate 3 tables of 100000 IS on map_100, map_40 and map_200"
   ]
  },
  {
   "cell_type": "markdown",
   "metadata": {},
   "source": [
    "At this point we want to find the way how to extract the integration sites/regions from the mappable parts of hg38 only. For that we will need an appropriate datastructure to generate the positions/regions from. One possible solution is a 2-dimensional numpy array containing regions and information on the mappability. The idea is the following. Starting from a precomputed mappability file in bed-format create a textfile containing two columns: positions on a specific chromosome and True/False statement. If the region is uniquely mappable (mappability = 1) then \"True\" should be written opposite to it's starting position and if the mappability value is less than 1 - \"False\".  \n",
    "this is easily done by using the following command in the terminal:  \n",
    "```\n",
    "#kmer = [40,100,200]\n",
    "bedextract chr1 hg38_$kmer.bed | awk '$5==1 {print $2, \"true\"} $5<1 {print $2, \"false\"}' > chr1_$kmer_mappable.txt\n",
    "```\n",
    "Here are the first 10 lines of an example file"
   ]
  },
  {
   "cell_type": "code",
   "execution_count": 8,
   "metadata": {
    "collapsed": false
   },
   "outputs": [
    {
     "name": "stdout",
     "output_type": "stream",
     "text": [
      "0 false\r\n",
      "10000 false\r\n",
      "10001 false\r\n",
      "10005 false\r\n",
      "10007 false\r\n",
      "10011 false\r\n",
      "10013 false\r\n",
      "10017 false\r\n",
      "10019 false\r\n",
      "10023 false\r\n"
     ]
    }
   ],
   "source": [
    "!head /Users/elming/Advanced-random-IR/testdata/chr1_40_mappable.txt"
   ]
  },
  {
   "cell_type": "markdown",
   "metadata": {},
   "source": [
    "From these two columns we can extract the information that chr1 is unmappable (kmer=40) at the positions between 0 and 10023 bp. It is possible to shorten this textfile however without losing any information by deleting the rows containing recurring statements in the 2nd column.  \n",
    "``` bash\n",
    "declare -a arr=(\"chr1\" \"chr2\" \"chr3\" \"chr4\" \"chr5\" \"chr6\" \"chr7\" \"chr8\" \"chr9\" \"chr10\" \"chr11\" \"chr12\" \"chr13\" \"chr14\" \"chr15\" \"chr16\" \"chr17\" \"chr18\" \"chr19\" \"chr20\" \"chr21\" \"chr22\" \"chrX\" \"chrY\")\n",
    "#kmer = [40,100,200]\n",
    "for i in ${arr[@]}; do bedextract \"$i\" hg38_$kmer.bed | awk '$5==1 {print $2, \"true\"} $5<1 {print $2, \"false\"}' | awk '$2 != prev {print $0} {prev = $2}' > $i_$kmer_mappable.txt; done\n",
    "```"
   ]
  },
  {
   "cell_type": "code",
   "execution_count": 9,
   "metadata": {
    "collapsed": false,
    "scrolled": true
   },
   "outputs": [
    {
     "name": "stdout",
     "output_type": "stream",
     "text": [
      "0 false\r\n",
      "10314 true\r\n",
      "10315 false\r\n",
      "10596 true\r\n",
      "10611 false\r\n",
      "15882 true\r\n",
      "15903 false\r\n",
      "17454 true\r\n",
      "17489 false\r\n",
      "30855 true\r\n"
     ]
    }
   ],
   "source": [
    "!head /Users/elming/Advanced-random-IR/testdata/chr1_40_mappableshort.txt"
   ]
  },
  {
   "cell_type": "markdown",
   "metadata": {},
   "source": [
    "Now the textfile contains the information that is ready to be passed into a numpy array and 100000 positions can be generated on the mappable regions of each chromosome."
   ]
  },
  {
   "cell_type": "code",
   "execution_count": 5,
   "metadata": {
    "collapsed": true
   },
   "outputs": [],
   "source": [
    "#chromosome sizes\n",
    "dimension_dict={'chr13': 114364328, 'chr12': 133275309, 'chr11': 135086622, 'chr10': 133797422, 'chr17': 83257441, 'chr16': 90338345, 'chr15': 101991189, 'chr14': 107043718, 'chr19': 58617616, 'chr18': 80373285, 'chr24': 57227415, 'chr22': 50818468, 'chr23': 156040895, 'chr20': 64444167, 'chr21': 46709983, 'chr7': 159345973, 'chr6': 170805979, 'chr5': 181538259, 'chr4': 190214555, 'chr3': 198295559, 'chr2': 242193529, 'chr1': 248956422, 'chr9': 138394717, 'chr8': 145138636}\n",
    "#percentage of integration sites to be generated on each chromosome according to their relative lengths for three different kmers; \n",
    "#info obtained from the excel table from Task 1. Value for chrY was edited according to the other values so that the sum of all values equals to 1\n",
    "##counter=0\n",
    "##for key in kmer40.keys():\n",
    "    ##if key != \"chrY\":\n",
    "        ##counter+=kmer200[key]\n",
    "##print 1-counter\n",
    "kmer40={'chr1':0.0788750,'chr2':0.086109,'chr3':0.071728,'chr4':0.068060,'chr5':0.063896,'chr6':0.059406,'chr7':0.053514,'chr8':0.051220,'chr9':0.039697,'chr10':0.046955,'chr11':0.046680,'chr12':0.046712,'chr13':0.035519,'chr14':0.030916,'chr15':0.026443,'chr16':0.025715,'chr17':0.024516,'chr18':0.027496,'chr19':0.017131,'chr20':0.022020,'chr21':0.011919,'chr22':0.011228,'chrX':0.050153,'chrY':0.004092}\n",
    "kmer100={'chr1':0.079149,'chr2':0.085056,'chr3':0.071048,'chr4':0.067183,'chr5':0.063207,'chr6':0.058915,'chr7':0.053848,'chr8':0.050605,'chr9':0.039585,'chr10':0.046928,'chr11':0.046556,'chr12':0.047077,'chr13':0.034862,'chr14':0.030896,'chr15':0.026539,'chr16':0.026195,'chr17':0.025596,'chr18':0.026942,'chr19':0.019023,'chr20':0.022081,'chr21':0.011808,'chr22':0.011606,'chrX':0.050983,'chrY':0.004312}\n",
    "kmer200={'chr1':0.079156,'chr2':0.084813,'chr3':0.070927,'chr4':0.067097,'chr5':0.063081,'chr6':0.058819,'chr7':0.053983,'chr8':0.050402,'chr9':0.039582,'chr10':0.046868,'chr11':0.046584,'chr12':0.047115,'chr13':0.034707,'chr14':0.030854,'chr15':0.026544,'chr16':0.026175,'chr17':0.025815,'chr18':0.026807,'chr19':0.019354,'chr20':0.022078,'chr21':0.011794,'chr22':0.011689,'chrX':0.051301,'chrY':0.004455}"
   ]
  },
  {
   "cell_type": "markdown",
   "metadata": {},
   "source": [
    "To demonstrate a solution to the problem we will take an example. We want to generate 100 IS on hg38 using map_40. That means that on the chr 1 there are 8 positions to be generated. "
   ]
  },
  {
   "cell_type": "code",
   "execution_count": 4,
   "metadata": {
    "collapsed": false
   },
   "outputs": [
    {
     "data": {
      "text/plain": [
       "8.0"
      ]
     },
     "execution_count": 4,
     "metadata": {},
     "output_type": "execute_result"
    }
   ],
   "source": [
    "round(100*kmer40[\"chr1\"])"
   ]
  },
  {
   "cell_type": "code",
   "execution_count": 9,
   "metadata": {
    "collapsed": true
   },
   "outputs": [],
   "source": [
    "import numpy as np\n",
    "import pandas as pd\n",
    "def getMappableIR(inputf,chr_name,N):\n",
    "    \"\"\"Generate N*kmer40[chr_name] positions on a respective chromosome\"\"\"\n",
    "    positions=pd.DataFrame(columns = (\"Chromosome\", \"Start\", \"End\", \"Match\", \"Rnd Model\", \"Assembly\"))\n",
    "    positions[['Start', 'End']] = positions[['Start', 'End']].astype(int)\n",
    "    pos_num=1\n",
    "    with open(inputf,\"r\"):\n",
    "        chr_arr = np.genfromtxt(inputf,dtype=None)\n",
    "    while pos_num<=round(N*kmer40[chr_name]):\n",
    "        rand_num = np.random.randint(1,dimension_dict[chr_name])\n",
    "        matched_index = np.searchsorted(chr_arr[\"f0\"],rand_num)-1\n",
    "        if chr_arr[\"f1\"][matched_index] == True:\n",
    "            positions.loc[pos_num] = chr_name, rand_num, rand_num+1, \"unmatched\", \"map_40\",\"hg38\"\n",
    "            pos_num+=1\n",
    "        else:\n",
    "            continue\n",
    "    return positions\n",
    "        \n",
    "            \n",
    "        \n",
    "            "
   ]
  },
  {
   "cell_type": "code",
   "execution_count": 14,
   "metadata": {
    "collapsed": false
   },
   "outputs": [
    {
     "data": {
      "text/plain": [
       "4"
      ]
     },
     "execution_count": 14,
     "metadata": {},
     "output_type": "execute_result"
    }
   ],
   "source": [
    "#how searchsorted works\n",
    "a = np.array([1, 2, 4, 5, 7, 9])\n",
    "np.searchsorted(a,6)"
   ]
  },
  {
   "cell_type": "code",
   "execution_count": 10,
   "metadata": {
    "collapsed": false,
    "scrolled": true
   },
   "outputs": [
    {
     "data": {
      "text/html": [
       "<div>\n",
       "<table border=\"1\" class=\"dataframe\">\n",
       "  <thead>\n",
       "    <tr style=\"text-align: right;\">\n",
       "      <th></th>\n",
       "      <th>Chromosome</th>\n",
       "      <th>Start</th>\n",
       "      <th>End</th>\n",
       "      <th>Match</th>\n",
       "      <th>Rnd Model</th>\n",
       "      <th>Assembly</th>\n",
       "    </tr>\n",
       "  </thead>\n",
       "  <tbody>\n",
       "    <tr>\n",
       "      <th>1</th>\n",
       "      <td>chr1</td>\n",
       "      <td>52387414</td>\n",
       "      <td>52387415</td>\n",
       "      <td>unmatched</td>\n",
       "      <td>map_40</td>\n",
       "      <td>hg38</td>\n",
       "    </tr>\n",
       "    <tr>\n",
       "      <th>2</th>\n",
       "      <td>chr1</td>\n",
       "      <td>115740335</td>\n",
       "      <td>115740336</td>\n",
       "      <td>unmatched</td>\n",
       "      <td>map_40</td>\n",
       "      <td>hg38</td>\n",
       "    </tr>\n",
       "    <tr>\n",
       "      <th>3</th>\n",
       "      <td>chr1</td>\n",
       "      <td>150974849</td>\n",
       "      <td>150974850</td>\n",
       "      <td>unmatched</td>\n",
       "      <td>map_40</td>\n",
       "      <td>hg38</td>\n",
       "    </tr>\n",
       "    <tr>\n",
       "      <th>4</th>\n",
       "      <td>chr1</td>\n",
       "      <td>40061190</td>\n",
       "      <td>40061191</td>\n",
       "      <td>unmatched</td>\n",
       "      <td>map_40</td>\n",
       "      <td>hg38</td>\n",
       "    </tr>\n",
       "    <tr>\n",
       "      <th>5</th>\n",
       "      <td>chr1</td>\n",
       "      <td>160125588</td>\n",
       "      <td>160125589</td>\n",
       "      <td>unmatched</td>\n",
       "      <td>map_40</td>\n",
       "      <td>hg38</td>\n",
       "    </tr>\n",
       "    <tr>\n",
       "      <th>6</th>\n",
       "      <td>chr1</td>\n",
       "      <td>90401812</td>\n",
       "      <td>90401813</td>\n",
       "      <td>unmatched</td>\n",
       "      <td>map_40</td>\n",
       "      <td>hg38</td>\n",
       "    </tr>\n",
       "    <tr>\n",
       "      <th>7</th>\n",
       "      <td>chr1</td>\n",
       "      <td>88321209</td>\n",
       "      <td>88321210</td>\n",
       "      <td>unmatched</td>\n",
       "      <td>map_40</td>\n",
       "      <td>hg38</td>\n",
       "    </tr>\n",
       "    <tr>\n",
       "      <th>8</th>\n",
       "      <td>chr1</td>\n",
       "      <td>113632188</td>\n",
       "      <td>113632189</td>\n",
       "      <td>unmatched</td>\n",
       "      <td>map_40</td>\n",
       "      <td>hg38</td>\n",
       "    </tr>\n",
       "  </tbody>\n",
       "</table>\n",
       "</div>"
      ],
      "text/plain": [
       "  Chromosome      Start        End      Match Rnd Model Assembly\n",
       "1       chr1   52387414   52387415  unmatched    map_40     hg38\n",
       "2       chr1  115740335  115740336  unmatched    map_40     hg38\n",
       "3       chr1  150974849  150974850  unmatched    map_40     hg38\n",
       "4       chr1   40061190   40061191  unmatched    map_40     hg38\n",
       "5       chr1  160125588  160125589  unmatched    map_40     hg38\n",
       "6       chr1   90401812   90401813  unmatched    map_40     hg38\n",
       "7       chr1   88321209   88321210  unmatched    map_40     hg38\n",
       "8       chr1  113632188  113632189  unmatched    map_40     hg38"
      ]
     },
     "execution_count": 10,
     "metadata": {},
     "output_type": "execute_result"
    }
   ],
   "source": [
    "getMappableIR(\"../testdata/chr1_40_mappableshort.txt\", \"chr1\",100)"
   ]
  },
  {
   "cell_type": "markdown",
   "metadata": {},
   "source": [
    "### To finally generate three datasets with 100000 IS on each map the following code was used:"
   ]
  },
  {
   "cell_type": "code",
   "execution_count": 1,
   "metadata": {
    "collapsed": false
   },
   "outputs": [
    {
     "name": "stdout",
     "output_type": "stream",
     "text": [
      "Overwriting ../scripts/mappable_randomIR.py\n"
     ]
    }
   ],
   "source": [
    "%%writefile ../scripts/mappable_randomIR.py\n",
    "dimension_dict={'chr13': 114364328, 'chr12': 133275309, 'chr11': 135086622, 'chr10': 133797422, 'chr17': 83257441, 'chr16': 90338345, 'chr15': 101991189, 'chr14': 107043718, 'chr19': 58617616, 'chr18': 80373285, 'chr24': 57227415, 'chr22': 50818468, 'chr23': 156040895, 'chr20': 64444167, 'chr21': 46709983, 'chr7': 159345973, 'chr6': 170805979, 'chr5': 181538259, 'chr4': 190214555, 'chr3': 198295559, 'chr2': 242193529, 'chr1': 248956422, 'chr9': 138394717, 'chr8': 145138636}\n",
    "kmer40={'chr1':0.0788750,'chr2':0.086109,'chr3':0.071728,'chr4':0.068060,'chr5':0.063896,'chr6':0.059406,'chr7':0.053514,'chr8':0.051220,'chr9':0.039697,'chr10':0.046955,'chr11':0.046680,'chr12':0.046712,'chr13':0.035519,'chr14':0.030916,'chr15':0.026443,'chr16':0.025715,'chr17':0.024516,'chr18':0.027496,'chr19':0.017131,'chr20':0.022020,'chr21':0.011919,'chr22':0.011228,'chrX':0.050153,'chrY':0.004092}\n",
    "kmer100={'chr1':0.079149,'chr2':0.085056,'chr3':0.071048,'chr4':0.067183,'chr5':0.063207,'chr6':0.058915,'chr7':0.053848,'chr8':0.050605,'chr9':0.039585,'chr10':0.046928,'chr11':0.046556,'chr12':0.047077,'chr13':0.034862,'chr14':0.030896,'chr15':0.026539,'chr16':0.026195,'chr17':0.025596,'chr18':0.026942,'chr19':0.019023,'chr20':0.022081,'chr21':0.011808,'chr22':0.011606,'chrX':0.050983,'chrY':0.004312}\n",
    "kmer200={'chr1':0.079156,'chr2':0.084813,'chr3':0.070927,'chr4':0.067097,'chr5':0.063081,'chr6':0.058819,'chr7':0.053983,'chr8':0.050402,'chr9':0.039582,'chr10':0.046868,'chr11':0.046584,'chr12':0.047115,'chr13':0.034707,'chr14':0.030854,'chr15':0.026544,'chr16':0.026175,'chr17':0.025815,'chr18':0.026807,'chr19':0.019354,'chr20':0.022078,'chr21':0.011794,'chr22':0.011689,'chrX':0.051301,'chrY':0.004455}\n",
    "import numpy as np\n",
    "from __future__ import print_function\n",
    "def getMappableIR(inputf,chr_name,kmer,mapname,N,outputf):\n",
    "    \"\"\"Generate N*kmer[chr_name] positions on a respective chromosome using the map of choice\"\"\"\n",
    "    with open(inputf,\"r\"):\n",
    "        chr_arr = np.genfromtxt(inputf,dtype=None)\n",
    "    counter = 1\n",
    "    while counter<=round(N*kmer[chr_name]):\n",
    "        rand_num = np.random.randint(1,dimension_dict[chr_name])\n",
    "        matched_index = np.searchsorted(chr_arr[\"f0\"],rand_num)-1\n",
    "        if chr_arr[\"f1\"][matched_index] == True:\n",
    "            #append to the file that has been previously created with headers\n",
    "            with open(outputf, 'a') as f:\n",
    "                print (chr_name,\"\\t\",rand_num,\"\\t\",rand_num+1,\"\\t\", \"unmatched\",\"\\t\",mapname,\"\\t\", \"hg38\", file=f)                    \n",
    "                counter+=1\n",
    "        else:\n",
    "            continue\n",
    "            \n",
    "#first write a new file with tables header (example kmer=40):            \n",
    "with open('results/map40_IS100000.txt', 'w') as f:\n",
    "    print(\"Chromosome\\tStart\\tEnd\\tMatch\\tRnd Model\\tAssembly\", file=f)\n",
    "    \n",
    "listofchr = [\"chr1\",\"chr2\",\"chr3\",\"chr4\",\"chr5\",\"chr6\",\"chr7\",\"chr8\",\"chr9\",\"chr10\",\"chr11\",\"chr12\",\"chr13\",\"chr14\",\"chr15\",\"chr16\",\"chr17\",\"chr18\",\"chr19\",\"chr20\",\"chr21\",\"chr22\",\"chrX\",\"chrY\"]\n",
    "\n",
    "#for each chromosome compute the corresponding number of IR and append to the file\n",
    "for chrom in listofchr:\n",
    "    getMappableIR('textfiles/map40/{0}_40_mappable.txt'.format(chrom), chrom, kmer40, \"map_40\", 100000, 'results/map40_IS100000.txt')"
   ]
  },
  {
   "cell_type": "markdown",
   "metadata": {},
   "source": [
    "Now let us plot the distripution of 100000 positions on the chr1 to see how it is different from the uniform distribution of the datapoints obtained with model Zero."
   ]
  },
  {
   "cell_type": "code",
   "execution_count": 4,
   "metadata": {
    "collapsed": false
   },
   "outputs": [],
   "source": [
    "import numpy as np\n",
    "def getMappableIR_pos(filename,chr_name,N):\n",
    "    with open(filename,\"r\"):\n",
    "        chr_arr = np.genfromtxt(filename,dtype=None)\n",
    "    counter = 0\n",
    "    position = []\n",
    "    while counter<N:\n",
    "        rand_num = np.random.randint(1,dimension_dict[chr_name])\n",
    "        matched_index = np.searchsorted(chr_arr[\"f0\"],rand_num)-1\n",
    "        if chr_arr[\"f1\"][matched_index] == True:\n",
    "            counter+=1\n",
    "            position.append(rand_num)\n",
    "        else:\n",
    "            continue\n",
    "    return position"
   ]
  },
  {
   "cell_type": "code",
   "execution_count": 8,
   "metadata": {
    "collapsed": false
   },
   "outputs": [],
   "source": [
    "positions = getMappableIR_pos(\"../testdata/chr1_40_mappableshort.txt\",\"chr1\",100000)"
   ]
  },
  {
   "cell_type": "code",
   "execution_count": 17,
   "metadata": {
    "collapsed": false,
    "scrolled": true
   },
   "outputs": [
    {
     "data": {
      "image/png": "[encoded data removed]",
      "text/plain": [
       "<matplotlib.figure.Figure at 0x10dc23110>"
      ]
     },
     "metadata": {},
     "output_type": "display_data"
    }
   ],
   "source": [
    "import random\n",
    "import numpy as np\n",
    "import matplotlib.pyplot as plt\n",
    "\n",
    "plt.figure(figsize=(14,7))\n",
    "plt.hist(positions,normed=True, label = 'PDF', bins = 500)\n",
    "plt.xlabel(\"$Position\\ on\\ chr1$\")\n",
    "plt.ylabel(\"$Probability$\")\n",
    "plt.legend(loc='lower right')\n",
    "plt.title(\"Distribution of the datapoints on chr1 generated with Model One\", fontsize=16)\n",
    "plt.savefig(\"../figures/ModelOne_100000IS_chr1.pdf\")\n",
    "plt.show()"
   ]
  },
  {
   "cell_type": "markdown",
   "metadata": {},
   "source": [
    "If we compare this distribution with the one from model Zero below, it is clearly seen that in some regions there are no or much less positions generated. For instance, there is the centromere region that is clearly seen between 1e8 and 1.5e8. This corresponds exactly to what we expect."
   ]
  },
  {
   "cell_type": "code",
   "execution_count": 19,
   "metadata": {
    "collapsed": false
   },
   "outputs": [
    {
     "data": {
      "image/png": "[encoded data removed]",
      "text/plain": [
       "<matplotlib.figure.Figure at 0x10de122d0>"
      ]
     },
     "metadata": {},
     "output_type": "display_data"
    }
   ],
   "source": [
    "import random\n",
    "import numpy as np\n",
    "import scipy.stats as stats\n",
    "import matplotlib.pyplot as plt\n",
    "#the function has two arguments: n is a number of regions, chrom is a string containing a chromosome name\n",
    "def plotDistribution(n,chrom):\n",
    "    chrLen = dimension_dict[chrom]\n",
    "    position = []\n",
    "    for i in range(n):\n",
    "        position.append(random.randint(1,chrLen))\n",
    "    plt.figure(figsize=(14,7))\n",
    "    plt.hist(position,normed=True, label = 'PDF',bins=500)\n",
    "    plt.xlabel(\"$Position\\ on\\ a\\ chromosome$\")\n",
    "    plt.ylabel(\"$Probability$\")\n",
    "    plt.legend(loc='lower right')\n",
    "    plt.title(\"Distribution of the datapoints on chr1 generated with Model Zero\", fontsize=16)\n",
    "    plt.savefig(\"../figures/ModelZero_10000IS_chr1.pdf\")\n",
    "    plt.show()\n",
    "plotDistribution(100000,'chr1')\n",
    "    "
   ]
  },
  {
   "cell_type": "markdown",
   "metadata": {
    "collapsed": true
   },
   "source": [
    "Apply Kolmogorov-Smirnov test to compare two distributions"
   ]
  },
  {
   "cell_type": "code",
   "execution_count": 23,
   "metadata": {
    "collapsed": false
   },
   "outputs": [],
   "source": [
    "chrLen = dimension_dict[\"chr1\"]\n",
    "mzero = []\n",
    "for i in range(100000):\n",
    "    mzero.append(random.randint(1,chrLen))"
   ]
  },
  {
   "cell_type": "code",
   "execution_count": 27,
   "metadata": {
    "collapsed": false
   },
   "outputs": [
    {
     "data": {
      "image/png": "[encoded data removed]",
      "text/plain": [
       "<matplotlib.figure.Figure at 0x10e6d2710>"
      ]
     },
     "metadata": {},
     "output_type": "display_data"
    }
   ],
   "source": [
    "plt.figure(figsize=(12,7))\n",
    "plt.hist(positions, normed=True, cumulative=True, histtype=\"step\",label='mOne', bins=np.linspace(1,300000000,100))\n",
    "plt.hist(mzero, normed=True, cumulative=True, histtype=\"step\",label='mZero', bins=np.linspace(1,300000000,100))\n",
    "plt.xlabel(\"$Datapoints$\")\n",
    "plt.ylabel(\"$Probability$\")\n",
    "plt.legend(loc='lower right')\n",
    "plt.show()"
   ]
  },
  {
   "cell_type": "code",
   "execution_count": 28,
   "metadata": {
    "collapsed": false
   },
   "outputs": [
    {
     "data": {
      "text/plain": [
       "Ks_2sampResult(statistic=0.061210000000000042, pvalue=2.5707966369979617e-163)"
      ]
     },
     "execution_count": 28,
     "metadata": {},
     "output_type": "execute_result"
    }
   ],
   "source": [
    "from scipy.stats import ks_2samp\n",
    "ks_2samp(positions, mzero)"
   ]
  },
  {
   "cell_type": "markdown",
   "metadata": {},
   "source": [
    "The P-value is very low, much less than the standard significance level of 5%, so Model One and Zero generate datasets from different distributions."
   ]
  },
  {
   "cell_type": "markdown",
   "metadata": {
    "collapsed": true
   },
   "source": [
    "Make a textfile with 100000 IS on chr1 for future use in statistical tests:"
   ]
  },
  {
   "cell_type": "code",
   "execution_count": 3,
   "metadata": {
    "collapsed": false
   },
   "outputs": [],
   "source": [
    "from __future__ import print_function\n",
    "with open('../testdata/map40_IS100000_chr1.txt', 'w') as f:\n",
    "    print(\"Chromosome\\tStart\\tEnd\\tMatch\\tRnd Model\\tAssembly\", file=f)"
   ]
  },
  {
   "cell_type": "code",
   "execution_count": 7,
   "metadata": {
    "collapsed": true
   },
   "outputs": [],
   "source": [
    "import numpy as np\n",
    "import pandas as pd\n",
    "def getMappableIRSingleChr(inputf,chr_name,kmer,mapname,N,outputf):\n",
    "    \"\"\"Generate N positions on a respective chromosome using the map of choice\"\"\"\n",
    "    with open(inputf,\"r\"):\n",
    "        chr_arr = np.genfromtxt(inputf,dtype=None)\n",
    "    counter = 1\n",
    "    while counter<=N:\n",
    "        rand_num = np.random.randint(1,dimension_dict[chr_name])\n",
    "        matched_index = np.searchsorted(chr_arr[\"f0\"],rand_num)-1\n",
    "        if chr_arr[\"f1\"][matched_index] == True:\n",
    "            #append to the file that has been previously created with headers\n",
    "            with open(outputf, 'a') as f:\n",
    "                print (chr_name,\"\\t\",rand_num,\"\\t\",rand_num+1,\"\\t\", \"unmatched\",\"\\t\",mapname,\"\\t\", \"hg38\", file=f)                    \n",
    "                counter+=1\n",
    "        else:\n",
    "            continue\n",
    "            "
   ]
  },
  {
   "cell_type": "code",
   "execution_count": 8,
   "metadata": {
    "collapsed": false
   },
   "outputs": [],
   "source": [
    "getMappableIRSingleChr(\"../testdata/chr1_40_mappableshort.txt\",\"chr1\",kmer40, \"map_40\", 100000, '../testdata/map40_IS100000_chr1.txt')"
   ]
  }
 ],
 "metadata": {
  "anaconda-cloud": {},
  "kernelspec": {
   "display_name": "Python [conda env:python2]",
   "language": "python",
   "name": "conda-env-python2-py"
  },
  "language_info": {
   "codemirror_mode": {
    "name": "ipython",
    "version": 2
   },
   "file_extension": ".py",
   "mimetype": "text/x-python",
   "name": "python",
   "nbconvert_exporter": "python",
   "pygments_lexer": "ipython2",
   "version": "2.7.13"
  }
 },
 "nbformat": 4,
 "nbformat_minor": 1
}
