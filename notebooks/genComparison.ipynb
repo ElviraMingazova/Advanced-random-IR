{
 "cells": [
  {
   "cell_type": "markdown",
   "metadata": {},
   "source": [
    "# Genomes comparison  \n",
    "Elvira Mingazova, April 2017  \n",
    "Week 5\n",
    "Assignment:  \n",
    "- Download the E.Coli, the yeast, human chrY sequences and describe the important information about them\n",
    "  \n",
    "In this notebook 3 genome sequences will be characterized and compared with each other:  \n",
    "1. E.Coli full genome\n",
    "2. Yeast full genome  \n",
    "3. Human chromosomeY"
   ]
  },
  {
   "cell_type": "markdown",
   "metadata": {
    "collapsed": true
   },
   "source": [
    "**Genome assembly** is the genome sequence produced after chromosomes have been fragmented, those fragments have been sequenced, and the resulting sequences have been put back together.  \n",
    "## E.Coli  \n",
    "#### Overview  \n",
    "This organism is typically present in the lower intestine of humans. E.coli is easily grown in a laboratory setting and is readily amenable to genetic manipulation making it one of the most studied prokaryotic model organisms. E.coli K-12 is the most widely studied strain of E. coli and serves as a reference for this species. E. coli is also one of the most diverse microbial species, containing both pathogenic and non-pathogenic strains. Pathogenic E. coli can cause many intestinal diseases. Pathogenic strains often have virulence factors encoded on extrachromosomal plasmids or within bacteriophages and distinct DNA segments termed pathogenicity islands (PAIs)."
   ]
  },
  {
   "cell_type": "markdown",
   "metadata": {},
   "source": [
    "*Reference genome to be downloaded on OpenStack:*  \n",
    "Escherichia coli str. K-12 substr. MG1655  \n",
    "https://www.ncbi.nlm.nih.gov/nuccore/NC_000913.3  \n",
    "\n",
    "I downloaded the sequence from here:  \n",
    "ftp://ftp.ensemblgenomes.org/pub/bacteria/release-34/fasta/bacteria_0_collection/escherichia_coli_str_k_12_substr_mg1655/dna/"
   ]
  },
  {
   "cell_type": "markdown",
   "metadata": {},
   "source": [
    "Assembly: ASM584v2  \n",
    "Submitter: Univ. Wisconsin  \n",
    "Date: 2013/09/26  \n",
    "Size:\t4.64 Mb  \n",
    "Total assembly gap length: 0  \n",
    "GC%: 50.8    \n",
    "Gene: 4498  \n",
    "Pseudogene: 184  \n",
    "355 repeat_regions  "
   ]
  },
  {
   "cell_type": "markdown",
   "metadata": {},
   "source": [
    "## Yeast  \n",
    "#### Overview\n",
    "Organism name: Saccharomyces cerevisiae S288C (baker's yeast)  \n",
    "Strain: S288C  \n",
    "Submitter: Saccharomyces Genome Database  \n",
    "Date: 2011/04/18  \n",
    "Size: 12.16 Mb  \n",
    "Total number of chromosomes and plasmids:\t17  \n",
    "Genes: 6091 (http://journals.plos.org/plosone/article?id=10.1371/journal.pone.0064477)  \n",
    "GC%: 38 (Wikipedia)\n",
    "\n",
    "I downloaded the sequence from here:  \n",
    "http://hgdownload.soe.ucsc.edu/goldenPath/sacCer3/bigZips/\n",
    "\n",
    "Hier there is some information about uniquely mapped read density:  \n",
    "http://www.yeastgenome.org/browse/?loc=chrI%3A1..36694&tracks=DNA%2CAll%20Annotated%20Sequence%20Features%2CDoube_strand_break_hotspots%2CXrn1-sensitive_unstable%20transcripts_XUTs%2CScGlycerolMedia%2C3'UTRs%2CPolII_occupancy_WT&highlight=\n",
    "\n"
   ]
  },
  {
   "cell_type": "markdown",
   "metadata": {},
   "source": [
    "## Human genome chrY  \n",
    "#### Overview  \n",
    "The Y chromosome is one of two sex chromosomes in humans, and many other animals. The other is the X chromosome. \n",
    "In humans, the Y chromosome spans about 58 million base pairs and represents approximately 1% of the total DNA in a male cell. The human Y chromosome contains over 200 genes, at least 71 of which code for proteins. In general, the human Y chromosome is extremely gene poor—it is one of the largest gene deserts in the human genome. \n",
    "  \n",
    "The Y chromosome is unable to recombine during meiosis like the other human chromosomes; however, in 2003, researchers from MIT discovered a process which may slow down the process of degradation. They found that human Y chromosome is able to \"recombine\" with itself, using palindrome base pair sequences.Such a \"recombination\" is called **gene conversion**.  \n",
    "  \n",
    "In the case of the Y chromosomes, the palindromes are not noncoding DNA; these strings of bases contain functioning genes important for male fertility. Most of the sequence pairs are greater than 99.97% identical. The extensive use of gene conversion may play a role in the ability of the Y chromosome to edit out genetic mistakes and maintain the integrity of the relatively few genes it carries. In other words, since the Y chromosome is single, it has duplicates of its genes on itself instead of having a second, homologous, chromosome. When errors occur, it can use other parts of itself as a template to correct them.\n",
    "  \n",
    "Size: 57.23 Mb\t\n",
    "Genes: 71  \n",
    "Pseudogenes: 388  \n",
    "GC%: 39% (http://blog.kokocinski.net/index.php/gc-content-of-human-chromosomes?blog=2)  \n",
    "  \n",
    "I downloaded the sequence from here:  \n",
    "http://hgdownload.soe.ucsc.edu/goldenPath/hg38/chromosomes/  \n",
    "\n",
    "\t"
   ]
  },
  {
   "cell_type": "markdown",
   "metadata": {},
   "source": [
    "## Expectations:  \n",
    "Comparing the gene density, GC-content, amount of pseudogenes and other facts discussed in the overview-sections of the three sequences above we can expect the human chrY to have the lowest complexity and thus the worst mappability among them.  \n",
    "  \n",
    "In contrast, E.Coli genome has the highest gene:size (4498/4.64Mb) ratio and the highest GC-content, so it's sequence is most gene-dence compared to the other two organisms and low amount of repetitive sequences are present. The mapability of it's genome is expected to be the best among three organisms.\n",
    "(Within a long region of genomic sequence, genes are often characterised by having a higher GC-content in contrast to the background GC-content for the entire genome.)\n",
    "  \n",
    "The mappability of the yest genome is expected to be in the middle of the ranking.  \n",
    "  \n",
    "These expectations are supported by a study conducted by Bernhard Haubold and Thomas Wiehe in 2006: \"How repetitive are genomes?\"  https://bmcbioinformatics.biomedcentral.com/articles/10.1186/1471-2105-7-541  \n",
    "In this study they are defining an index of repetitiveness Ir which considers repeats of any length and takes into account G/C content. Ir is expected to be zero in random DNA (no repetitive sequences) of any G/C content and length and be higher in the DNA containing high amount of repetitive sequences.\n",
    "  \n",
    "According to that study indexes of repetitiveness are the following:  \n",
    "  \n",
    "E.Coli Ir: 1.049  \n",
    "Yeast Ir: ~1.8  \n",
    "ChrY human: 4.313  "
   ]
  },
  {
   "cell_type": "code",
   "execution_count": null,
   "metadata": {
    "collapsed": true
   },
   "outputs": [],
   "source": []
  }
 ],
 "metadata": {
  "anaconda-cloud": {},
  "kernelspec": {
   "display_name": "Python [conda env:python2]",
   "language": "python",
   "name": "conda-env-python2-py"
  },
  "language_info": {
   "codemirror_mode": {
    "name": "ipython",
    "version": 2
   },
   "file_extension": ".py",
   "mimetype": "text/x-python",
   "name": "python",
   "nbconvert_exporter": "python",
   "pygments_lexer": "ipython2",
   "version": "2.7.13"
  }
 },
 "nbformat": 4,
 "nbformat_minor": 1
}
