{
 "cells": [
  {
   "cell_type": "markdown",
   "metadata": {},
   "source": [
    "# Model Two: Enzyme bias\n",
    "Elvira Mingazova, Raffaele Fronza  \n",
    "May, 2017  \n",
    "  \n",
    "This model improves further the random region generation considering the process of integration sites (IS) retrieval. When using Linear amplification-mediated polymerase chain reaction (LAM-PCR) for identification of the viral vectors, the detection of IS is biased by the presence of a cutting site for the restriction enzyme used nearby.  The purpose of this model is to generate positions/regions linked to the restriction sites for the particular enzyme on the genome of interest and keep only those that are on the mappable parts of the genome. Here the hg38 assembly of the human genome is used. \n",
    "#### 1. Make maps of the restriction sites positions on hg38 for the following enzymes: MseI, Tsp509, PstI, AflII"
   ]
  },
  {
   "cell_type": "markdown",
   "metadata": {},
   "source": [
    "Scan_for_matches on Openstack is used  \n",
    "Example on MseI\n",
    "- Create a pattern file containing the recognition sequence for the restriction enzyme\n",
    "```bash\n",
    "cat > MseI_pattern.txt\n",
    "TTAA\n",
    "```  \n",
    "ctrl+D to save and exit\n",
    "- Find the positions of this pattern on the genome\n",
    "```bash  \n",
    "scan_for_matches MseI_pattern.txt < hg38.fa\n",
    "output:\n",
    ">chr1:[11533,11536]\n",
    "ttaa\n",
    ">chr1:[11556,11559]\n",
    "ttaa\n",
    "...\n",
    "```\n",
    "Different output gives the following command:\n",
    "```bash\n",
    "scan_for_matches MseI_pattern.txt < hg38.fa | show hits\n",
    "output:\n",
    "chr1:[11533,11536]: ttaa\n",
    "chr1:[11556,11559]: ttaa\n",
    "...\n",
    "```\n",
    "- Save only the first column under MseI_hg38output.txt\n",
    "\n",
    "``` bash\n",
    "scan_for_matches MseI_pattern.txt < ../../../../afzal/testingIndexes/hg38.fa | show_hits | awk '{print $1}' > MseI_hg38output.txt\n",
    "head MseI_hg38output.txt\n",
    "chr10:[100000032,100000035]\n",
    "chr10:[100000061,100000064]\n",
    "chr10:[100001232,100001235]\n",
    "chr10:[100001782,100001785]\n",
    "chr10:[100001876,100001879]\n",
    "chr10:[100002018,100002021]\n",
    "chr10:[100002080,100002083]\n",
    "chr10:[100002134,100002137]\n",
    "chr10:[100002596,100002599]\n",
    "chr10:[100002698,100002701]\n",
    "```\n"
   ]
  },
  {
   "cell_type": "markdown",
   "metadata": {},
   "source": [
    "- For each chromosome extract all the starting positions of the restriction sites and write into a separate file\n",
    "``` bash\n",
    "declare -a chrom=(\"chr1\" \"chr2\" \"chr3\" \"chr4\" \"chr5\" \"chr6\" \"chr7\" \"chr8\" \"chr9\" \"chr10\" \"chr11\" \"chr12\" \"chr13\" \"chr14\" \"chr15\" \"chr16\" \"chr17\" \"chr18\" \"chr19\" \"chr20\" \"chr21\" \"chr22\" \"chrX\" \"chrY\")\n",
    "for i in ${chrom[@]}; do awk -F\"[\" -v chr=$i '$1==chr\":\" {print $2}' MseI_hg38output.txt | awk -F',' '{print $1}' > MseI_${i}_pos.txt ; done\n",
    "```"
   ]
  },
  {
   "cell_type": "markdown",
   "metadata": {},
   "source": [
    "Example file MseI_chr1_pos.txt containing only the starting positions of the restriction sites"
   ]
  },
  {
   "cell_type": "code",
   "execution_count": 2,
   "metadata": {
    "collapsed": false
   },
   "outputs": [
    {
     "name": "stdout",
     "output_type": "stream",
     "text": [
      "100000132\r\n",
      "100000416\r\n",
      "100000561\r\n",
      "100000636\r\n",
      "100000860\r\n",
      "100001077\r\n",
      "100001311\r\n",
      "100001320\r\n",
      "100001329\r\n",
      "100001428\r\n"
     ]
    }
   ],
   "source": [
    "!head ../testdata/MseI_chr1_pos.txt"
   ]
  },
  {
   "cell_type": "markdown",
   "metadata": {},
   "source": [
    "#### 2. Write the function that generates random positions from the list of the restriction sites, tests whether each one lays inside of the mappable region and outputs only the ones that pass the test (output should contain N positions in total)"
   ]
  },
  {
   "cell_type": "code",
   "execution_count": 7,
   "metadata": {
    "collapsed": false
   },
   "outputs": [],
   "source": [
    "import numpy as np\n",
    "from __future__ import print_function\n",
    "kmer40={'chr1':0.0788750,'chr2':0.086109,'chr3':0.071728,'chr4':0.068060,'chr5':0.063896,'chr6':0.059406,'chr7':0.053514,'chr8':0.051220,'chr9':0.039697,'chr10':0.046955,'chr11':0.046680,'chr12':0.046712,'chr13':0.035519,'chr14':0.030916,'chr15':0.026443,'chr16':0.025715,'chr17':0.024516,'chr18':0.027496,'chr19':0.017131,'chr20':0.022020,'chr21':0.011919,'chr22':0.011228,'chrX':0.050153,'chrY':0.004092}\n",
    "kmer100={'chr1':0.079149,'chr2':0.085056,'chr3':0.071048,'chr4':0.067183,'chr5':0.063207,'chr6':0.058915,'chr7':0.053848,'chr8':0.050605,'chr9':0.039585,'chr10':0.046928,'chr11':0.046556,'chr12':0.047077,'chr13':0.034862,'chr14':0.030896,'chr15':0.026539,'chr16':0.026195,'chr17':0.025596,'chr18':0.026942,'chr19':0.019023,'chr20':0.022081,'chr21':0.011808,'chr22':0.011606,'chrX':0.050983,'chrY':0.004312}\n",
    "kmer200={'chr1':0.079156,'chr2':0.084813,'chr3':0.070927,'chr4':0.067097,'chr5':0.063081,'chr6':0.058819,'chr7':0.053983,'chr8':0.050402,'chr9':0.039582,'chr10':0.046868,'chr11':0.046584,'chr12':0.047115,'chr13':0.034707,'chr14':0.030854,'chr15':0.026544,'chr16':0.026175,'chr17':0.025815,'chr18':0.026807,'chr19':0.019354,'chr20':0.022078,'chr21':0.011794,'chr22':0.011689,'chrX':0.051301,'chrY':0.004455}\n",
    "def getEnzMatchedIR(inputenzf,inputmappf,chr_name,kmer,N,mapname,enzname,outputf):\n",
    "    enz = np.sort(np.genfromtxt(inputenzf, dtype=int))\n",
    "    chr_arr = np.genfromtxt(inputmappf,dtype=None)\n",
    "    counter = 1\n",
    "    while counter<=round(N*kmer[chr_name]):\n",
    "        rand_num = np.random.choice(enz)\n",
    "        matched_index = np.searchsorted(chr_arr[\"f0\"],rand_num)-1\n",
    "        if chr_arr[\"f1\"][matched_index] == True:\n",
    "            with open(outputf, 'a') as f:\n",
    "                print (chr_name,\"\\t\",rand_num,\"\\t\",rand_num+1,\"\\t\", enzname,\"\\t\",mapname,\"\\t\", \"hg38\", file=f)\n",
    "                counter+=1\n",
    "        else:\n",
    "            continue"
   ]
  },
  {
   "cell_type": "markdown",
   "metadata": {
    "collapsed": true
   },
   "source": [
    "Demonstration of the process"
   ]
  },
  {
   "cell_type": "code",
   "execution_count": 5,
   "metadata": {
    "collapsed": false
   },
   "outputs": [],
   "source": [
    "#create the file with the headers\n",
    "with open('../testdata/MseI_map40_IS100000.txt', 'w') as f:\n",
    "    print(\"Chromosome\\tStart\\tEnd\\tMatch\\tRnd Model\\tAssembly\", file=f)"
   ]
  },
  {
   "cell_type": "code",
   "execution_count": 8,
   "metadata": {
    "collapsed": true
   },
   "outputs": [],
   "source": [
    "getEnzMatchedIR(\"../testdata/MseI_chr1_pos.txt\", \"../testdata/chr1_40_mappableshort.txt\",\"chr1\",kmer40,100000,\"map_40\",\"MseI\",'../testdata/MseI_map40_IS100000.txt')"
   ]
  },
  {
   "cell_type": "code",
   "execution_count": 9,
   "metadata": {
    "collapsed": true
   },
   "outputs": [],
   "source": [
    "import pandas as pd"
   ]
  },
  {
   "cell_type": "code",
   "execution_count": 12,
   "metadata": {
    "collapsed": true
   },
   "outputs": [],
   "source": [
    "enzmatchedpos = pd.read_csv('../testdata/MseI_map40_IS100000.txt', sep=\"\\t\")"
   ]
  },
  {
   "cell_type": "code",
   "execution_count": 13,
   "metadata": {
    "collapsed": false
   },
   "outputs": [
    {
     "data": {
      "text/html": [
       "<div>\n",
       "<table border=\"1\" class=\"dataframe\">\n",
       "  <thead>\n",
       "    <tr style=\"text-align: right;\">\n",
       "      <th></th>\n",
       "      <th>Chromosome</th>\n",
       "      <th>Start</th>\n",
       "      <th>End</th>\n",
       "      <th>Match</th>\n",
       "      <th>Rnd Model</th>\n",
       "      <th>Assembly</th>\n",
       "    </tr>\n",
       "  </thead>\n",
       "  <tbody>\n",
       "    <tr>\n",
       "      <th>0</th>\n",
       "      <td>chr1</td>\n",
       "      <td>85364380</td>\n",
       "      <td>85364381</td>\n",
       "      <td>MseI</td>\n",
       "      <td>map_40</td>\n",
       "      <td>hg38</td>\n",
       "    </tr>\n",
       "    <tr>\n",
       "      <th>1</th>\n",
       "      <td>chr1</td>\n",
       "      <td>91532644</td>\n",
       "      <td>91532645</td>\n",
       "      <td>MseI</td>\n",
       "      <td>map_40</td>\n",
       "      <td>hg38</td>\n",
       "    </tr>\n",
       "    <tr>\n",
       "      <th>2</th>\n",
       "      <td>chr1</td>\n",
       "      <td>218161117</td>\n",
       "      <td>218161118</td>\n",
       "      <td>MseI</td>\n",
       "      <td>map_40</td>\n",
       "      <td>hg38</td>\n",
       "    </tr>\n",
       "    <tr>\n",
       "      <th>3</th>\n",
       "      <td>chr1</td>\n",
       "      <td>223049867</td>\n",
       "      <td>223049868</td>\n",
       "      <td>MseI</td>\n",
       "      <td>map_40</td>\n",
       "      <td>hg38</td>\n",
       "    </tr>\n",
       "    <tr>\n",
       "      <th>4</th>\n",
       "      <td>chr1</td>\n",
       "      <td>174190581</td>\n",
       "      <td>174190582</td>\n",
       "      <td>MseI</td>\n",
       "      <td>map_40</td>\n",
       "      <td>hg38</td>\n",
       "    </tr>\n",
       "    <tr>\n",
       "      <th>5</th>\n",
       "      <td>chr1</td>\n",
       "      <td>182842457</td>\n",
       "      <td>182842458</td>\n",
       "      <td>MseI</td>\n",
       "      <td>map_40</td>\n",
       "      <td>hg38</td>\n",
       "    </tr>\n",
       "    <tr>\n",
       "      <th>6</th>\n",
       "      <td>chr1</td>\n",
       "      <td>40827908</td>\n",
       "      <td>40827909</td>\n",
       "      <td>MseI</td>\n",
       "      <td>map_40</td>\n",
       "      <td>hg38</td>\n",
       "    </tr>\n",
       "    <tr>\n",
       "      <th>7</th>\n",
       "      <td>chr1</td>\n",
       "      <td>244656376</td>\n",
       "      <td>244656377</td>\n",
       "      <td>MseI</td>\n",
       "      <td>map_40</td>\n",
       "      <td>hg38</td>\n",
       "    </tr>\n",
       "    <tr>\n",
       "      <th>8</th>\n",
       "      <td>chr1</td>\n",
       "      <td>199202451</td>\n",
       "      <td>199202452</td>\n",
       "      <td>MseI</td>\n",
       "      <td>map_40</td>\n",
       "      <td>hg38</td>\n",
       "    </tr>\n",
       "    <tr>\n",
       "      <th>9</th>\n",
       "      <td>chr1</td>\n",
       "      <td>214317308</td>\n",
       "      <td>214317309</td>\n",
       "      <td>MseI</td>\n",
       "      <td>map_40</td>\n",
       "      <td>hg38</td>\n",
       "    </tr>\n",
       "    <tr>\n",
       "      <th>10</th>\n",
       "      <td>chr1</td>\n",
       "      <td>190898497</td>\n",
       "      <td>190898498</td>\n",
       "      <td>MseI</td>\n",
       "      <td>map_40</td>\n",
       "      <td>hg38</td>\n",
       "    </tr>\n",
       "    <tr>\n",
       "      <th>11</th>\n",
       "      <td>chr1</td>\n",
       "      <td>72159968</td>\n",
       "      <td>72159969</td>\n",
       "      <td>MseI</td>\n",
       "      <td>map_40</td>\n",
       "      <td>hg38</td>\n",
       "    </tr>\n",
       "    <tr>\n",
       "      <th>12</th>\n",
       "      <td>chr1</td>\n",
       "      <td>59379649</td>\n",
       "      <td>59379650</td>\n",
       "      <td>MseI</td>\n",
       "      <td>map_40</td>\n",
       "      <td>hg38</td>\n",
       "    </tr>\n",
       "    <tr>\n",
       "      <th>13</th>\n",
       "      <td>chr1</td>\n",
       "      <td>208585393</td>\n",
       "      <td>208585394</td>\n",
       "      <td>MseI</td>\n",
       "      <td>map_40</td>\n",
       "      <td>hg38</td>\n",
       "    </tr>\n",
       "    <tr>\n",
       "      <th>14</th>\n",
       "      <td>chr1</td>\n",
       "      <td>106570846</td>\n",
       "      <td>106570847</td>\n",
       "      <td>MseI</td>\n",
       "      <td>map_40</td>\n",
       "      <td>hg38</td>\n",
       "    </tr>\n",
       "    <tr>\n",
       "      <th>15</th>\n",
       "      <td>chr1</td>\n",
       "      <td>160810231</td>\n",
       "      <td>160810232</td>\n",
       "      <td>MseI</td>\n",
       "      <td>map_40</td>\n",
       "      <td>hg38</td>\n",
       "    </tr>\n",
       "    <tr>\n",
       "      <th>16</th>\n",
       "      <td>chr1</td>\n",
       "      <td>12421623</td>\n",
       "      <td>12421624</td>\n",
       "      <td>MseI</td>\n",
       "      <td>map_40</td>\n",
       "      <td>hg38</td>\n",
       "    </tr>\n",
       "    <tr>\n",
       "      <th>17</th>\n",
       "      <td>chr1</td>\n",
       "      <td>177243707</td>\n",
       "      <td>177243708</td>\n",
       "      <td>MseI</td>\n",
       "      <td>map_40</td>\n",
       "      <td>hg38</td>\n",
       "    </tr>\n",
       "    <tr>\n",
       "      <th>18</th>\n",
       "      <td>chr1</td>\n",
       "      <td>58558608</td>\n",
       "      <td>58558609</td>\n",
       "      <td>MseI</td>\n",
       "      <td>map_40</td>\n",
       "      <td>hg38</td>\n",
       "    </tr>\n",
       "    <tr>\n",
       "      <th>19</th>\n",
       "      <td>chr1</td>\n",
       "      <td>9686947</td>\n",
       "      <td>9686948</td>\n",
       "      <td>MseI</td>\n",
       "      <td>map_40</td>\n",
       "      <td>hg38</td>\n",
       "    </tr>\n",
       "    <tr>\n",
       "      <th>20</th>\n",
       "      <td>chr1</td>\n",
       "      <td>158014372</td>\n",
       "      <td>158014373</td>\n",
       "      <td>MseI</td>\n",
       "      <td>map_40</td>\n",
       "      <td>hg38</td>\n",
       "    </tr>\n",
       "    <tr>\n",
       "      <th>21</th>\n",
       "      <td>chr1</td>\n",
       "      <td>189097505</td>\n",
       "      <td>189097506</td>\n",
       "      <td>MseI</td>\n",
       "      <td>map_40</td>\n",
       "      <td>hg38</td>\n",
       "    </tr>\n",
       "    <tr>\n",
       "      <th>22</th>\n",
       "      <td>chr1</td>\n",
       "      <td>18923486</td>\n",
       "      <td>18923487</td>\n",
       "      <td>MseI</td>\n",
       "      <td>map_40</td>\n",
       "      <td>hg38</td>\n",
       "    </tr>\n",
       "    <tr>\n",
       "      <th>23</th>\n",
       "      <td>chr1</td>\n",
       "      <td>228897097</td>\n",
       "      <td>228897098</td>\n",
       "      <td>MseI</td>\n",
       "      <td>map_40</td>\n",
       "      <td>hg38</td>\n",
       "    </tr>\n",
       "    <tr>\n",
       "      <th>24</th>\n",
       "      <td>chr1</td>\n",
       "      <td>73717491</td>\n",
       "      <td>73717492</td>\n",
       "      <td>MseI</td>\n",
       "      <td>map_40</td>\n",
       "      <td>hg38</td>\n",
       "    </tr>\n",
       "    <tr>\n",
       "      <th>25</th>\n",
       "      <td>chr1</td>\n",
       "      <td>92336403</td>\n",
       "      <td>92336404</td>\n",
       "      <td>MseI</td>\n",
       "      <td>map_40</td>\n",
       "      <td>hg38</td>\n",
       "    </tr>\n",
       "    <tr>\n",
       "      <th>26</th>\n",
       "      <td>chr1</td>\n",
       "      <td>79850921</td>\n",
       "      <td>79850922</td>\n",
       "      <td>MseI</td>\n",
       "      <td>map_40</td>\n",
       "      <td>hg38</td>\n",
       "    </tr>\n",
       "    <tr>\n",
       "      <th>27</th>\n",
       "      <td>chr1</td>\n",
       "      <td>235436280</td>\n",
       "      <td>235436281</td>\n",
       "      <td>MseI</td>\n",
       "      <td>map_40</td>\n",
       "      <td>hg38</td>\n",
       "    </tr>\n",
       "    <tr>\n",
       "      <th>28</th>\n",
       "      <td>chr1</td>\n",
       "      <td>188780279</td>\n",
       "      <td>188780280</td>\n",
       "      <td>MseI</td>\n",
       "      <td>map_40</td>\n",
       "      <td>hg38</td>\n",
       "    </tr>\n",
       "    <tr>\n",
       "      <th>29</th>\n",
       "      <td>chr1</td>\n",
       "      <td>169972021</td>\n",
       "      <td>169972022</td>\n",
       "      <td>MseI</td>\n",
       "      <td>map_40</td>\n",
       "      <td>hg38</td>\n",
       "    </tr>\n",
       "    <tr>\n",
       "      <th>...</th>\n",
       "      <td>...</td>\n",
       "      <td>...</td>\n",
       "      <td>...</td>\n",
       "      <td>...</td>\n",
       "      <td>...</td>\n",
       "      <td>...</td>\n",
       "    </tr>\n",
       "    <tr>\n",
       "      <th>7858</th>\n",
       "      <td>chr1</td>\n",
       "      <td>59519230</td>\n",
       "      <td>59519231</td>\n",
       "      <td>MseI</td>\n",
       "      <td>map_40</td>\n",
       "      <td>hg38</td>\n",
       "    </tr>\n",
       "    <tr>\n",
       "      <th>7859</th>\n",
       "      <td>chr1</td>\n",
       "      <td>38090988</td>\n",
       "      <td>38090989</td>\n",
       "      <td>MseI</td>\n",
       "      <td>map_40</td>\n",
       "      <td>hg38</td>\n",
       "    </tr>\n",
       "    <tr>\n",
       "      <th>7860</th>\n",
       "      <td>chr1</td>\n",
       "      <td>183867786</td>\n",
       "      <td>183867787</td>\n",
       "      <td>MseI</td>\n",
       "      <td>map_40</td>\n",
       "      <td>hg38</td>\n",
       "    </tr>\n",
       "    <tr>\n",
       "      <th>7861</th>\n",
       "      <td>chr1</td>\n",
       "      <td>98579075</td>\n",
       "      <td>98579076</td>\n",
       "      <td>MseI</td>\n",
       "      <td>map_40</td>\n",
       "      <td>hg38</td>\n",
       "    </tr>\n",
       "    <tr>\n",
       "      <th>7862</th>\n",
       "      <td>chr1</td>\n",
       "      <td>147532866</td>\n",
       "      <td>147532867</td>\n",
       "      <td>MseI</td>\n",
       "      <td>map_40</td>\n",
       "      <td>hg38</td>\n",
       "    </tr>\n",
       "    <tr>\n",
       "      <th>7863</th>\n",
       "      <td>chr1</td>\n",
       "      <td>75719970</td>\n",
       "      <td>75719971</td>\n",
       "      <td>MseI</td>\n",
       "      <td>map_40</td>\n",
       "      <td>hg38</td>\n",
       "    </tr>\n",
       "    <tr>\n",
       "      <th>7864</th>\n",
       "      <td>chr1</td>\n",
       "      <td>90734867</td>\n",
       "      <td>90734868</td>\n",
       "      <td>MseI</td>\n",
       "      <td>map_40</td>\n",
       "      <td>hg38</td>\n",
       "    </tr>\n",
       "    <tr>\n",
       "      <th>7865</th>\n",
       "      <td>chr1</td>\n",
       "      <td>229544693</td>\n",
       "      <td>229544694</td>\n",
       "      <td>MseI</td>\n",
       "      <td>map_40</td>\n",
       "      <td>hg38</td>\n",
       "    </tr>\n",
       "    <tr>\n",
       "      <th>7866</th>\n",
       "      <td>chr1</td>\n",
       "      <td>97842487</td>\n",
       "      <td>97842488</td>\n",
       "      <td>MseI</td>\n",
       "      <td>map_40</td>\n",
       "      <td>hg38</td>\n",
       "    </tr>\n",
       "    <tr>\n",
       "      <th>7867</th>\n",
       "      <td>chr1</td>\n",
       "      <td>77736267</td>\n",
       "      <td>77736268</td>\n",
       "      <td>MseI</td>\n",
       "      <td>map_40</td>\n",
       "      <td>hg38</td>\n",
       "    </tr>\n",
       "    <tr>\n",
       "      <th>7868</th>\n",
       "      <td>chr1</td>\n",
       "      <td>202137741</td>\n",
       "      <td>202137742</td>\n",
       "      <td>MseI</td>\n",
       "      <td>map_40</td>\n",
       "      <td>hg38</td>\n",
       "    </tr>\n",
       "    <tr>\n",
       "      <th>7869</th>\n",
       "      <td>chr1</td>\n",
       "      <td>104527082</td>\n",
       "      <td>104527083</td>\n",
       "      <td>MseI</td>\n",
       "      <td>map_40</td>\n",
       "      <td>hg38</td>\n",
       "    </tr>\n",
       "    <tr>\n",
       "      <th>7870</th>\n",
       "      <td>chr1</td>\n",
       "      <td>50098359</td>\n",
       "      <td>50098360</td>\n",
       "      <td>MseI</td>\n",
       "      <td>map_40</td>\n",
       "      <td>hg38</td>\n",
       "    </tr>\n",
       "    <tr>\n",
       "      <th>7871</th>\n",
       "      <td>chr1</td>\n",
       "      <td>23759868</td>\n",
       "      <td>23759869</td>\n",
       "      <td>MseI</td>\n",
       "      <td>map_40</td>\n",
       "      <td>hg38</td>\n",
       "    </tr>\n",
       "    <tr>\n",
       "      <th>7872</th>\n",
       "      <td>chr1</td>\n",
       "      <td>16909844</td>\n",
       "      <td>16909845</td>\n",
       "      <td>MseI</td>\n",
       "      <td>map_40</td>\n",
       "      <td>hg38</td>\n",
       "    </tr>\n",
       "    <tr>\n",
       "      <th>7873</th>\n",
       "      <td>chr1</td>\n",
       "      <td>93019545</td>\n",
       "      <td>93019546</td>\n",
       "      <td>MseI</td>\n",
       "      <td>map_40</td>\n",
       "      <td>hg38</td>\n",
       "    </tr>\n",
       "    <tr>\n",
       "      <th>7874</th>\n",
       "      <td>chr1</td>\n",
       "      <td>67750086</td>\n",
       "      <td>67750087</td>\n",
       "      <td>MseI</td>\n",
       "      <td>map_40</td>\n",
       "      <td>hg38</td>\n",
       "    </tr>\n",
       "    <tr>\n",
       "      <th>7875</th>\n",
       "      <td>chr1</td>\n",
       "      <td>80140505</td>\n",
       "      <td>80140506</td>\n",
       "      <td>MseI</td>\n",
       "      <td>map_40</td>\n",
       "      <td>hg38</td>\n",
       "    </tr>\n",
       "    <tr>\n",
       "      <th>7876</th>\n",
       "      <td>chr1</td>\n",
       "      <td>230435369</td>\n",
       "      <td>230435370</td>\n",
       "      <td>MseI</td>\n",
       "      <td>map_40</td>\n",
       "      <td>hg38</td>\n",
       "    </tr>\n",
       "    <tr>\n",
       "      <th>7877</th>\n",
       "      <td>chr1</td>\n",
       "      <td>218796885</td>\n",
       "      <td>218796886</td>\n",
       "      <td>MseI</td>\n",
       "      <td>map_40</td>\n",
       "      <td>hg38</td>\n",
       "    </tr>\n",
       "    <tr>\n",
       "      <th>7878</th>\n",
       "      <td>chr1</td>\n",
       "      <td>201035748</td>\n",
       "      <td>201035749</td>\n",
       "      <td>MseI</td>\n",
       "      <td>map_40</td>\n",
       "      <td>hg38</td>\n",
       "    </tr>\n",
       "    <tr>\n",
       "      <th>7879</th>\n",
       "      <td>chr1</td>\n",
       "      <td>57095741</td>\n",
       "      <td>57095742</td>\n",
       "      <td>MseI</td>\n",
       "      <td>map_40</td>\n",
       "      <td>hg38</td>\n",
       "    </tr>\n",
       "    <tr>\n",
       "      <th>7880</th>\n",
       "      <td>chr1</td>\n",
       "      <td>111488128</td>\n",
       "      <td>111488129</td>\n",
       "      <td>MseI</td>\n",
       "      <td>map_40</td>\n",
       "      <td>hg38</td>\n",
       "    </tr>\n",
       "    <tr>\n",
       "      <th>7881</th>\n",
       "      <td>chr1</td>\n",
       "      <td>227043513</td>\n",
       "      <td>227043514</td>\n",
       "      <td>MseI</td>\n",
       "      <td>map_40</td>\n",
       "      <td>hg38</td>\n",
       "    </tr>\n",
       "    <tr>\n",
       "      <th>7882</th>\n",
       "      <td>chr1</td>\n",
       "      <td>112256340</td>\n",
       "      <td>112256341</td>\n",
       "      <td>MseI</td>\n",
       "      <td>map_40</td>\n",
       "      <td>hg38</td>\n",
       "    </tr>\n",
       "    <tr>\n",
       "      <th>7883</th>\n",
       "      <td>chr1</td>\n",
       "      <td>24194420</td>\n",
       "      <td>24194421</td>\n",
       "      <td>MseI</td>\n",
       "      <td>map_40</td>\n",
       "      <td>hg38</td>\n",
       "    </tr>\n",
       "    <tr>\n",
       "      <th>7884</th>\n",
       "      <td>chr1</td>\n",
       "      <td>9926821</td>\n",
       "      <td>9926822</td>\n",
       "      <td>MseI</td>\n",
       "      <td>map_40</td>\n",
       "      <td>hg38</td>\n",
       "    </tr>\n",
       "    <tr>\n",
       "      <th>7885</th>\n",
       "      <td>chr1</td>\n",
       "      <td>75240161</td>\n",
       "      <td>75240162</td>\n",
       "      <td>MseI</td>\n",
       "      <td>map_40</td>\n",
       "      <td>hg38</td>\n",
       "    </tr>\n",
       "    <tr>\n",
       "      <th>7886</th>\n",
       "      <td>chr1</td>\n",
       "      <td>37500560</td>\n",
       "      <td>37500561</td>\n",
       "      <td>MseI</td>\n",
       "      <td>map_40</td>\n",
       "      <td>hg38</td>\n",
       "    </tr>\n",
       "    <tr>\n",
       "      <th>7887</th>\n",
       "      <td>chr1</td>\n",
       "      <td>47063974</td>\n",
       "      <td>47063975</td>\n",
       "      <td>MseI</td>\n",
       "      <td>map_40</td>\n",
       "      <td>hg38</td>\n",
       "    </tr>\n",
       "  </tbody>\n",
       "</table>\n",
       "<p>7888 rows × 6 columns</p>\n",
       "</div>"
      ],
      "text/plain": [
       "     Chromosome      Start        End   Match Rnd Model Assembly\n",
       "0         chr1    85364380   85364381   MseI    map_40      hg38\n",
       "1         chr1    91532644   91532645   MseI    map_40      hg38\n",
       "2         chr1   218161117  218161118   MseI    map_40      hg38\n",
       "3         chr1   223049867  223049868   MseI    map_40      hg38\n",
       "4         chr1   174190581  174190582   MseI    map_40      hg38\n",
       "5         chr1   182842457  182842458   MseI    map_40      hg38\n",
       "6         chr1    40827908   40827909   MseI    map_40      hg38\n",
       "7         chr1   244656376  244656377   MseI    map_40      hg38\n",
       "8         chr1   199202451  199202452   MseI    map_40      hg38\n",
       "9         chr1   214317308  214317309   MseI    map_40      hg38\n",
       "10        chr1   190898497  190898498   MseI    map_40      hg38\n",
       "11        chr1    72159968   72159969   MseI    map_40      hg38\n",
       "12        chr1    59379649   59379650   MseI    map_40      hg38\n",
       "13        chr1   208585393  208585394   MseI    map_40      hg38\n",
       "14        chr1   106570846  106570847   MseI    map_40      hg38\n",
       "15        chr1   160810231  160810232   MseI    map_40      hg38\n",
       "16        chr1    12421623   12421624   MseI    map_40      hg38\n",
       "17        chr1   177243707  177243708   MseI    map_40      hg38\n",
       "18        chr1    58558608   58558609   MseI    map_40      hg38\n",
       "19        chr1     9686947    9686948   MseI    map_40      hg38\n",
       "20        chr1   158014372  158014373   MseI    map_40      hg38\n",
       "21        chr1   189097505  189097506   MseI    map_40      hg38\n",
       "22        chr1    18923486   18923487   MseI    map_40      hg38\n",
       "23        chr1   228897097  228897098   MseI    map_40      hg38\n",
       "24        chr1    73717491   73717492   MseI    map_40      hg38\n",
       "25        chr1    92336403   92336404   MseI    map_40      hg38\n",
       "26        chr1    79850921   79850922   MseI    map_40      hg38\n",
       "27        chr1   235436280  235436281   MseI    map_40      hg38\n",
       "28        chr1   188780279  188780280   MseI    map_40      hg38\n",
       "29        chr1   169972021  169972022   MseI    map_40      hg38\n",
       "...         ...        ...        ...     ...       ...      ...\n",
       "7858      chr1    59519230   59519231   MseI    map_40      hg38\n",
       "7859      chr1    38090988   38090989   MseI    map_40      hg38\n",
       "7860      chr1   183867786  183867787   MseI    map_40      hg38\n",
       "7861      chr1    98579075   98579076   MseI    map_40      hg38\n",
       "7862      chr1   147532866  147532867   MseI    map_40      hg38\n",
       "7863      chr1    75719970   75719971   MseI    map_40      hg38\n",
       "7864      chr1    90734867   90734868   MseI    map_40      hg38\n",
       "7865      chr1   229544693  229544694   MseI    map_40      hg38\n",
       "7866      chr1    97842487   97842488   MseI    map_40      hg38\n",
       "7867      chr1    77736267   77736268   MseI    map_40      hg38\n",
       "7868      chr1   202137741  202137742   MseI    map_40      hg38\n",
       "7869      chr1   104527082  104527083   MseI    map_40      hg38\n",
       "7870      chr1    50098359   50098360   MseI    map_40      hg38\n",
       "7871      chr1    23759868   23759869   MseI    map_40      hg38\n",
       "7872      chr1    16909844   16909845   MseI    map_40      hg38\n",
       "7873      chr1    93019545   93019546   MseI    map_40      hg38\n",
       "7874      chr1    67750086   67750087   MseI    map_40      hg38\n",
       "7875      chr1    80140505   80140506   MseI    map_40      hg38\n",
       "7876      chr1   230435369  230435370   MseI    map_40      hg38\n",
       "7877      chr1   218796885  218796886   MseI    map_40      hg38\n",
       "7878      chr1   201035748  201035749   MseI    map_40      hg38\n",
       "7879      chr1    57095741   57095742   MseI    map_40      hg38\n",
       "7880      chr1   111488128  111488129   MseI    map_40      hg38\n",
       "7881      chr1   227043513  227043514   MseI    map_40      hg38\n",
       "7882      chr1   112256340  112256341   MseI    map_40      hg38\n",
       "7883      chr1    24194420   24194421   MseI    map_40      hg38\n",
       "7884      chr1     9926821    9926822   MseI    map_40      hg38\n",
       "7885      chr1    75240161   75240162   MseI    map_40      hg38\n",
       "7886      chr1    37500560   37500561   MseI    map_40      hg38\n",
       "7887      chr1    47063974   47063975   MseI    map_40      hg38\n",
       "\n",
       "[7888 rows x 6 columns]"
      ]
     },
     "execution_count": 13,
     "metadata": {},
     "output_type": "execute_result"
    }
   ],
   "source": [
    "enzmatchedpos"
   ]
  },
  {
   "cell_type": "markdown",
   "metadata": {},
   "source": [
    "Then you can continue to append to the file using same function for 23 other chromosomes and come to 100000 positions at the end. This is how it goes with one command (filepaths are relevant for my Openstack working directory: /mnt/big_disc/elvira/genomes/human/enzyme_maps/MseI):\n",
    "\n",
    "``` python\n",
    "listofchr = [\"chr1\",\"chr2\",\"chr3\",\"chr4\",\"chr5\",\"chr6\",\"chr7\",\"chr8\",\"chr9\",\"chr10\",\"chr11\",\"chr12\",\"chr13\",\"chr14\",\"chr15\",\"chr16\",\"chr17\",\"chr18\",\"chr19\",\"chr20\",\"chr21\",\"chr22\",\"chrX\",\"chrY\"]\n",
    "\n",
    "    for chrom in listofchr:\n",
    "    getEnzMatchedIR('MseI_{0}_pos.txt'.format(chrom),'../../mappability_files/textfiles/map40/{0}_40_mappable.txt'.format(chrom),chrom,kmer40,100000,'map_40','MseI','datasets/MseI_map40_IS100000.txt')\n",
    "```"
   ]
  },
  {
   "cell_type": "markdown",
   "metadata": {},
   "source": [
    "#### 3. Plot the distribution of 10000 IS on chr1 matched with MseI"
   ]
  },
  {
   "cell_type": "code",
   "execution_count": 15,
   "metadata": {
    "collapsed": true
   },
   "outputs": [],
   "source": [
    "def getEnzMatchedIRSingleChr(inputenzf,inputmappf,chr_name,kmer,N,mapname,enzname,outputf):\n",
    "    enz = np.sort(np.genfromtxt(inputenzf, dtype=int))\n",
    "    chr_arr = np.genfromtxt(inputmappf,dtype=None)\n",
    "    counter = 1\n",
    "    while counter<=N:\n",
    "        rand_num = np.random.choice(enz)\n",
    "        matched_index = np.searchsorted(chr_arr[\"f0\"],rand_num)-1\n",
    "        if chr_arr[\"f1\"][matched_index] == True:\n",
    "            with open(outputf, 'a') as f:\n",
    "                print (chr_name,\"\\t\",rand_num,\"\\t\",rand_num+1,\"\\t\", enzname,\"\\t\",mapname,\"\\t\", \"hg38\", file=f)\n",
    "                counter+=1\n",
    "        else:\n",
    "            continue\n"
   ]
  },
  {
   "cell_type": "code",
   "execution_count": 14,
   "metadata": {
    "collapsed": true
   },
   "outputs": [],
   "source": [
    "with open('../testdata/MseI_map40_IS100000_chr1.txt', 'w') as f:\n",
    "    print(\"Chromosome\\tStart\\tEnd\\tMatch\\tRnd Model\\tAssembly\", file=f)"
   ]
  },
  {
   "cell_type": "code",
   "execution_count": 16,
   "metadata": {
    "collapsed": true
   },
   "outputs": [],
   "source": [
    "getEnzMatchedIRSingleChr(\"../testdata/MseI_chr1_pos.txt\", \"../testdata/chr1_40_mappableshort.txt\",\"chr1\",kmer40,100000,\"map_40\",\"MseI\",'../testdata/MseI_map40_IS100000_chr1.txt')"
   ]
  },
  {
   "cell_type": "code",
   "execution_count": 17,
   "metadata": {
    "collapsed": true
   },
   "outputs": [],
   "source": [
    "enzmatchedpos = pd.read_csv('../testdata/MseI_map40_IS100000_chr1.txt', sep=\"\\t\")"
   ]
  },
  {
   "cell_type": "code",
   "execution_count": 20,
   "metadata": {
    "collapsed": false,
    "scrolled": true
   },
   "outputs": [
    {
     "data": {
      "image/png": "[encoded data removed]",
      "text/plain": [
       "<matplotlib.figure.Figure at 0x128ecf490>"
      ]
     },
     "metadata": {},
     "output_type": "display_data"
    }
   ],
   "source": [
    "import random\n",
    "import numpy as np\n",
    "import matplotlib.pyplot as plt\n",
    "\n",
    "plt.figure(figsize=(14,7))\n",
    "plt.hist(enzmatchedpos[\"Start\"],normed=True, label = 'PDF', bins = 500)\n",
    "plt.xlabel(\"$Position\\ on\\ chr1$\")\n",
    "plt.ylabel(\"$Probability$\")\n",
    "plt.legend(loc='lower right')\n",
    "plt.title(\"Distribution of the datapoints on chr1 generated with Model Two\", fontsize=16)\n",
    "plt.savefig(\"../figures/ModelTwo_100000IS_chr1.pdf\")\n",
    "plt.show()\n"
   ]
  },
  {
   "cell_type": "code",
   "execution_count": 2,
   "metadata": {
    "collapsed": false
   },
   "outputs": [
    {
     "data": {
      "text/plain": [
       "497912"
      ]
     },
     "execution_count": 2,
     "metadata": {},
     "output_type": "execute_result"
    }
   ],
   "source": [
    "248956422/500"
   ]
  },
  {
   "cell_type": "markdown",
   "metadata": {},
   "source": [
    "#### Kolmogorov-Smirnov test for comparing all three models\n",
    "H0: the two distributions of the random positions come from the same population\n",
    "H1: there is a significant difference between two distributions hence they are not part of the same population"
   ]
  },
  {
   "cell_type": "code",
   "execution_count": 21,
   "metadata": {
    "collapsed": true
   },
   "outputs": [],
   "source": [
    "chr1Len = 248956422\n",
    "mzero = []\n",
    "for i in range(100000):\n",
    "    mzero.append(random.randint(1,chr1Len))"
   ]
  },
  {
   "cell_type": "code",
   "execution_count": 29,
   "metadata": {
    "collapsed": false
   },
   "outputs": [
    {
     "data": {
      "image/png": "[encoded data removed]",
      "text/plain": [
       "<matplotlib.figure.Figure at 0x11bfe15d0>"
      ]
     },
     "metadata": {},
     "output_type": "display_data"
    }
   ],
   "source": [
    "plt.figure(figsize=(12,7))\n",
    "plt.hist(enzmatchedpos[\"Start\"], normed=True, cumulative=True, histtype=\"step\",label='mTwo', bins=np.linspace(1,300000000,100))\n",
    "plt.hist(mzero, normed=True, cumulative=True, histtype=\"step\",label='mZero', bins=np.linspace(1,300000000,100))\n",
    "plt.xlabel(\"$Datapoints$\")\n",
    "plt.ylabel(\"$Probability$\")\n",
    "plt.legend(loc='lower right')\n",
    "plt.show()"
   ]
  },
  {
   "cell_type": "code",
   "execution_count": 24,
   "metadata": {
    "collapsed": false
   },
   "outputs": [
    {
     "data": {
      "text/plain": [
       "Ks_2sampResult(statistic=0.07621, pvalue=6.2007201491716494e-253)"
      ]
     },
     "execution_count": 24,
     "metadata": {},
     "output_type": "execute_result"
    }
   ],
   "source": [
    "from scipy.stats import ks_2samp\n",
    "ks_2samp(enzmatchedpos[\"Start\"], mzero)"
   ]
  },
  {
   "cell_type": "code",
   "execution_count": 25,
   "metadata": {
    "collapsed": true
   },
   "outputs": [],
   "source": [
    "mone = pd.read_csv('../testdata/map40_IS100000_chr1.txt', sep=\"\\t\")"
   ]
  },
  {
   "cell_type": "code",
   "execution_count": 30,
   "metadata": {
    "collapsed": false
   },
   "outputs": [
    {
     "data": {
      "image/png": "[encoded data removed]",
      "text/plain": [
       "<matplotlib.figure.Figure at 0x11c664b50>"
      ]
     },
     "metadata": {},
     "output_type": "display_data"
    }
   ],
   "source": [
    "plt.figure(figsize=(12,7))\n",
    "plt.hist(mone[\"Start\"], normed=True, cumulative=True, histtype=\"step\",label='mOne', bins=np.linspace(1,300000000,100))\n",
    "plt.hist(enzmatchedpos[\"Start\"], normed=True, cumulative=True, histtype=\"step\",label='mTwo', bins=np.linspace(1,300000000,100))\n",
    "plt.xlabel(\"$Datapoints$\")\n",
    "plt.ylabel(\"$Probability$\")\n",
    "plt.legend(loc='lower right')\n",
    "plt.show()"
   ]
  },
  {
   "cell_type": "code",
   "execution_count": 28,
   "metadata": {
    "collapsed": false
   },
   "outputs": [
    {
     "data": {
      "text/plain": [
       "Ks_2sampResult(statistic=0.067980000000000013, pvalue=2.426707647291601e-201)"
      ]
     },
     "execution_count": 28,
     "metadata": {},
     "output_type": "execute_result"
    }
   ],
   "source": [
    "from scipy.stats import ks_2samp\n",
    "ks_2samp(enzmatchedpos[\"Start\"], mone[\"Start\"])"
   ]
  },
  {
   "cell_type": "markdown",
   "metadata": {
    "collapsed": true
   },
   "source": [
    "#### Conclusion\n",
    "The p-value for both comparisons is much lower than the significance level (pvalue<<0,05) hence we can throw up the zero hypothesis (H0) and accept the H1 stating that the distribution of 100000 positions on chr1 generated by model Zero is differen from model One and Two and that distributions generated with model One and Two are also diffferent compared to each other."
   ]
  },
  {
   "cell_type": "code",
   "execution_count": null,
   "metadata": {
    "collapsed": true
   },
   "outputs": [],
   "source": []
  }
 ],
 "metadata": {
  "anaconda-cloud": {},
  "kernelspec": {
   "display_name": "Python [conda env:python2]",
   "language": "python",
   "name": "conda-env-python2-py"
  },
  "language_info": {
   "codemirror_mode": {
    "name": "ipython",
    "version": 2
   },
   "file_extension": ".py",
   "mimetype": "text/x-python",
   "name": "python",
   "nbconvert_exporter": "python",
   "pygments_lexer": "ipython2",
   "version": "2.7.13"
  }
 },
 "nbformat": 4,
 "nbformat_minor": 1
}
