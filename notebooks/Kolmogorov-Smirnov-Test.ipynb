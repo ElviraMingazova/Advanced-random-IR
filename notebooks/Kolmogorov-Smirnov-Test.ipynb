{
 "cells": [
  {
   "cell_type": "markdown",
   "metadata": {},
   "source": [
    "# Kolmogorov-Smirnov Test  \n",
    "Elvira Mingazova  \n",
    "March, 2017  \n",
    "\n",
    "*In this notebook the Kolmogorov-Smirnov statistical test will be explained and visualized on various examples.*  \n",
    "\n",
    "Some definitions first:  \n",
    "**Kolmogorov–Smirnov test** is a nonparametric test of the equality of continuous, one-dimensional probability distributions that can be used to compare a sample with a reference probability distribution (one-sample K–S test), or to compare two samples (two-sample K–S test).  KS - test compares two CDFs and finds the maximal distance between the two, this value is called D-value.  \n",
    "**Cumulative distribution function/ empirical distribution function (CDF)**  \n",
    "An empirical distribution function is a step function that jumps up by 1/n at each of the n data points. Its value at any specified point on the x - axis is the fraction of observations that are less than or equal to the specified value. In other words CDF gives the probability accumulated up to the point at which it is evaluated (including that point).  \n",
    "**Non-parametric statistics**  \n",
    "It covers techniques that do not rely on data belonging to any particular distribution  \n",
    "- distribution free methods, which do not rely on assumptions that the data are drawn from a given probability distribution. As such it is the opposite of parametric statistics.  \n",
    "- non-parametric statistics (in the sense of a statistic over data, which is defined to be a function on a sample that has no dependency on a parameter), whose interpretation does not depend on the population fitting any parameterised distributions.  \n",
    "  \n",
    "**Null hypothesis**  \n",
    "This is a statement, that we want to prove with our test.  \n",
    "Usually it is the hypothesis that there is no significant difference between specified populations, any observed difference being due to sampling or experimental error. Example null hypothesis in our case could be: two datasets come from the same distribution. Alternative hypothesis would be: null hypothesis is not true.  \n",
    "**P-value**  \n",
    "The p-value is defined informally as the probability of obtaining a result equal to or \"more extreme\" than what was actually observed, when the null hypothesis is true.  \n",
    "The p-value is widely used in null hypothesis significance testing. In this method, as part of experimental design, before performing the experiment, one first chooses a model (the null hypothesis) and a threshold value for p, called the **significance level** of the test, traditionally 5% or 1% and denoted as α. If the p-value is less than or equal to the chosen significance level (α), the null hypothesis must be rejected. However, if p-value is greater than α that does not prove that the tested hypothesis is true. For typical analysis, using the standard α = 0.05 cutoff, the null hypothesis is rejected when p < .05 and not rejected when p > .05. The p-value does not, in itself, support reasoning about the probabilities of hypotheses but is only a tool for deciding whether to reject the null hypothesis.  \n",
    "**Type I error**  \n",
    "Hypothesis is rejected when in fact it is true  \n",
    "**Type II error**  \n",
    "Hypothesis is not rejected when in fact it is false  \n",
    "**General steps in hypothesis testing:**  \n",
    "1. State the null hypothesis explicitly.\n",
    "2. Decide on which statistic to use.\n",
    "3. Decide on the desired value for α, called the significance level of the test, and\n",
    "then determine the critical value for the test (usually by looking it up in a table\n",
    "book).\n",
    "4. Collect the data.\n",
    "5. Calculate the test statistic.\n",
    "6. Reject or fail to reject the null hypothesis after comparing the test statistic with\n",
    "the critical value of the statistic."
   ]
  },
  {
   "cell_type": "markdown",
   "metadata": {},
   "source": [
    "With the means of the KS-test we will first compare two datasets of 20 points. Null hypothesis: there is no significant difference between the two datasets. For example we want to know whether the treatment against some disease was effective. For that reason we will create two arrays x (control group) and y (treatment group)"
   ]
  },
  {
   "cell_type": "code",
   "execution_count": 79,
   "metadata": {
    "collapsed": false
   },
   "outputs": [],
   "source": [
    "import numpy as np\n",
    "import matplotlib.pyplot as plt\n",
    "import pylab as pl\n",
    "from scipy.stats import ks_2samp\n",
    "x=np.array([1.26, 0.34, 0.70, 1.75, 50.57, 1.55, 0.08, 0.42, 0.50, 3.20, 0.15, 0.49, 0.95, 0.24, 1.37, 0.17, 6.98, 0.10, 0.94, 0.38])\n",
    "y=np.array([2.37, 2.16, 14.82, 1.73, 41.04, 0.23, 1.32, 2.91, 39.41, 0.11, 27.44, 4.51, 0.51, 4.50, 0.18, 14.68, 4.66, 1.30, 2.06, 1.19])\n"
   ]
  },
  {
   "cell_type": "markdown",
   "metadata": {},
   "source": [
    "Let's sort the two datasets and then have a look at them"
   ]
  },
  {
   "cell_type": "code",
   "execution_count": 80,
   "metadata": {
    "collapsed": true
   },
   "outputs": [],
   "source": [
    "x.sort()\n",
    "y.sort()"
   ]
  },
  {
   "cell_type": "code",
   "execution_count": 81,
   "metadata": {
    "collapsed": false,
    "scrolled": true
   },
   "outputs": [
    {
     "data": {
      "text/plain": [
       "array([  0.08,   0.1 ,   0.15,   0.17,   0.24,   0.34,   0.38,   0.42,\n",
       "         0.49,   0.5 ,   0.7 ,   0.94,   0.95,   1.26,   1.37,   1.55,\n",
       "         1.75,   3.2 ,   6.98,  50.57])"
      ]
     },
     "execution_count": 81,
     "metadata": {},
     "output_type": "execute_result"
    }
   ],
   "source": [
    "x"
   ]
  },
  {
   "cell_type": "code",
   "execution_count": 82,
   "metadata": {
    "collapsed": false,
    "scrolled": false
   },
   "outputs": [
    {
     "data": {
      "text/plain": [
       "array([  0.11,   0.18,   0.23,   0.51,   1.19,   1.3 ,   1.32,   1.73,\n",
       "         2.06,   2.16,   2.37,   2.91,   4.5 ,   4.51,   4.66,  14.68,\n",
       "        14.82,  27.44,  39.41,  41.04])"
      ]
     },
     "execution_count": 82,
     "metadata": {},
     "output_type": "execute_result"
    }
   ],
   "source": [
    "y"
   ]
  },
  {
   "cell_type": "markdown",
   "metadata": {},
   "source": [
    "As we can see the two datasets span a similar range of values starting at ~0.1 and going up to ~50. However, the mean, median and the standard deviation vary greatly (see below)."
   ]
  },
  {
   "cell_type": "code",
   "execution_count": 83,
   "metadata": {
    "collapsed": false,
    "scrolled": true
   },
   "outputs": [
    {
     "name": "stdout",
     "output_type": "stream",
     "text": [
      "3.607 10.8819433467 0.6\n",
      "8.3565 12.4947890238 2.265\n"
     ]
    }
   ],
   "source": [
    "meanx=np.mean(x)\n",
    "stdx=np.std(x)\n",
    "medianx=np.median(x)\n",
    "meany=np.mean(y)\n",
    "stdy=np.std(y)\n",
    "mediany=np.median(y)\n",
    "print meanx, stdx, medianx\n",
    "print meany, stdy, mediany"
   ]
  },
  {
   "cell_type": "markdown",
   "metadata": {},
   "source": [
    "One of the ways to understand how these two datasets are distributed is to look at their CDFs."
   ]
  },
  {
   "cell_type": "code",
   "execution_count": 119,
   "metadata": {
    "collapsed": false,
    "scrolled": false
   },
   "outputs": [
    {
     "data": {
      "image/png": "[encoded data removed]",
      "text/plain": [
       "<matplotlib.figure.Figure at 0x110e878d0>"
      ]
     },
     "metadata": {},
     "output_type": "display_data"
    }
   ],
   "source": [
    "plt.hist(x, normed=True, cumulative=True, histtype=\"step\", label='X', bins=np.linspace(0,55, 100))\n",
    "plt.hist(y, normed=True, cumulative=True, histtype=\"step\", label='Y', bins=np.linspace(0,55, 100))\n",
    "plt.xlabel(\"$X/Y$\")\n",
    "plt.ylabel(\"$Probability$\")\n",
    "plt.legend(loc='lower right')\n",
    "plt.show()"
   ]
  },
  {
   "cell_type": "markdown",
   "metadata": {},
   "source": [
    "Most of the datapoints are located between 0 and 10 so it would be useful to plot the CDFs with logscaled x-axis. "
   ]
  },
  {
   "cell_type": "code",
   "execution_count": 87,
   "metadata": {
    "collapsed": false,
    "scrolled": true
   },
   "outputs": [
    {
     "data": {
      "image/png": "[encoded data removed]",
      "text/plain": [
       "<matplotlib.figure.Figure at 0x1128a9690>"
      ]
     },
     "metadata": {},
     "output_type": "display_data"
    }
   ],
   "source": [
    "plt.hist(x, normed=True, cumulative=True, histtype=\"step\", label='X', bins=np.logspace(np.log10(0.1), np.log10(51), 20))\n",
    "plt.hist(y, normed=True, cumulative=True, histtype=\"step\", label='Y', bins=np.logspace(np.log10(0.1), np.log10(51), 20))\n",
    "pl.gca().set_xscale(\"log\")\n",
    "plt.xlabel(\"$X/Y$\")\n",
    "plt.ylabel(\"$Probability$\")\n",
    "plt.legend(loc='lower right')\n",
    "plt.show()"
   ]
  },
  {
   "cell_type": "markdown",
   "metadata": {},
   "source": [
    "Now we can compare two CDFs. By looking at them one can notice that for most any point on the x-axis, the fraction of the treatment group is strictly less than the fraction of the control group. That is, by-and-in-large the treatment values are larger than the control values for the same cumulative fraction. For example, the median (cumulative fraction =.5) for the control is clearly less than one whereas the median for the treatment is more than 1.  \n",
    "The KS-test uses the maximum vertical deviation between the two curves as the statistic D. In this case the maximum deviation occurs near x=1 and has D=.45. (The fraction of the treatment group that is less then one is 0.2 (4 out of the 20 values); the fraction of the control group that is less than one is 0.65 (13 out of the 20 values). Thus the maximum difference in cumulative fraction is D=.45.)  \n",
    "  \n",
    "There is a very simple way to calculate the D- and the P-value in python using the scipy.stats module"
   ]
  },
  {
   "cell_type": "code",
   "execution_count": 42,
   "metadata": {
    "collapsed": false
   },
   "outputs": [
    {
     "data": {
      "text/plain": [
       "Ks_2sampResult(statistic=0.45000000000000007, pvalue=0.023213275854449551)"
      ]
     },
     "execution_count": 42,
     "metadata": {},
     "output_type": "execute_result"
    }
   ],
   "source": [
    "test_stat = ks_2samp(x, y)\n",
    "test_stat"
   ]
  },
  {
   "cell_type": "markdown",
   "metadata": {},
   "source": [
    "The first value is the D-value and shows the maximum vertical deviation between two CDFs, the second value helps to make a decision whether to reject the null hypothesis or not. If we choose our significance level α = 0.05 and compare p-value with it we can see that p is smaller than α, so we can reject the null hypothesis and say that it is likely that two datasets are significantly different from each other.  \n",
    "  \n",
    "Now we can go back to the random model zero for the integration sites. We will compare two sample distributions of 1000 IS on chr1."
   ]
  },
  {
   "cell_type": "code",
   "execution_count": 43,
   "metadata": {
    "collapsed": true
   },
   "outputs": [],
   "source": [
    "import sys\n",
    "sys.path.insert(0, '/Users/elming/Advanced-random-IR/scripts')"
   ]
  },
  {
   "cell_type": "code",
   "execution_count": 44,
   "metadata": {
    "collapsed": true
   },
   "outputs": [],
   "source": [
    "import modelZeroModules as mzm"
   ]
  },
  {
   "cell_type": "code",
   "execution_count": 89,
   "metadata": {
    "collapsed": false,
    "scrolled": true
   },
   "outputs": [
    {
     "data": {
      "text/plain": [
       "{'chr1': 248956422,\n",
       " 'chr10': 133797422,\n",
       " 'chr11': 135086622,\n",
       " 'chr12': 133275309,\n",
       " 'chr13': 114364328,\n",
       " 'chr14': 107043718,\n",
       " 'chr15': 101991189,\n",
       " 'chr16': 90338345,\n",
       " 'chr17': 83257441,\n",
       " 'chr18': 80373285,\n",
       " 'chr19': 58617616,\n",
       " 'chr2': 242193529,\n",
       " 'chr20': 64444167,\n",
       " 'chr21': 46709983,\n",
       " 'chr22': 50818468,\n",
       " 'chr23': 156040895,\n",
       " 'chr24': 57227415,\n",
       " 'chr3': 198295559,\n",
       " 'chr4': 190214555,\n",
       " 'chr5': 181538259,\n",
       " 'chr6': 170805979,\n",
       " 'chr7': 159345973,\n",
       " 'chr8': 145138636,\n",
       " 'chr9': 138394717}"
      ]
     },
     "execution_count": 89,
     "metadata": {},
     "output_type": "execute_result"
    }
   ],
   "source": [
    "dimension_dict=mzm.getDimensionDict(\"../data/hg38.txt\")\n",
    "dimension_dict"
   ]
  },
  {
   "cell_type": "code",
   "execution_count": 90,
   "metadata": {
    "collapsed": false,
    "scrolled": true
   },
   "outputs": [
    {
     "name": "stdout",
     "output_type": "stream",
     "text": [
      "121719154.031 70164650.407 120397195.5\n",
      "122278024.179 73237071.9008 120000909.0\n"
     ]
    }
   ],
   "source": [
    "import random\n",
    "a = np.random.randint(1,dimension_dict[\"chr1\"], size=1000)\n",
    "b = np.random.randint(1,dimension_dict[\"chr1\"], size=1000)\n",
    "a.sort()\n",
    "b.sort()\n",
    "meana=np.mean(a)\n",
    "stda=np.std(a)\n",
    "mediana=np.median(a)\n",
    "meanb=np.mean(b)\n",
    "stdb=np.std(b)\n",
    "medianb=np.median(b)\n",
    "print meana, stda, mediana\n",
    "print meanb, stdb, medianb"
   ]
  },
  {
   "cell_type": "code",
   "execution_count": 92,
   "metadata": {
    "collapsed": false
   },
   "outputs": [
    {
     "name": "stdout",
     "output_type": "stream",
     "text": [
      "248701948 248629823\n"
     ]
    }
   ],
   "source": [
    "print np.max(a), np.max(b)"
   ]
  },
  {
   "cell_type": "code",
   "execution_count": 94,
   "metadata": {
    "collapsed": false
   },
   "outputs": [
    {
     "name": "stdout",
     "output_type": "stream",
     "text": [
      "35634 165364\n"
     ]
    }
   ],
   "source": [
    "print np.min(a), np.min(b)"
   ]
  },
  {
   "cell_type": "markdown",
   "metadata": {},
   "source": [
    "We will plot two CDFs of a and b datasets, each of them containing 1000 random positions on a chr1"
   ]
  },
  {
   "cell_type": "code",
   "execution_count": 120,
   "metadata": {
    "collapsed": false,
    "scrolled": true
   },
   "outputs": [
    {
     "data": {
      "image/png": "[encoded data removed]",
      "text/plain": [
       "<matplotlib.figure.Figure at 0x1110f9fd0>"
      ]
     },
     "metadata": {},
     "output_type": "display_data"
    }
   ],
   "source": [
    "plt.hist(a, normed=True, cumulative=True, histtype=\"step\",label='a', bins=np.linspace(1,300000000,100))\n",
    "plt.hist(b, normed=True, cumulative=True, histtype=\"step\",label='b', bins=np.linspace(1,300000000,100))\n",
    "plt.xlabel(\"$Datapoints$\")\n",
    "plt.ylabel(\"$Probability$\")\n",
    "plt.legend(loc='lower right')\n",
    "plt.show()"
   ]
  },
  {
   "cell_type": "code",
   "execution_count": null,
   "metadata": {
    "collapsed": true
   },
   "outputs": [],
   "source": [
    "Visually two distributions look very similar"
   ]
  },
  {
   "cell_type": "code",
   "execution_count": 98,
   "metadata": {
    "collapsed": false
   },
   "outputs": [
    {
     "data": {
      "image/png": "[encoded data removed]",
      "text/plain": [
       "<matplotlib.figure.Figure at 0x110fa49d0>"
      ]
     },
     "metadata": {},
     "output_type": "display_data"
    }
   ],
   "source": [
    "plt.hist(a, normed=True, cumulative=True, histtype=\"step\", bins=np.logspace(5,8,20))\n",
    "plt.hist(b, normed=True, cumulative=True, histtype=\"step\", bins=np.logspace(5,8,20))\n",
    "pl.gca().set_xscale(\"log\")\n",
    "plt.show()"
   ]
  },
  {
   "cell_type": "code",
   "execution_count": 97,
   "metadata": {
    "collapsed": false,
    "scrolled": true
   },
   "outputs": [
    {
     "data": {
      "text/plain": [
       "Ks_2sampResult(statistic=0.029000000000000026, pvalue=0.7887807460454147)"
      ]
     },
     "execution_count": 97,
     "metadata": {},
     "output_type": "execute_result"
    }
   ],
   "source": [
    "test_stat = ks_2samp(a, b)\n",
    "test_stat"
   ]
  },
  {
   "cell_type": "markdown",
   "metadata": {},
   "source": [
    "The test statistic tells that the biggest difference between two datasets is quite a small number (0,029) and the p-value is much higher than the significance level  so there is no evidence to reject the zero hypothesis that two datasets come from the same distribution."
   ]
  },
  {
   "cell_type": "markdown",
   "metadata": {},
   "source": [
    "Sources:  \n",
    "http://www.physics.csbsju.edu/stats/KS-test.html   \n",
    "http://link.springer.com/book/10.1007%2F978-3-642-05158-6"
   ]
  }
 ],
 "metadata": {
  "anaconda-cloud": {},
  "kernelspec": {
   "display_name": "Python [conda env:python2]",
   "language": "python",
   "name": "conda-env-python2-py"
  },
  "language_info": {
   "codemirror_mode": {
    "name": "ipython",
    "version": 2
   },
   "file_extension": ".py",
   "mimetype": "text/x-python",
   "name": "python",
   "nbconvert_exporter": "python",
   "pygments_lexer": "ipython2",
   "version": "2.7.13"
  }
 },
 "nbformat": 4,
 "nbformat_minor": 1
}
