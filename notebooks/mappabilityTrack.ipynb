{
 "cells": [
  {
   "cell_type": "markdown",
   "metadata": {},
   "source": [
    "# Computing mappability\n",
    "Raffaele Fronza, Elvira Mingazova   \n",
    "April, 2017\n",
    "  \n",
    "Plan:\n",
    "- Key concepts of mappability (why is mappability important for the random model)  \n",
    "- Mappability computing and visualization algorithm  \n",
    "- Proving correctness of the results for the yest genome and human chrY  "
   ]
  },
  {
   "cell_type": "markdown",
   "metadata": {},
   "source": [
    "## Key concepts of mappability  \n",
    "*Based on the paper from Derrien T., Estellé J, Marco Sola S, et al. Fast computation and applications of genome mappability.  \n",
    "https://www.ncbi.nlm.nih.gov/pubmed/22276185*"
   ]
  },
  {
   "cell_type": "markdown",
   "metadata": {},
   "source": [
    "Genome sequencing technologies (HTS - high throughput screening) produce huge amounts of short sequences (reads), with different lengths, error rates etc. depending on the technology employed. After completing the sequencing itself those short reads need to be alligned (mapped) onto a reference genome. The genome however has a nonrandom nature and includes a significant proportion of repetitive sequences, so one needs to distinguish between uniquely mapping reads (can be aligned to only one single location) and multiply mapping reads (match multiple possible locations).\n",
    "\n",
    "For a given genome, the proportion of uniquely mapped reads depends mostly on the length of the sequence reads produced by the experiment, and on the number of mismatches allowed during the mapping step.\n",
    "\n",
    "Therefore, given the technical specifications of the sequencing experiment it is possible to compute a priori the mappability of the whole sequence, i.e., the inverse of the number of times that a read originating from any position in the reference genome maps to the genome itself – thus identifying, for instance, the regions that are truly “mappable”, that is those producing reads which map back unambiguously to themselves.  \n",
    "  \n",
    "Definition according to Derrien at. all:\n",
    "Given some read length  k  , the    k-frequency Fk(x)    of a sequence at a given position  x  corresponds to the number of times the  k-mer  starting at position  x  appears in the sequence and in its reverse complement.\n",
    "\n",
    "Mappability :\n",
    "Mk(x) = 1/Fk(x)\n",
    "\n",
    "m = number of mismatches allowed in an alignment\n",
    "\n",
    "t = approximation parameter / threshold frequency\n",
    "\n",
    "\n",
    "\n"
   ]
  },
  {
   "cell_type": "markdown",
   "metadata": {},
   "source": [
    "## Mappability computing and visualization algorithm  \n",
    "  \n",
    "http://wiki.bits.vib.be/index.php/Create_a_mappability_track  \n",
    "  \n",
    "Server: elvira@transposon  \n",
    "Path to the genomes: /home/elvira/workspace/data/genomes  \n",
    "Path to the tools: /home/elvira/workspace/bin  \n",
    "  \n",
    "**Example organism**: yeast\n",
    "1. Download a genome of interest in fasta format  \n",
    "  \n",
    "    The yeast genome was downloaded from the UCSC server under http://hgdownload.soe.ucsc.edu/goldenPath/sacCer3/bigZips/. The filename for the complete genome sacCer3.2bit contains sequences for all 16 nuclear chromosomes and the mitochondrial genome.  \n",
    "  \n",
    "    The best way is to download the file directly from the terminal into the respective directory using the following bash command:  \n",
    "    ``` bash\n",
    "    wget http://hgdownload.soe.ucsc.edu/goldenPath/sacCer3/bigZips/sacCer3.2bit\n",
    "    ```\n",
    "  \n",
    "    After that sacCer3.2bit needs to be converted to sacCer3.fa using twoBitToFa tool (downloaded from http://hgdownload.soe.ucsc.edu/admin/exe/linux.x86_64.v287/):\n",
    "    ``` bash\n",
    "    twoBitToFa sacCer3.2bit SacCer3.fa\n",
    "    ```  \n",
    "2. Download GEM-tools  \n",
    "  \n",
    "    Tools were obtained and installed as described in http://algorithms.cnag.cat/wiki/GEM:Installation_instructions[7] (the core-2 version was used on the local machine)  \n",
    "      \n",
    "3. Create an indexed genome\n",
    "  \n",
    "    ``` bash\n",
    "    pref=\"sacCer3\"\n",
    "    reference=\"sacCer3.fa\"\n",
    "    idxpref=\"sacCer3_index\"\n",
    "    thr=8;\n",
    "    gem-indexer -T ${thr} -c dna -i ${reference} -o ${idxpref}\n",
    "    ```\n",
    "      \n",
    "4. Compute mappability for several kmer lengths\n",
    "  \n",
    "    ``` bash\n",
    "    pref=\"sacCer3\"\n",
    "    idxpref=\"sacCer3_index\"\n",
    "    thr=8;\n",
    " \n",
    "    for kmer in $(seq 30 150 500); do\n",
    " \n",
    "      # compute mappability data\n",
    "      gem-mappability -T ${thr} -I ${idxpref}.gem -l ${kmer} -o ${pref}_${kmer}\n",
    " \n",
    "      # convert results to wig and bigwig\n",
    "      gem-2-wig -I ${idxpref}.gem -i ${pref}_${kmer}.mappability -o ${pref}_${kmer}\n",
    "      wigToBigWig ${pref}_${kmer}.wig ${pref}_${kmer}.sizes ${pref}_${kmer}.bw\n",
    " \n",
    "    done\n",
    "    ```\n",
    "5. Visualize the .bw files in IGV  \n",
    "      \n",
    "    Below is the screenshot of three mappability tracks for the whole yeast genome computed using kmer 30, 150 and 500 bp long. Above the maps there are greek numbers which represent respective chromosomes on the genome. The track called \"Gene\" represents gene density. By zooming in it is possible to look at the sequence of any chosen position. At a first glance the yeast genome seems to be of a high complexity since not so many unmappable regions are to be seen.  \n",
    "      \n",
    "    <img src=\"../images/yeastMappability.png\">\n",
    "      \n",
    "    "
   ]
  },
  {
   "cell_type": "markdown",
   "metadata": {},
   "source": [
    "## Correctness of the results  \n",
    "Hier we want to prove manually at the different positions on the yeast genome whether the mappability score is correct. For that reason we will take a sequence of 30/150/500 bp from a specific position on the yeast genome and align it using blast, then we will compare the results with the map computed using GEM-tools.\n",
    "  \n",
    "#### Chromosome I, position 140008  \n",
    "  \n",
    "   <img src=\"../images/yeastchrI_YAL005C.png\">  "
   ]
  },
  {
   "cell_type": "markdown",
   "metadata": {},
   "source": [
    "According to the map above mappability for the yeast genome is 0.5 for kmer=30, 1 for kmer 150 and 0.5 for kmer 500.\n",
    "Below is the sequence obtained from http://fungi.ensembl.org/Saccharomyces_cerevisiae/Gene/Sequence?db=core;g=YAL005C;r=I:139503-141431;t=YAL005C. It is the reverse strand, since the coding sequence is on the reverse strand. In order to find the sequence starting from 140008 and corresponding to the one seen under the map in IGV (\"AAAGTGACTTCA...\") we first need to convert this sequence below into the forward strand "
   ]
  },
  {
   "cell_type": "code",
   "execution_count": 47,
   "metadata": {
    "collapsed": false
   },
   "outputs": [],
   "source": [
    "#chromosome:R64-1-1:I:138903:142031:-1\n",
    "dna = \"\"\"AATGTGAAAAATTTTTTCTTCAAAGGCTCGGTTGTCGACAAATTGTTACGTTGTGCTTTG\n",
    "ATTTCTAAAGCGCTTCTTCACCTGCAGGTTCTGAGCCCTAAGAAAAAAAATTTCCTTGGT\n",
    "TGAAAATGGCGGAAAAAAAAAATTCAGAAAAAGAAATAAAGCACGTGTGCGCGGTGTGTG\n",
    "GATGATGGTTTCATCATTGTCAACGGCATTTTCGTTCTTGTGGATTGTTGTAAACTTTCC\n",
    "AGAACATTCTAGAAAGAAAGCACACGGAACGTTTAGAAGCTGTCATTTGCGTTTTTTCTC\n",
    "CAGATTTTAGTTGAGAAAGTAATTAAATTATTCTTCTTTTTCCAGAACGTTCCATCGGCG\n",
    "GCAAAAGGGAGAGAAAGAACCCAAAAAGAAGGGGGGCCATTTAGATTAGCTGATCGTTTC\n",
    "GAGGACTTCAAGGTTATATAAGGGGTGGATTGATGTATCTTCGAGAAGGGATTGAGTTGT\n",
    "AGTTTCGTTTCCCAATTCTTACTTAAGTTGTTTTATTTTCTCTATTTGTAAGATAAGCAC\n",
    "ATCAAAAGAAAAGTAATCAAGTATTACAAGAAACAAAAATTCAAGTAAATAACAGATAAT\n",
    "ATGTCAAAAGCTGTCGGTATTGATTTAGGTACAACATACTCGTGTGTTGCTCACTTTGCT\n",
    "AATGATCGTGTGGACATTATTGCCAACGATCAAGGTAACAGAACCACTCCATCTTTTGTC\n",
    "GCTTTCACTGACACTGAAAGATTGATTGGTGATGCTGCTAAGAATCAAGCTGCTATGAAT\n",
    "CCTTCGAATACCGTTTTCGACGCTAAGCGTTTGATCGGTAGAAACTTCAACGACCCAGAA\n",
    "GTGCAGGCTGACATGAAGCACTTCCCATTCAAGTTGATCGATGTTGACGGTAAGCCTCAA\n",
    "ATTCAAGTTGAATTTAAGGGTGAAACCAAGAACTTTACCCCAGAACAAATCTCCTCCATG\n",
    "GTCTTGGGTAAGATGAAGGAAACTGCCGAATCTTACTTGGGAGCCAAGGTCAATGACGCT\n",
    "GTCGTCACTGTCCCAGCTTACTTCAACGATTCTCAAAGACAAGCTACCAAGGATGCTGGT\n",
    "ACCATTGCTGGTTTGAATGTCTTGCGTATTATTAACGAACCTACCGCCGCTGCCATTGCT\n",
    "TACGGTTTGGACAAGAAGGGTAAGGAAGAACACGTCTTGATTTTCGACTTGGGTGGTGGT\n",
    "ACTTTCGATGTCTCTTTGTTGTCCATTGAAGACGGTATCTTTGAAGTTAAGGCCACCGCT\n",
    "GGTGACACCCATTTGGGTGGTGAAGATTTTGACAACAGATTGGTCAACCACTTCATCCAA\n",
    "GAATTCAAGAGAAAGAACAAGAAGGACTTGTCTACCAACCAAAGAGCTTTGAGAAGATTA\n",
    "AGAACCGCTTGTGAAAGAGCCAAGAGAACTTTGTCTTCCTCCGCTCAAACTTCCGTTGAA\n",
    "ATTGACTCTTTGTTCGAAGGTATCGATTTCTACACTTCCATCACCAGAGCCAGATTCGAA\n",
    "GAATTGTGTGCTGACTTGTTCAGATCTACTTTGGACCCAGTTGAAAAGGTCTTGAGAGAT\n",
    "GCTAAATTGGACAAATCTCAAGTCGATGAAATTGTCTTGGTCGGTGGTTCTACCAGAATT\n",
    "CCAAAGGTCCAAAAATTGGTCACTGACTACTTCAACGGTAAGGAACCAAACAGATCTATC\n",
    "AACCCAGATGAAGCTGTTGCTTACGGTGCTGCTGTTCAAGCTGCTATTTTGACTGGTGAC\n",
    "GAATCTTCCAAGACTCAAGATCTATTGTTGTTGGATGTCGCTCCATTATCCTTGGGTATT\n",
    "GAAACTGCTGGTGGTGTCATGACCAAGTTGATTCCAAGAAACTCTACCATTCCAACAAAG\n",
    "AAGTCCGAGATCTTTTCCACTTATGCTGATAACCAACCAGGTGTCTTGATTCAAGTCTTT\n",
    "GAAGGTGAAAGAGCCAAGACTAAGGACAACAACTTGTTGGGTAAGTTCGAATTGAGTGGT\n",
    "ATTCCACCAGCTCCAAGAGGTGTCCCACAAATTGAAGTCACTTTCGATGTCGACTCTAAC\n",
    "GGTATTTTGAATGTTTCCGCCGTCGAAAAGGGTACTGGTAAGTCTAACAAGATCACTATT\n",
    "ACCAACGACAAGGGTAGATTGTCCAAGGAAGATATCGAAAAGATGGTTGCTGAAGCCGAA\n",
    "AAATTCAAGGAAGAAGATGAAAAGGAATCTCAAAGAATTGCTTCCAAGAACCAATTGGAA\n",
    "TCCATTGCTTACTCTTTGAAGAACACCATTTCTGAAGCTGGTGACAAATTGGAACAAGCT\n",
    "GACAAGGACACCGTCACCAAGAAGGCTGAAGAGACTATTTCTTGGTTAGACAGCAACACC\n",
    "ACTGCCAGCAAGGAAGAATTCGATGACAAGTTGAAGGAGTTGCAAGACATTGCCAACCCA\n",
    "ATCATGTCTAAGTTGTACCAAGCTGGTGGTGCTCCAGGTGGCGCTGCAGGTGGTGCTCCA\n",
    "GGCGGTTTCCCAGGTGGTGCTCCTCCAGCTCCAGAGGCTGAAGGTCCAACCGTTGAAGAA\n",
    "GTTGATTAAGCCAATTGGTGCGGCAATTGATAATAACGAAAATGTCTTTTAATGATCTGG\n",
    "GTATAATGAGGAATTTTCCGAACGTTTTTACTTTATATATATATATACATGTAACATATA\n",
    "TTCTATACGCTATAGAGAAAGGAAATTTTTCAATTAAAAAAAAAATAGAGAAAGAGTTTC\n",
    "ACTTCTTGATTATCGCTAACACTAATGGTTGAAGTACTGCTACTTTAATTTTATAGATAG\n",
    "GCAAAAAAAAATTATTCGGGGCGAGCTGGGAATTGAACCCAGGGCCTCTCGCATGCTTTG\n",
    "TCTTCCTGTTTAATCAGGAAGTCGCCCAAAGCGAGAATCATACCACTAGACCACACGCCC\n",
    "GTACTAATTGATGTCTTCCTTTTCGGATAGATGTATATATATACAAATTGGTCAGATTGC\n",
    "TTTTGGCTCCCTTTCGTACGTAACTCATTTAGACTACGGATCACTAGCACTATCTCACCA\n",
    "AGTTTTTAAAAGATCCACTGTGATCATTAAAGATTCTATTTCAAATAAAAATCAATTATC\n",
    "ATCTATCGACTAGTTTTCATGGTACTAGTATATTATCATGTACAGTGTGAGGGCTCGACA\n",
    "TGAAGATTG\"\"\"\n"
   ]
  },
  {
   "cell_type": "code",
   "execution_count": 48,
   "metadata": {
    "collapsed": true
   },
   "outputs": [],
   "source": [
    "dna = dna.replace(\"\\n\",\"\").replace(\"\\r\",\"\")\n",
    "dna = dna[::-1]\n",
    "dna=dna.replace(\"A\",'t').replace('T','a').replace(\"C\",\"g\").replace('G',\"c\")"
   ]
  },
  {
   "cell_type": "code",
   "execution_count": 49,
   "metadata": {
    "collapsed": false
   },
   "outputs": [
    {
     "name": "stdout",
     "output_type": "stream",
     "text": [
      "1105\n"
     ]
    }
   ],
   "source": [
    "ind=dna.find(\"aaagtgact\")\n",
    "print ind"
   ]
  },
  {
   "cell_type": "markdown",
   "metadata": {},
   "source": [
    "This is the starting position for the kmer. Now we can extract 30,150 and 500 bp starting from ind, run blast here https://blast.ncbi.nlm.nih.gov/Blast.cgi?PROGRAM=blastn&PAGE_TYPE=BlastSearch&LINK_LOC=blasthome and compare the results."
   ]
  },
  {
   "cell_type": "code",
   "execution_count": 53,
   "metadata": {
    "collapsed": false
   },
   "outputs": [
    {
     "data": {
      "text/plain": [
       "'aaagtgacttcaatttgtgggacacctctt'"
      ]
     },
     "execution_count": 53,
     "metadata": {},
     "output_type": "execute_result"
    }
   ],
   "source": [
    "dna[ind:ind+30]"
   ]
  },
  {
   "cell_type": "markdown",
   "metadata": {},
   "source": [
    "Two identical sequences are found: chrI and chrXII"
   ]
  },
  {
   "cell_type": "code",
   "execution_count": 54,
   "metadata": {
    "collapsed": false
   },
   "outputs": [
    {
     "data": {
      "text/plain": [
       "'aaagtgacttcaatttgtgggacacctcttggagctggtggaataccactcaattcgaacttacccaacaagttgttgtccttagtcttggctctttcaccttcaaagacttgaatcaagacacctggttggttatcagcataagtggaa'"
      ]
     },
     "execution_count": 54,
     "metadata": {},
     "output_type": "execute_result"
    }
   ],
   "source": [
    "dna[ind:ind+150]"
   ]
  },
  {
   "cell_type": "markdown",
   "metadata": {},
   "source": [
    "There is only one entry in blast that is 100% identical (sequence itself at a position 140008) and another entry that finds similar sequence on chrXII, query cover 97%, identity 99%. If not take it into account then this read can be considered as uniquely mappable."
   ]
  },
  {
   "cell_type": "code",
   "execution_count": 55,
   "metadata": {
    "collapsed": false,
    "scrolled": false
   },
   "outputs": [
    {
     "data": {
      "text/plain": [
       "'aaagtgacttcaatttgtgggacacctcttggagctggtggaataccactcaattcgaacttacccaacaagttgttgtccttagtcttggctctttcaccttcaaagacttgaatcaagacacctggttggttatcagcataagtggaaaagatctcggacttctttgttggaatggtagagtttcttggaatcaacttggtcatgacaccaccagcagtttcaatacccaaggataatggagcgacatccaacaacaatagatcttgagtcttggaagattcgtcaccagtcaaaatagcagcttgaacagcagcaccgtaagcaacagcttcatctgggttgatagatctgtttggttccttaccgttgaagtagtcagtgaccaatttttggacctttggaattctggtagaaccaccgaccaagacaatttcatcgacttgagatttgtccaatttagcatctctcaagaccttttcaactgggtccaaagtaga'"
      ]
     },
     "execution_count": 55,
     "metadata": {},
     "output_type": "execute_result"
    }
   ],
   "source": [
    "dna[ind:ind+500]"
   ]
  },
  {
   "cell_type": "markdown",
   "metadata": {},
   "source": [
    "This sequence was found two times in the genome, 2nd time is on chromosome XII with 98% identity. Since percent mismatches allowed by the GEM program is 4%, this sequence is included into the frequency and mappability scores."
   ]
  },
  {
   "cell_type": "code",
   "execution_count": 1,
   "metadata": {
    "collapsed": true
   },
   "outputs": [],
   "source": [
    "import pandas as pd"
   ]
  },
  {
   "cell_type": "code",
   "execution_count": 2,
   "metadata": {
    "collapsed": true
   },
   "outputs": [],
   "source": [
    "table = pd.DataFrame(columns = (\"position\",\"kmer\",\"GEM-mappability\",\"Blast-mappability\"))"
   ]
  },
  {
   "cell_type": "code",
   "execution_count": 13,
   "metadata": {
    "collapsed": false
   },
   "outputs": [
    {
     "data": {
      "text/html": [
       "<div>\n",
       "<table border=\"1\" class=\"dataframe\">\n",
       "  <thead>\n",
       "    <tr style=\"text-align: right;\">\n",
       "      <th></th>\n",
       "      <th>position</th>\n",
       "      <th>kmer</th>\n",
       "      <th>GEM-mappability</th>\n",
       "      <th>Blast-mappability</th>\n",
       "    </tr>\n",
       "  </thead>\n",
       "  <tbody>\n",
       "    <tr>\n",
       "      <th>1</th>\n",
       "      <td>140008</td>\n",
       "      <td>30</td>\n",
       "      <td>0.50</td>\n",
       "      <td>0.50</td>\n",
       "    </tr>\n",
       "    <tr>\n",
       "      <th>2</th>\n",
       "      <td>140008</td>\n",
       "      <td>150</td>\n",
       "      <td>1.00</td>\n",
       "      <td>1.00</td>\n",
       "    </tr>\n",
       "    <tr>\n",
       "      <th>3</th>\n",
       "      <td>140008</td>\n",
       "      <td>500</td>\n",
       "      <td>0.50</td>\n",
       "      <td>0.50</td>\n",
       "    </tr>\n",
       "    <tr>\n",
       "      <th>4</th>\n",
       "      <td>469317</td>\n",
       "      <td>30</td>\n",
       "      <td>0.25</td>\n",
       "      <td>0.25</td>\n",
       "    </tr>\n",
       "    <tr>\n",
       "      <th>5</th>\n",
       "      <td>469317</td>\n",
       "      <td>150</td>\n",
       "      <td>0.25</td>\n",
       "      <td>0.25</td>\n",
       "    </tr>\n",
       "    <tr>\n",
       "      <th>6</th>\n",
       "      <td>469317</td>\n",
       "      <td>500</td>\n",
       "      <td>0.25</td>\n",
       "      <td>0.25</td>\n",
       "    </tr>\n",
       "  </tbody>\n",
       "</table>\n",
       "</div>"
      ],
      "text/plain": [
       "   position  kmer  GEM-mappability  Blast-mappability\n",
       "1    140008    30             0.50               0.50\n",
       "2    140008   150             1.00               1.00\n",
       "3    140008   500             0.50               0.50\n",
       "4    469317    30             0.25               0.25\n",
       "5    469317   150             0.25               0.25\n",
       "6    469317   500             0.25               0.25"
      ]
     },
     "execution_count": 13,
     "metadata": {},
     "output_type": "execute_result"
    }
   ],
   "source": [
    "table.loc[1]=140008, 30, 0.5, 0.5\n",
    "table.loc[2]=140008, 150, 1, 1\n",
    "table.loc[3]=140008, 500, 0.5, 0.5\n",
    "table[[\"position\",\"kmer\"]]=table[[\"position\",\"kmer\"]].astype(int)\n",
    "table"
   ]
  },
  {
   "cell_type": "markdown",
   "metadata": {},
   "source": [
    "Blast results are the same as the GEM-computed ones"
   ]
  },
  {
   "cell_type": "markdown",
   "metadata": {},
   "source": [
    "#### Chromosome XII, position 469317  \n",
    " <img src=\"../images/yeastchrXII_YLR155C.png\">\n",
    "\n"
   ]
  },
  {
   "cell_type": "markdown",
   "metadata": {},
   "source": [
    "According to the image above the mappability at this position for all the kmers should be the same - 0.25. "
   ]
  },
  {
   "cell_type": "code",
   "execution_count": 4,
   "metadata": {
    "collapsed": true
   },
   "outputs": [],
   "source": [
    "dna2 = \"\"\"ATGAGATCTTTAAATACCCTTTTACTTTCTCTCTTTGTCGCAATGTCCAGTGGTGCTCCA\n",
    "CTACTAAAAATTCGTGAAGAGAAGAATTCTTCTTTGCCATCAATCAAAATTTTTGGTACC\n",
    "GGCGGTACTATCGCTTCCAAGGGTTCGACAAGTGCAACAACGGCGGGTTATAGCGTGGGA\n",
    "TTAACCGTAAATGATTTAATAGAAGCCGTCCCATCTTTAGCTGAGAAGGCAAATCTGGAC\n",
    "TATCTTCAAGTGTCTAACGTTGGTTCAAATTCTTTAAACTATACGCATCTGATCCCATTG\n",
    "TATCACGGTATCTCCGAGGCACTAGCCTCTGATGACTACGCTGGTGCGGTTGTCACTCAT\n",
    "GGGACCGACACTATGGAGGAGACAGCTTTCTTCTTAGATTTGACCATAAATTCAGAGAAG\n",
    "CCAGTATGTATCGCAGGCGCTATGCGTCCAGCCACTGCCACGTCTGCTGATGGCCCAATG\n",
    "AATTTATATCAAGCAGTGTCTATTGCTGCTTCTGAGAAATCACTGGGTCGTGGCACGATG\n",
    "ATCACTCTAAACGATCGTATTGCCTCTGGGTTTTGGACAACGAAAATGAATGCCAACTCT\n",
    "TTAGATACATTCAGAGCGGATGAACAGGGATATTTAGGTTACTTTTCAAATGATGACGTG\n",
    "GAGTTTTACTACCCACCAGTCAAGCCAAATGGATGGCAATTTTTTGACATTTCCAACCTC\n",
    "ACAGACCCTTCGGAAATTCCAGAAGTCATTATTCTGTACTCCTATCAAGGCTTGAATCCT\n",
    "GAGCTAATAGTAAAGGCCGTCAAGGACCTGGGCGCAAAAGGTATCGTGTTGGCGGGTTCT\n",
    "GGAGCTGGTTCCTGGACTGCTACGGGTAGTATTGTAAACGAACAACTTTATGAAGAGTAT\n",
    "GGTATACCAATTGTTCACAGCAGAAGAACAGCAGATGGTACAGTTCCTCCAGATGATGCC\n",
    "CCAGAGTACGCCATTGGATCTGGCTACCTAAACCCTCAAAAATCGCGTATTTTGCTACAA\n",
    "TTATGTTTGTACTCCGGCTACGGCATGGATCAGATTAGGTCTGTTTTTTCTGGCGTCTAC\n",
    "GGTGGTTAA\"\"\""
   ]
  },
  {
   "cell_type": "code",
   "execution_count": 5,
   "metadata": {
    "collapsed": false
   },
   "outputs": [
    {
     "data": {
      "text/plain": [
       "'ttaaccaccgtagacgccagaaaaaacagacctaatctgatccatgccgtagccggagtacaaacataattgtagcaaaatacgcgatttttgagggtttaggtagccagatccaatggcgtactctggggcatcatctggaggaactgtaccatctgctgttcttctgctgtgaacaattggtataccatactcttcataaagttgttcgtttacaatactacccgtagcagtccaggaaccagctccagaacccgccaacacgataccttttgcgcccaggtccttgacggcctttactattagctcaggattcaagccttgataggagtacagaataatgacttctggaatttccgaagggtctgtgaggttggaaatgtcaaaaaattgccatccatttggcttgactggtgggtagtaaaactccacgtcatcatttgaaaagtaacctaaatatccctgttcatccgctctgaatgtatctaaagagttggcattcattttcgttgtccaaaacccagaggcaatacgatcgtttagagtgatcatcgtgccacgacccagtgatttctcagaagcagcaatagacactgcttgatataaattcattgggccatcagcagacgtggcagtggctggacgcatagcgcctgcgatacatactggcttctctgaatttatggtcaaatctaagaagaaagctgtctcctccatagtgtcggtcccatgagtgacaaccgcaccagcgtagtcatcagaggctagtgcctcggagataccgtgatacaatgggatcagatgcgtatagtttaaagaatttgaaccaacgttagacacttgaagatagtccagatttgccttctcagctaaagatgggacggcttctattaaatcatttacggttaatcccacgctataacccgccgttgttgcacttgtcgaacccttggaagcgatagtaccgccggtaccaaaaattttgattgatggcaaagaagaattcttctcttcacgaatttttagtagtggagcaccactggacattgcgacaaagagagaaagtaaaagggtatttaaagatctcat'"
      ]
     },
     "execution_count": 5,
     "metadata": {},
     "output_type": "execute_result"
    }
   ],
   "source": [
    "dna2 = dna2.replace(\"\\n\",\"\").replace(\"\\r\",\"\")\n",
    "dna2 = dna2[::-1]\n",
    "dna2 = dna2.replace(\"A\",'t').replace('T','a').replace(\"C\",\"g\").replace('G',\"c\")\n",
    "dna2"
   ]
  },
  {
   "cell_type": "code",
   "execution_count": 6,
   "metadata": {
    "collapsed": false
   },
   "outputs": [
    {
     "name": "stdout",
     "output_type": "stream",
     "text": [
      "0\n"
     ]
    }
   ],
   "source": [
    "ind2=dna2.find(\"ttaaccacc\")\n",
    "print ind2"
   ]
  },
  {
   "cell_type": "code",
   "execution_count": 7,
   "metadata": {
    "collapsed": false
   },
   "outputs": [
    {
     "data": {
      "text/plain": [
       "'ttaaccaccgtagacgccagaaaaaacaga'"
      ]
     },
     "execution_count": 7,
     "metadata": {},
     "output_type": "execute_result"
    }
   ],
   "source": [
    "dna2[ind2:ind2+30]"
   ]
  },
  {
   "cell_type": "markdown",
   "metadata": {},
   "source": [
    "The expected mappability is 0.25, nucleotide blast finds 4 identical sequences within the chromosome XII. To find out positions of this sequences click on __TPA: Saccharomyces cerevisiae S288C chromosome XII, complete sequence__, all entries are listed in a position ascending order."
   ]
  },
  {
   "cell_type": "code",
   "execution_count": 8,
   "metadata": {
    "collapsed": false
   },
   "outputs": [
    {
     "data": {
      "text/plain": [
       "'ttaaccaccgtagacgccagaaaaaacagacctaatctgatccatgccgtagccggagtacaaacataattgtagcaaaatacgcgatttttgagggtttaggtagccagatccaatggcgtactctggggcatcatctggaggaactgt'"
      ]
     },
     "execution_count": 8,
     "metadata": {},
     "output_type": "execute_result"
    }
   ],
   "source": [
    "dna2[ind2:ind2+150]"
   ]
  },
  {
   "cell_type": "code",
   "execution_count": 9,
   "metadata": {
    "collapsed": false
   },
   "outputs": [
    {
     "data": {
      "text/plain": [
       "'ttaaccaccgtagacgccagaaaaaacagacctaatctgatccatgccgtagccggagtacaaacataattgtagcaaaatacgcgatttttgagggtttaggtagccagatccaatggcgtactctggggcatcatctggaggaactgtaccatctgctgttcttctgctgtgaacaattggtataccatactcttcataaagttgttcgtttacaatactacccgtagcagtccaggaaccagctccagaacccgccaacacgataccttttgcgcccaggtccttgacggcctttactattagctcaggattcaagccttgataggagtacagaataatgacttctggaatttccgaagggtctgtgaggttggaaatgtcaaaaaattgccatccatttggcttgactggtgggtagtaaaactccacgtcatcatttgaaaagtaacctaaatatccctgttcatccgctctgaatgtatctaaagagttggcat'"
      ]
     },
     "execution_count": 9,
     "metadata": {},
     "output_type": "execute_result"
    }
   ],
   "source": [
    "dna2[ind2:ind2+500]"
   ]
  },
  {
   "cell_type": "markdown",
   "metadata": {},
   "source": [
    "With blast we find 4 entries for each kmer which corresponds to the GEM-mappability of 0.25; the results seem to be correct."
   ]
  },
  {
   "cell_type": "code",
   "execution_count": 14,
   "metadata": {
    "collapsed": false
   },
   "outputs": [
    {
     "data": {
      "text/html": [
       "<div>\n",
       "<table border=\"1\" class=\"dataframe\">\n",
       "  <thead>\n",
       "    <tr style=\"text-align: right;\">\n",
       "      <th></th>\n",
       "      <th>position</th>\n",
       "      <th>kmer</th>\n",
       "      <th>GEM-mappability</th>\n",
       "      <th>Blast-mappability</th>\n",
       "    </tr>\n",
       "  </thead>\n",
       "  <tbody>\n",
       "    <tr>\n",
       "      <th>1</th>\n",
       "      <td>140008</td>\n",
       "      <td>30</td>\n",
       "      <td>0.50</td>\n",
       "      <td>0.50</td>\n",
       "    </tr>\n",
       "    <tr>\n",
       "      <th>2</th>\n",
       "      <td>140008</td>\n",
       "      <td>150</td>\n",
       "      <td>1.00</td>\n",
       "      <td>1.00</td>\n",
       "    </tr>\n",
       "    <tr>\n",
       "      <th>3</th>\n",
       "      <td>140008</td>\n",
       "      <td>500</td>\n",
       "      <td>0.50</td>\n",
       "      <td>0.50</td>\n",
       "    </tr>\n",
       "    <tr>\n",
       "      <th>4</th>\n",
       "      <td>469317</td>\n",
       "      <td>30</td>\n",
       "      <td>0.25</td>\n",
       "      <td>0.25</td>\n",
       "    </tr>\n",
       "    <tr>\n",
       "      <th>5</th>\n",
       "      <td>469317</td>\n",
       "      <td>150</td>\n",
       "      <td>0.25</td>\n",
       "      <td>0.25</td>\n",
       "    </tr>\n",
       "    <tr>\n",
       "      <th>6</th>\n",
       "      <td>469317</td>\n",
       "      <td>500</td>\n",
       "      <td>0.25</td>\n",
       "      <td>0.25</td>\n",
       "    </tr>\n",
       "  </tbody>\n",
       "</table>\n",
       "</div>"
      ],
      "text/plain": [
       "   position  kmer  GEM-mappability  Blast-mappability\n",
       "1    140008    30             0.50               0.50\n",
       "2    140008   150             1.00               1.00\n",
       "3    140008   500             0.50               0.50\n",
       "4    469317    30             0.25               0.25\n",
       "5    469317   150             0.25               0.25\n",
       "6    469317   500             0.25               0.25"
      ]
     },
     "execution_count": 14,
     "metadata": {},
     "output_type": "execute_result"
    }
   ],
   "source": [
    "table.loc[4]=469317, 30, 0.25, 0.25\n",
    "table.loc[5]=469317, 150, 0.25, 0.25\n",
    "table.loc[6]=469317, 500, 0.25, 0.25\n",
    "table[[\"position\",\"kmer\"]]=table[[\"position\",\"kmer\"]].astype(int)\n",
    "table"
   ]
  },
  {
   "cell_type": "markdown",
   "metadata": {},
   "source": [
    "## Mappability of the human chrY"
   ]
  },
  {
   "cell_type": "markdown",
   "metadata": {},
   "source": [
    "<img src=\"../images/humanChrYMappability.png\">"
   ]
  },
  {
   "cell_type": "markdown",
   "metadata": {
    "collapsed": true
   },
   "source": [
    "To find out positions of the gaps use UCSC table browser http://genome.ucsc.edu/cgi-bin/hgTables (__group__: mapping and sequencing, __track__: gap).  According to the table the biggest gap is heterochromatin spanning the region 26'673'214-56'673'214, which is 30'000'000 bp long. Centromere is at the position 10'316'944-10'544'039. This regions appear unmappable also in IGV."
   ]
  }
 ],
 "metadata": {
  "anaconda-cloud": {},
  "kernelspec": {
   "display_name": "Python [conda env:python2]",
   "language": "python",
   "name": "conda-env-python2-py"
  },
  "language_info": {
   "codemirror_mode": {
    "name": "ipython",
    "version": 2
   },
   "file_extension": ".py",
   "mimetype": "text/x-python",
   "name": "python",
   "nbconvert_exporter": "python",
   "pygments_lexer": "ipython2",
   "version": "2.7.13"
  }
 },
 "nbformat": 4,
 "nbformat_minor": 1
}
