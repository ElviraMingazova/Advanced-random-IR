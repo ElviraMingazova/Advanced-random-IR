{
 "cells": [
  {
   "cell_type": "markdown",
   "metadata": {},
   "source": [
    "# Advanced random IS\n",
    "Stage: model Zero - a simple model  \n",
    "This is a tool to generate random integration sites on a hg38 for AAV-vector"
   ]
  },
  {
   "cell_type": "markdown",
   "metadata": {},
   "source": [
    "#### Authors: \n",
    "Elvira Mingazova, Saira Afzal, Raffaele Fronza 2017\n",
    "#### Parameters:\n",
    "n - number of random intervals  \n",
    "r - range  \n",
    "d - delta"
   ]
  },
  {
   "cell_type": "markdown",
   "metadata": {},
   "source": [
    "First we want to make the input of the parameters possible. For that reason we use sys and argparse modules\n",
    "(inspired by https://dmorgan.info/posts/argparse-intro/)"
   ]
  },
  {
   "cell_type": "code",
   "execution_count": 18,
   "metadata": {
    "collapsed": false,
    "scrolled": true
   },
   "outputs": [
    {
     "data": {
      "text/plain": [
       "_StoreAction(option_strings=['-d'], dest='d', nargs=None, const=None, default=None, type=<type 'int'>, choices=None, help='Delta-value: expands the range with the value provided by user', metavar=None)"
      ]
     },
     "execution_count": 18,
     "metadata": {},
     "output_type": "execute_result"
    }
   ],
   "source": [
    "#parser setup\n",
    "import sys\n",
    "import argparse\n",
    "parser = argparse.ArgumentParser()\n",
    "parser.prog = 'progName.py'\n",
    "parser.description = 'You can provide the program with three parameters through the terminal'\n",
    "parser.add_argument(\"-n\", type=int, help='Number of integration sites generated')\n",
    "parser.add_argument(\"-r\", type=int, help='Range-value: defines an interval where the IS is located')\n",
    "parser.add_argument(\"-d\", type=int, help='Delta-value: expands the range with the value provided by user')"
   ]
  },
  {
   "cell_type": "code",
   "execution_count": 19,
   "metadata": {
    "collapsed": false
   },
   "outputs": [
    {
     "name": "stdout",
     "output_type": "stream",
     "text": [
      "usage: progName.py [-h] [-n N] [-r R] [-d D]\n",
      "\n",
      "You can provide the program with three parameters through the terminal\n",
      "\n",
      "optional arguments:\n",
      "  -h, --help  show this help message and exit\n",
      "  -n N        Number of integration sites generated\n",
      "  -r R        Range-value: defines an interval where the IS is located\n",
      "  -d D        Delta-value: expands the range with the value provided by user\n"
     ]
    },
    {
     "ename": "SystemExit",
     "evalue": "0",
     "output_type": "error",
     "traceback": [
      "An exception has occurred, use %tb to see the full traceback.\n",
      "\u001b[0;31mSystemExit\u001b[0m\u001b[0;31m:\u001b[0m 0\n"
     ]
    }
   ],
   "source": [
    "parser.parse_args(['--help'])"
   ]
  },
  {
   "cell_type": "markdown",
   "metadata": {},
   "source": [
    "Now we are ready to parse some arguments. The parse_args method expects a list of strings to use as input. Typically, this list will come from sys.argv(input from the terminal) but in Jupyter Notebook you just have to provide the code with the parameters of your choice right inside of the cell. For instance:"
   ]
  },
  {
   "cell_type": "code",
   "execution_count": 3,
   "metadata": {
    "collapsed": false
   },
   "outputs": [
    {
     "name": "stdout",
     "output_type": "stream",
     "text": [
      "Namespace(d=1, n=5, r=0)\n"
     ]
    }
   ],
   "source": [
    "namespace=parser.parse_args('-n 5 -r 0 -d 1'.split())\n",
    "print namespace"
   ]
  },
  {
   "cell_type": "markdown",
   "metadata": {},
   "source": [
    "The parameters will be stored in a Namespace object. Each parameter is accessible through namespace.n, namespace.r or namespace.d. In this example the following values are assigned to the parameters: namespace.n=4, namespace.r=0 and namespace.d=1"
   ]
  },
  {
   "cell_type": "markdown",
   "metadata": {},
   "source": [
    "Now we are ready to set up the random model Zero:"
   ]
  },
  {
   "cell_type": "code",
   "execution_count": 26,
   "metadata": {
    "collapsed": false
   },
   "outputs": [
    {
     "name": "stdout",
     "output_type": "stream",
     "text": [
      "chr   # \tStart \t\tEnd \t\trnd #\n",
      "chr  20 \t30591710 \t30591711 \trnd 1\n",
      "chr  18 \t60218260 \t60218261 \trnd 2\n",
      "chr  15 \t54590444 \t54590445 \trnd 3\n",
      "chr   2 \t70629299 \t70629300 \trnd 4\n",
      "chr   2 \t188315716 \t188315717 \trnd 5\n"
     ]
    }
   ],
   "source": [
    "import random\n",
    "#create a dictionary for the chromosoms lengths\n",
    "chrLen = {}\n",
    "chrLen[1]=224999719\n",
    "chrLen[2]=237712649\n",
    "chrLen[3]=194704827\n",
    "chrLen[4]=187297063\n",
    "chrLen[5]=177702766\n",
    "chrLen[6]=167273993\n",
    "chrLen[7]=154952424\n",
    "chrLen[8]=142612826\n",
    "chrLen[9]=120312298\n",
    "chrLen[10]=131624737\n",
    "chrLen[11]=131130853\n",
    "chrLen[12]=130303534\n",
    "chrLen[13]=95559980\n",
    "chrLen[14]=88290585\n",
    "chrLen[15]=81341915\n",
    "chrLen[16]=78884754\n",
    "chrLen[17]=77800220\n",
    "chrLen[18]=74656155\n",
    "chrLen[19]=55785651\n",
    "chrLen[20]=59505254\n",
    "chrLen[21]=34171998\n",
    "chrLen[22]=34893953\n",
    "chrLen[23]=151058754\n",
    "chrLen[24]=57741652 #is that number true? 57741652i was written in getRegion.awk\n",
    "#define a count variable to visualise the order number of the output line\n",
    "count = 1\n",
    "#loop on n random IS\n",
    "print \"chr   #\", '\\t', 'Start', '\\t\\t', 'End', '\\t\\trnd #'\n",
    "for i in range(namespace.n):\n",
    "    #select a chromosome\n",
    "    chrom = random.randint(1,24) #the name \"chrom\" was chosen because \"chr\" is a built-in function\n",
    "\n",
    "    #select a site on that chromosome\n",
    "    start = random.randint(1,chrLen[chrom])\n",
    "\n",
    "    #select a random region\n",
    "    end = start + random.randint(0,namespace.r) + namespace.d\n",
    "    if len(str(chrom))==1:\n",
    "        print \"chr  \",chrom, \"\\t\", start, \"\\t\", end, \"\\trnd\", count\n",
    "    else:\n",
    "        print \"chr \", chrom, \"\\t\", start, \"\\t\", end, \"\\trnd\", count\n",
    "    count +=1"
   ]
  },
  {
   "cell_type": "markdown",
   "metadata": {
    "collapsed": true
   },
   "source": [
    "In this example the program calculated 5 random integration sites."
   ]
  },
  {
   "cell_type": "markdown",
   "metadata": {},
   "source": [
    "Now that argparse is taking care of the input validation, we can make a script, store it in the .py file and run it through the terminal."
   ]
  },
  {
   "cell_type": "markdown",
   "metadata": {},
   "source": [
    "### Making a script"
   ]
  },
  {
   "cell_type": "code",
   "execution_count": 35,
   "metadata": {
    "collapsed": false
   },
   "outputs": [
    {
     "name": "stdout",
     "output_type": "stream",
     "text": [
      "Overwriting getRegion.py\n"
     ]
    }
   ],
   "source": [
    "%%writefile getRegion.py\n",
    "import sys\n",
    "import argparse\n",
    "parser = argparse.ArgumentParser()\n",
    "parser.prog = 'progName.py'\n",
    "parser.description = 'You can provide the program with three parameters through the terminal'\n",
    "parser.add_argument(\"-n\", type=int, help='Number of integration sites generated')\n",
    "parser.add_argument(\"-r\", type=int, help='Range-value: defines an interval where the IS is located')\n",
    "parser.add_argument(\"-d\", type=int, help='Delta-value: expands the range with the value provided by user')\n",
    "\n",
    "#input parsing\n",
    "namespace = parser.parse_args((sys.argv[1:]))\n",
    "#create a dictionary for the chromosoms lengths\n",
    "import random\n",
    "chrLen = {}\n",
    "chrLen[1]=224999719\n",
    "chrLen[2]=237712649\n",
    "chrLen[3]=194704827\n",
    "chrLen[4]=187297063\n",
    "chrLen[5]=177702766\n",
    "chrLen[6]=167273993\n",
    "chrLen[7]=154952424\n",
    "chrLen[8]=142612826\n",
    "chrLen[9]=120312298\n",
    "chrLen[10]=131624737\n",
    "chrLen[11]=131130853\n",
    "chrLen[12]=130303534\n",
    "chrLen[13]=95559980\n",
    "chrLen[14]=88290585\n",
    "chrLen[15]=81341915\n",
    "chrLen[16]=78884754\n",
    "chrLen[17]=77800220\n",
    "chrLen[18]=74656155\n",
    "chrLen[19]=55785651\n",
    "chrLen[20]=59505254\n",
    "chrLen[21]=34171998\n",
    "chrLen[22]=34893953\n",
    "chrLen[23]=151058754\n",
    "chrLen[24]=57741652\n",
    "count = 1\n",
    "#loop on n random IS\n",
    "print \"chr   #\", '\\t', 'Start', '\\t\\t', 'End', '\\t\\trnd #'\n",
    "for i in range(namespace.n):\n",
    "    #select a chromosome\n",
    "    chrom = random.randint(1,24) #the name \"chrom\" was chosen because \"chr\" is a built-in function\n",
    "\n",
    "    #select a site on that chromosome\n",
    "    start = random.randint(1,chrLen[chrom])\n",
    "\n",
    "    #select a random region\n",
    "    end = start + random.randint(0,namespace.r) + namespace.d\n",
    "    if len(str(chrom))==1:\n",
    "        print \"chr  \",chrom, \"\\t\", start, \"\\t\", end, \"\\trnd\", count\n",
    "    else:\n",
    "        print \"chr \", chrom, \"\\t\", start, \"\\t\", end, \"\\trnd\", count\n",
    "    count +=1"
   ]
  },
  {
   "cell_type": "markdown",
   "metadata": {},
   "source": [
    "The contents of the script will be saved in a filename.py using the magic function %%writefile. Now we can run this script in the terminal."
   ]
  },
  {
   "cell_type": "code",
   "metadata": {},
   "source": [
    "$ python getRegion.py -n 5 -r 0 -d 1\n",
    "chr   #         Start           End             rnd #\n",
    "chr  14         13705298        13705299        rnd 1\n",
    "chr   7         16256478        16256479        rnd 2\n",
    "chr  16         72191862        72191863        rnd 3\n",
    "chr  23         47153563        47153564        rnd 4\n",
    "chr  17         58457521        58457522        rnd 5"
   ]
  }
 ],
 "metadata": {
  "kernelspec": {
   "display_name": "Python 2",
   "language": "python",
   "name": "python2"
  },
  "language_info": {
   "codemirror_mode": {
    "name": "ipython",
    "version": 2
   },
   "file_extension": ".py",
   "mimetype": "text/x-python",
   "name": "python",
   "nbconvert_exporter": "python",
   "pygments_lexer": "ipython2",
   "version": "2.7.13"
  }
 },
 "nbformat": 4,
 "nbformat_minor": 2
}
